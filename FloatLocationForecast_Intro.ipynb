{
 "cells": [
  {
   "cell_type": "markdown",
   "id": "5ed3cd6f",
   "metadata": {},
   "source": [
    "# Introduction to the float location forecast API"
   ]
  },
  {
   "cell_type": "markdown",
   "id": "226c585c",
   "metadata": {},
   "source": [
    "Argovis provides an API that indexes and distributes Argo float location forecast data provided by [citation needed]. This data is similar, but not identical, to many of our other products; this notebook will highlight some of the details specific to this dataset."
   ]
  },
  {
   "cell_type": "markdown",
   "id": "72bf6827",
   "metadata": {},
   "source": [
    "## Setup: Register an API key"
   ]
  },
  {
   "cell_type": "markdown",
   "id": "8a1714b9",
   "metadata": {},
   "source": [
    "In order to allocate Argovis's limited computing resources fairly, users are encouraged to register and request a free API key. This works like a password that identifies your requests to Argovis. To do so:\n",
    "\n",
    " - Visit [https://argovisbeta02.colorado.edu/api/](https://argovisbeta02.colorado.edu/api/)\n",
    " - Fill out the form under _New Account Registration_\n",
    " - An API key will be emailed to you shortly.\n",
    " \n",
    "Treat this API key like a password - don't share it or leave it anywhere public. If you ever forget it or accidentally reveal it to a third party, see the same website above to change or deactivate your token.\n",
    "\n",
    "Put your API key in the quotes in the variable below before moving on:"
   ]
  },
  {
   "cell_type": "code",
   "execution_count": 14,
   "id": "f2779746",
   "metadata": {},
   "outputs": [],
   "source": [
    "API_ROOT='https://argovisbeta01.colorado.edu/api/'\n",
    "API_KEY=''\n",
    "\n",
    "from argovisHelpers import helpers as avh\n",
    "import xarray, pandas"
   ]
  },
  {
   "cell_type": "markdown",
   "id": "f30b4b21",
   "metadata": {},
   "source": [
    "# Float location forecast data structure"
   ]
  },
  {
   "cell_type": "markdown",
   "id": "c4bfd807",
   "metadata": {},
   "source": [
    "Let's begin by looking at a float location forecast document. The `forecastOrigin` key will query the forecast for a float starting at the provided longitude, latitude string, in this case `-178,-44`"
   ]
  },
  {
   "cell_type": "code",
   "execution_count": 27,
   "id": "808f3a6f",
   "metadata": {
    "scrolled": true
   },
   "outputs": [
    {
     "data": {
      "text/plain": [
       "{'_id': '0_0_4.0_2.0',\n",
       " 'metadata': ['covariance'],\n",
       " 'geolocation': {'type': 'Point', 'coordinates': [0, 0]},\n",
       " 'geolocation_forecast': {'type': 'Point', 'coordinates': [4, 2]},\n",
       " 'data': {'90': [0.009900990099009901],\n",
       "  '180': [0.03405160724741988],\n",
       "  '270': [0.04956754199295427],\n",
       "  '360': [0.05948650384673002],\n",
       "  '450': [0.0663307006088664],\n",
       "  '540': [0.07135912475650255],\n",
       "  '630': [0.07520771246643217],\n",
       "  '720': [0.07833668278068537],\n",
       "  '810': [0.08100314063851324],\n",
       "  '900': [0.08337085350980915],\n",
       "  '990': [0.08544199197012702],\n",
       "  '1080': [0.08737129343122252],\n",
       "  '1170': [0.08915896050668626],\n",
       "  '1260': [0.09074491127323195],\n",
       "  '1350': [0.09216336142599299],\n",
       "  '1440': [0.09350026923791804],\n",
       "  '1530': [0.09463018015192085],\n",
       "  '1620': [0.09561737994105597],\n",
       "  '1710': [0.09651325494062109],\n",
       "  '1800': [0.09729675227422761]},\n",
       " 'data_keys': ['90',\n",
       "  '180',\n",
       "  '270',\n",
       "  '360',\n",
       "  '450',\n",
       "  '540',\n",
       "  '630',\n",
       "  '720',\n",
       "  '810',\n",
       "  '900',\n",
       "  '990',\n",
       "  '1080',\n",
       "  '1170',\n",
       "  '1260',\n",
       "  '1350',\n",
       "  '1440',\n",
       "  '1530',\n",
       "  '1620',\n",
       "  '1710',\n",
       "  '1800']}"
      ]
     },
     "execution_count": 27,
     "metadata": {},
     "output_type": "execute_result"
    }
   ],
   "source": [
    "flfSearch = {\n",
    "    'forecastOrigin':'0,0',\n",
    "    'data': 'all'\n",
    "}\n",
    "\n",
    "flf = avh.query('floatLocationForecast', options=flfSearch, apikey=API_KEY, apiroot=API_ROOT)\n",
    "flf[1]"
   ]
  },
  {
   "cell_type": "markdown",
   "id": "4ca578f8",
   "metadata": {},
   "source": [
    "We get an array of documents like the one illustrated above. These documents follow the conventions of Argovis' gridded documents, with the following modifications:\n",
    "\n",
    " - `geolocation` specifies the location of the float at the beginning of the forecast. Valid locations are lattice points of a 2 degree square grid centered on 0,0.\n",
    " - `geolocation_forecast` specifies the location of the float at the end of the forecast. These are populated over the same 2 degree grid as `geolocation`.\n",
    " - No `timestamp` key is present: these forecasts do not take into account seasonal or long term variations, and so have no meaningful timestamp to associate with them.\n",
    " - Data variables cover [90,1800] in steps of 90, and indicate number of days each forecast point covers. For example, the above document indicates that a float initially at 0,0 will have a 0.1% chance of being found in the 4,2 grid cell after 90 days, or 9.7% after 1800 days.\n",
    " \n",
    "The array of documents `flf` found above contains a document for every possible destination endpoint, for all 20 timesteps. The `floatLocationForecast` endpoint supports the same `data` query string behavior as other Argovis API endpoints (as always, see [https://argovisbeta01.colorado.edu/api/docs/](https://argovisbeta01.colorado.edu/api/docs/) for always-up-to-date API documentation for all routes). For example, let's get only the 90 day forecast:"
   ]
  },
  {
   "cell_type": "code",
   "execution_count": 28,
   "id": "5bd28a70",
   "metadata": {},
   "outputs": [
    {
     "data": {
      "text/plain": [
       "{'_id': '0_0_4.0_2.0',\n",
       " 'metadata': ['covariance'],\n",
       " 'geolocation': {'type': 'Point', 'coordinates': [0, 0]},\n",
       " 'geolocation_forecast': {'type': 'Point', 'coordinates': [4, 2]},\n",
       " 'data': {'90': [0.009900990099009901]},\n",
       " 'data_keys': ['90']}"
      ]
     },
     "execution_count": 28,
     "metadata": {},
     "output_type": "execute_result"
    }
   ],
   "source": [
    "flfSearch90 = {\n",
    "    'forecastOrigin':'0,0',\n",
    "    'data': '90'\n",
    "}\n",
    "\n",
    "flf90 = avh.query('floatLocationForecast', options=flfSearch90, apikey=API_KEY, apiroot=API_ROOT)\n",
    "flf90[1]"
   ]
  },
  {
   "cell_type": "markdown",
   "id": "d0a4674c",
   "metadata": {},
   "source": [
    "We can also look backwards in time by querying all documents that have an endpoint of a given longitude, latitude with `forecastGeolocation`:"
   ]
  },
  {
   "cell_type": "code",
   "execution_count": 29,
   "id": "54fda42a",
   "metadata": {},
   "outputs": [
    {
     "data": {
      "text/plain": [
       "{'_id': '-40_4_4.0_2.0',\n",
       " 'metadata': ['covariance'],\n",
       " 'geolocation': {'type': 'Point', 'coordinates': [-40, 4]},\n",
       " 'geolocation_forecast': {'type': 'Point', 'coordinates': [4, 2]},\n",
       " 'data': {'90': [None],\n",
       "  '180': [None],\n",
       "  '270': [None],\n",
       "  '360': [None],\n",
       "  '450': [None],\n",
       "  '540': [None],\n",
       "  '630': [None],\n",
       "  '720': [None],\n",
       "  '810': [None],\n",
       "  '900': [None],\n",
       "  '990': [None],\n",
       "  '1080': [None],\n",
       "  '1170': [None],\n",
       "  '1260': [None],\n",
       "  '1350': [None],\n",
       "  '1440': [None],\n",
       "  '1530': [None],\n",
       "  '1620': [None],\n",
       "  '1710': [9.96644668882902e-05],\n",
       "  '1800': [0.00014877124186947924]},\n",
       " 'data_keys': ['90',\n",
       "  '180',\n",
       "  '270',\n",
       "  '360',\n",
       "  '450',\n",
       "  '540',\n",
       "  '630',\n",
       "  '720',\n",
       "  '810',\n",
       "  '900',\n",
       "  '990',\n",
       "  '1080',\n",
       "  '1170',\n",
       "  '1260',\n",
       "  '1350',\n",
       "  '1440',\n",
       "  '1530',\n",
       "  '1620',\n",
       "  '1710',\n",
       "  '1800']}"
      ]
     },
     "execution_count": 29,
     "metadata": {},
     "output_type": "execute_result"
    }
   ],
   "source": [
    "flfSearchReverse = {\n",
    "    'forecastGeolocation':'4,2',\n",
    "    'data': 'all'\n",
    "}\n",
    "\n",
    "flfReverse = avh.query('floatLocationForecast', options=flfSearchReverse, apikey=API_KEY, apiroot=API_ROOT)\n",
    "flfReverse[1]"
   ]
  },
  {
   "cell_type": "markdown",
   "id": "c296428d",
   "metadata": {},
   "source": [
    "We can also fairly easily turn this information into an xarray data set, and plot it:"
   ]
  },
  {
   "cell_type": "code",
   "execution_count": 30,
   "id": "ccc6c907",
   "metadata": {},
   "outputs": [],
   "source": [
    "def flfgrid(originlist):\n",
    "    # given a list of documents from the argovis float location forecast API for a single float origin,\n",
    "    # return an xarray object representing this data:\n",
    "\n",
    "    lon = []\n",
    "    lat = []\n",
    "    forecastDays = []\n",
    "    prob = []\n",
    "    for doc in originlist:\n",
    "        for key, value in doc['data'].items():\n",
    "            lon.append(doc['geolocation_forecast']['coordinates'][0])\n",
    "            lat.append(doc['geolocation_forecast']['coordinates'][1])\n",
    "            forecastDays.append(int(key))\n",
    "            prob.append(value[0])\n",
    "            \n",
    "    df = pandas.DataFrame({\"latitude\": lat, \n",
    "                           \"longitude\": lon, \n",
    "                           \"forecastDays\": forecastDays, \n",
    "                           \"probability\": prob\n",
    "                          }).set_index([\"latitude\",\"longitude\",\"forecastDays\"])\n",
    "    return df.to_xarray()\n",
    "    "
   ]
  },
  {
   "cell_type": "code",
   "execution_count": 31,
   "id": "bafffb37",
   "metadata": {},
   "outputs": [],
   "source": [
    "ds = flfgrid(flf)"
   ]
  },
  {
   "cell_type": "code",
   "execution_count": 32,
   "id": "a7770d0c",
   "metadata": {},
   "outputs": [
    {
     "data": {
      "text/plain": [
       "<matplotlib.collections.QuadMesh at 0x7f83acbc7700>"
      ]
     },
     "execution_count": 32,
     "metadata": {},
     "output_type": "execute_result"
    },
    {
     "data": {
      "image/png": "[encoded data removed]",
      "text/plain": [
       "<Figure size 432x288 with 2 Axes>"
      ]
     },
     "metadata": {
      "needs_background": "light"
     },
     "output_type": "display_data"
    }
   ],
   "source": [
    "gridmap = ds.loc[{\"forecastDays\":90}]\n",
    "gridmap['probability'].plot()"
   ]
  },
  {
   "cell_type": "code",
   "execution_count": null,
   "id": "7cd210d7",
   "metadata": {},
   "outputs": [],
   "source": []
  }
 ],
 "metadata": {
  "kernelspec": {
   "display_name": "argovis_demos",
   "language": "python",
   "name": "argovis_demos"
  },
  "language_info": {
   "codemirror_mode": {
    "name": "ipython",
    "version": 3
   },
   "file_extension": ".py",
   "mimetype": "text/x-python",
   "name": "python",
   "nbconvert_exporter": "python",
   "pygments_lexer": "ipython3",
   "version": "3.9.12"
  },
  "toc": {
   "base_numbering": 1,
   "nav_menu": {},
   "number_sections": true,
   "sideBar": true,
   "skip_h1_title": false,
   "title_cell": "Table of Contents",
   "title_sidebar": "Contents",
   "toc_cell": false,
   "toc_position": {},
   "toc_section_display": true,
   "toc_window_display": false
  }
 },
 "nbformat": 4,
 "nbformat_minor": 5
}
