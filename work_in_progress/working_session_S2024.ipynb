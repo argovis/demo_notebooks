{
 "cells": [
  {
   "cell_type": "markdown",
   "id": "4fa41e80",
   "metadata": {},
   "source": [
    "# Working session S2024\n",
    "\n",
    "This notebook contains some examples and is a work in progress: code will transition from here to other notebooks. Public consumers should focus on our educational notebooks, starting with [Intro to Argovis](https://github.com/argovis/demo_notebooks/blob/main/Intro_to_Argovis.ipynb)."
   ]
  },
  {
   "cell_type": "code",
   "execution_count": 1,
   "id": "0c3d77a0",
   "metadata": {},
   "outputs": [
    {
     "name": "stdout",
     "output_type": "stream",
     "text": [
      "/Users/dgiglio/Work/code/giglio/Argovis_newAPI/demo_notebooks\n"
     ]
    },
    {
     "name": "stderr",
     "output_type": "stream",
     "text": [
      "/Users/dgiglio/opt/miniconda3/envs/argovis_demos/lib/python3.9/site-packages/xarray/backends/cfgrib_.py:27: UserWarning: Failed to load cfgrib - most likely there is a problem accessing the ecCodes library. Try `import cfgrib` to get the full error message\n",
      "  warnings.warn(\n"
     ]
    },
    {
     "name": "stdout",
     "output_type": "stream",
     "text": [
      "/Users/dgiglio/Work/code/giglio/Argovis_newAPI/demo_notebooks/work_in_progress\n"
     ]
    }
   ],
   "source": [
    "from argovisHelpers import helpers as avh\n",
    "import datetime, pandas, matplotlib, scipy, numpy\n",
    "import numpy as np\n",
    "import matplotlib.pyplot as plt\n",
    "from matplotlib import cm\n",
    "\n",
    "import dateutil\n",
    "\n",
    "%cd ../\n",
    "from Exploring_Argo_BGC_with_Argovis_helpers import interpolate\n",
    "import helpers\n",
    "%cd work_in_progress\n",
    "\n",
    "API_ROOT='https://argovis-api.colorado.edu/'\n",
    "API_KEY=''"
   ]
  },
  {
   "cell_type": "code",
   "execution_count": 6,
   "id": "b022d47e",
   "metadata": {},
   "outputs": [],
   "source": [
    "# get doxy profiles in a region and time period of interest\n",
    "\n",
    "variable             = 'doxy' # variable name in Argo profiles\n",
    "variable_gridded     = 'oxygen' # variable name in glodap gridded product\n",
    "product_gridded      = 'glodap'\n",
    "variable_title       = 'Oxygen, umol/kg'\n",
    "\n",
    "variable             = 'temperature' # variable name in Argo profiles\n",
    "variable_gridded     = 'rg09_temperature' # variable name in glodap gridded product\n",
    "product_gridded      = 'rg09'\n",
    "variable_title       = 'Temperature, degC'\n",
    "\n",
    "# levels for vertically integrated profiles\n",
    "interp_levels        = list(range(10,2001))[0::20]\n",
    "\n",
    "# in this example, we will use the 'box' selection (in the next cell),\n",
    "# hence we indicate here the bottom/left and top/right vertices... \n",
    "# the other option is to search in a 'polygon' and indicate here the polygon\n",
    "# vertices in a list\n",
    "box_regions_list     = [\n",
    "                        [[-45,45],[-40,50]],\n",
    "                        ]\n",
    "\n",
    "startDate            = '2022-01-01T00:00:00Z'\n",
    "endDate              = '2022-12-31T00:00:00Z'\n",
    "\n",
    "# box_regions_list     = [\n",
    "#                         [[-78,45],[-10,50]],\n",
    "#                         [[-180,45],[-127,50]],\n",
    "#                         ]"
   ]
  },
  {
   "cell_type": "code",
   "execution_count": 3,
   "id": "c055a557",
   "metadata": {},
   "outputs": [
    {
     "name": "stdout",
     "output_type": "stream",
     "text": [
      "Mon Mar 25 16:26:50 MDT 2024\n",
      "Mon Mar 25 16:27:50 MDT 2024\n"
     ]
    },
    {
     "data": {
      "image/png": "[encoded data removed]",
      "text/plain": [
       "<Figure size 432x288 with 1 Axes>"
      ]
     },
     "metadata": {
      "needs_background": "light"
     },
     "output_type": "display_data"
    }
   ],
   "source": [
    "!date\n",
    "\n",
    "regions_list_data                 = []\n",
    "regions_list_data_noave           = []\n",
    "regions_list_data_levels          = []\n",
    "regions_list_data_noave_nointerp  = []\n",
    "regions_list_data_grid_axarray    = []\n",
    "############ Get the data for each of the regions of interest\n",
    "for ireg in box_regions_list:\n",
    "    ###### get profiles in region using Argovis API: query only values with QC = 1\n",
    "    argo = {\n",
    "            'startDate': startDate,\n",
    "            'endDate': endDate,\n",
    "            'box': ireg,\n",
    "            'data': variable+',1'\n",
    "            } # querying only profiles that have good qc doxy \n",
    "            # 'polygon': ireg,\n",
    "\n",
    "    profiles = avh.query('argo', options=argo, apikey=API_KEY, apiroot=API_ROOT) \n",
    "    \n",
    "    ###### store data as is and interpolated\n",
    "    if len(profiles)>0:\n",
    "        ## interpolate profiles   \n",
    "        interpolated_profiles      = []\n",
    "        interpolated_profiles_time = []\n",
    "        interpolated_profiles_lon  = []\n",
    "        interpolated_profiles_lat  = []\n",
    "        for i in list(range(0,len(profiles)-1)):\n",
    "            if len(profiles[i]['data'][0]) > 1:\n",
    "                interpolated_profiles.append(interpolate(profiles[i],interp_levels))\n",
    "                interpolated_profiles_time.append(dateutil.parser.isoparse(profiles[i]['timestamp'])) \n",
    "                interpolated_profiles_lon.append(profiles[i]['geolocation']['coordinates'][0])\n",
    "                interpolated_profiles_lat.append(profiles[i]['geolocation']['coordinates'][1])\n",
    "        # shape variable into something appropriate\n",
    "        data = [x['data'] for x in interpolated_profiles]\n",
    "        data = [[level[variable] for level in x] for x in data]\n",
    "\n",
    "        ## store profile data\n",
    "        regions_list_data_noave.append(data)\n",
    "        regions_list_data_noave_nointerp.append([x['data'] for x in profiles])\n",
    "        data = np.transpose(data)\n",
    "        regions_list_data.append(np.nanmean(data,1))\n",
    "        regions_list_data_levels.append(interp_levels)\n",
    "\n",
    "        ## quick plot of profiles in region\n",
    "        plt.figure()\n",
    "        plt.plot(interpolated_profiles_lon,interpolated_profiles_lat,marker='*',linestyle='none')\n",
    "        plt.xlabel('Longitude')\n",
    "        plt.ylabel('Latitude')\n",
    "    \n",
    "!date    "
   ]
  },
  {
   "cell_type": "code",
   "execution_count": 15,
   "id": "67e2d3f6",
   "metadata": {
    "scrolled": true
   },
   "outputs": [
    {
     "name": "stdout",
     "output_type": "stream",
     "text": [
      "Mon Mar 25 16:48:31 MDT 2024\r\n"
     ]
    },
    {
     "ename": "KeyError",
     "evalue": "'data'",
     "output_type": "error",
     "traceback": [
      "\u001b[0;31m---------------------------------------------------------------------------\u001b[0m",
      "\u001b[0;31mKeyError\u001b[0m                                  Traceback (most recent call last)",
      "File \u001b[0;32m~/opt/miniconda3/envs/argovis_demos/lib/python3.9/site-packages/xarray/core/dataset.py:1395\u001b[0m, in \u001b[0;36mDataset._construct_dataarray\u001b[0;34m(self, name)\u001b[0m\n\u001b[1;32m   1394\u001b[0m \u001b[38;5;28;01mtry\u001b[39;00m:\n\u001b[0;32m-> 1395\u001b[0m     variable \u001b[38;5;241m=\u001b[39m \u001b[38;5;28;43mself\u001b[39;49m\u001b[38;5;241;43m.\u001b[39;49m\u001b[43m_variables\u001b[49m\u001b[43m[\u001b[49m\u001b[43mname\u001b[49m\u001b[43m]\u001b[49m\n\u001b[1;32m   1396\u001b[0m \u001b[38;5;28;01mexcept\u001b[39;00m \u001b[38;5;167;01mKeyError\u001b[39;00m:\n",
      "\u001b[0;31mKeyError\u001b[0m: 'data'",
      "\nDuring handling of the above exception, another exception occurred:\n",
      "\u001b[0;31mKeyError\u001b[0m                                  Traceback (most recent call last)",
      "Input \u001b[0;32mIn [15]\u001b[0m, in \u001b[0;36m<cell line: 3>\u001b[0;34m()\u001b[0m\n\u001b[1;32m     28\u001b[0m \u001b[38;5;66;03m# store data\u001b[39;00m\n\u001b[1;32m     29\u001b[0m regions_list_data_grid_axarray\u001b[38;5;241m.\u001b[39mappend(xar)\n\u001b[0;32m---> 30\u001b[0m regions_list_data\u001b[38;5;241m.\u001b[39mappend(\u001b[43mhelpers\u001b[49m\u001b[38;5;241;43m.\u001b[39;49m\u001b[43mregional_mean\u001b[49m\u001b[43m(\u001b[49m\u001b[43mxar\u001b[49m\u001b[43m)\u001b[49m\u001b[43m[\u001b[49m\u001b[38;5;124;43m'\u001b[39;49m\u001b[38;5;124;43mdata\u001b[39;49m\u001b[38;5;124;43m'\u001b[39;49m\u001b[43m]\u001b[49m\u001b[38;5;241m.\u001b[39mvalues\u001b[38;5;241m.\u001b[39mflatten())\n\u001b[1;32m     31\u001b[0m regions_list_data_levels\u001b[38;5;241m.\u001b[39mappend(grids_meta[\u001b[38;5;241m0\u001b[39m][\u001b[38;5;124m'\u001b[39m\u001b[38;5;124mlevels\u001b[39m\u001b[38;5;124m'\u001b[39m])\n\u001b[1;32m     32\u001b[0m \u001b[38;5;28;01mif\u001b[39;00m \u001b[38;5;28mlen\u001b[39m(helpers\u001b[38;5;241m.\u001b[39mregional_mean(xar)[\u001b[38;5;124m'\u001b[39m\u001b[38;5;124mdata\u001b[39m\u001b[38;5;124m'\u001b[39m]\u001b[38;5;241m.\u001b[39mvalues\u001b[38;5;241m.\u001b[39mflatten())\u001b[38;5;241m!=\u001b[39m\u001b[38;5;28mlen\u001b[39m(grids_meta[\u001b[38;5;241m0\u001b[39m][\u001b[38;5;124m'\u001b[39m\u001b[38;5;124mlevels\u001b[39m\u001b[38;5;124m'\u001b[39m]):\n",
      "File \u001b[0;32m~/opt/miniconda3/envs/argovis_demos/lib/python3.9/site-packages/xarray/core/dataset.py:1499\u001b[0m, in \u001b[0;36mDataset.__getitem__\u001b[0;34m(self, key)\u001b[0m\n\u001b[1;32m   1496\u001b[0m     \u001b[38;5;28;01mreturn\u001b[39;00m \u001b[38;5;28mself\u001b[39m\u001b[38;5;241m.\u001b[39misel(\u001b[38;5;241m*\u001b[39m\u001b[38;5;241m*\u001b[39mcast(Mapping, key))\n\u001b[1;32m   1498\u001b[0m \u001b[38;5;28;01mif\u001b[39;00m hashable(key):\n\u001b[0;32m-> 1499\u001b[0m     \u001b[38;5;28;01mreturn\u001b[39;00m \u001b[38;5;28;43mself\u001b[39;49m\u001b[38;5;241;43m.\u001b[39;49m\u001b[43m_construct_dataarray\u001b[49m\u001b[43m(\u001b[49m\u001b[43mkey\u001b[49m\u001b[43m)\u001b[49m\n\u001b[1;32m   1500\u001b[0m \u001b[38;5;28;01melse\u001b[39;00m:\n\u001b[1;32m   1501\u001b[0m     \u001b[38;5;28;01mreturn\u001b[39;00m \u001b[38;5;28mself\u001b[39m\u001b[38;5;241m.\u001b[39m_copy_listed(key)\n",
      "File \u001b[0;32m~/opt/miniconda3/envs/argovis_demos/lib/python3.9/site-packages/xarray/core/dataset.py:1397\u001b[0m, in \u001b[0;36mDataset._construct_dataarray\u001b[0;34m(self, name)\u001b[0m\n\u001b[1;32m   1395\u001b[0m     variable \u001b[38;5;241m=\u001b[39m \u001b[38;5;28mself\u001b[39m\u001b[38;5;241m.\u001b[39m_variables[name]\n\u001b[1;32m   1396\u001b[0m \u001b[38;5;28;01mexcept\u001b[39;00m \u001b[38;5;167;01mKeyError\u001b[39;00m:\n\u001b[0;32m-> 1397\u001b[0m     _, name, variable \u001b[38;5;241m=\u001b[39m \u001b[43m_get_virtual_variable\u001b[49m\u001b[43m(\u001b[49m\n\u001b[1;32m   1398\u001b[0m \u001b[43m        \u001b[49m\u001b[38;5;28;43mself\u001b[39;49m\u001b[38;5;241;43m.\u001b[39;49m\u001b[43m_variables\u001b[49m\u001b[43m,\u001b[49m\u001b[43m \u001b[49m\u001b[43mname\u001b[49m\u001b[43m,\u001b[49m\u001b[43m \u001b[49m\u001b[38;5;28;43mself\u001b[39;49m\u001b[38;5;241;43m.\u001b[39;49m\u001b[43m_level_coords\u001b[49m\u001b[43m,\u001b[49m\u001b[43m \u001b[49m\u001b[38;5;28;43mself\u001b[39;49m\u001b[38;5;241;43m.\u001b[39;49m\u001b[43mdims\u001b[49m\n\u001b[1;32m   1399\u001b[0m \u001b[43m    \u001b[49m\u001b[43m)\u001b[49m\n\u001b[1;32m   1401\u001b[0m needed_dims \u001b[38;5;241m=\u001b[39m \u001b[38;5;28mset\u001b[39m(variable\u001b[38;5;241m.\u001b[39mdims)\n\u001b[1;32m   1403\u001b[0m coords: Dict[Hashable, Variable] \u001b[38;5;241m=\u001b[39m {}\n",
      "File \u001b[0;32m~/opt/miniconda3/envs/argovis_demos/lib/python3.9/site-packages/xarray/core/dataset.py:170\u001b[0m, in \u001b[0;36m_get_virtual_variable\u001b[0;34m(variables, key, level_vars, dim_sizes)\u001b[0m\n\u001b[1;32m    168\u001b[0m     ref_var \u001b[38;5;241m=\u001b[39m dim_var\u001b[38;5;241m.\u001b[39mto_index_variable()\u001b[38;5;241m.\u001b[39mget_level_variable(ref_name)\n\u001b[1;32m    169\u001b[0m \u001b[38;5;28;01melse\u001b[39;00m:\n\u001b[0;32m--> 170\u001b[0m     ref_var \u001b[38;5;241m=\u001b[39m \u001b[43mvariables\u001b[49m\u001b[43m[\u001b[49m\u001b[43mref_name\u001b[49m\u001b[43m]\u001b[49m\n\u001b[1;32m    172\u001b[0m \u001b[38;5;28;01mif\u001b[39;00m var_name \u001b[38;5;129;01mis\u001b[39;00m \u001b[38;5;28;01mNone\u001b[39;00m:\n\u001b[1;32m    173\u001b[0m     virtual_var \u001b[38;5;241m=\u001b[39m ref_var\n",
      "\u001b[0;31mKeyError\u001b[0m: 'data'"
     ]
    }
   ],
   "source": [
    "!date\n",
    "####### do the same for gridded data\n",
    "for ireg in box_regions_list:\n",
    "    # get grid points in a region using the Argovis API\n",
    "    grids_opt = {\n",
    "            'box': ireg,\n",
    "            'data': variable_gridded\n",
    "            } # querying only profiles that have good qc doxy\n",
    "\n",
    "    grids = avh.query('grids/'+product_gridded, options=grids_opt, apikey=API_KEY, apiroot=API_ROOT)\n",
    "    grids_opt  = {\n",
    "                    \"id\": grids[0]['metadata'][0]\n",
    "                    }\n",
    "    grids_meta = avh.query('grids/meta', options=grids_opt, apikey=API_KEY, apiroot=API_ROOT)\n",
    "    \n",
    "    if 'glodap' in product_gridded:\n",
    "        xar = helpers.grids_to_xarray(grids,grids_meta)\n",
    "    elif 'rg09' in product_gridded:\n",
    "        df = helpers.level_df(grids, \n",
    "            ['rg09_temperature', 'longitude', 'latitude', 'timestamp'], \n",
    "            per_level_pressures=grids_meta[0]['levels'], \n",
    "            index=[\"latitude\",\"longitude\",\"timestamp\",\"pressure\"]\n",
    "            )\n",
    "        xar = df.to_xarray()\n",
    "    else:\n",
    "        to_complete\n",
    "    \n",
    "    # store data\n",
    "    regions_list_data_grid_axarray.append(xar)\n",
    "    regions_list_data.append(helpers.regional_mean(xar)['data'].values.flatten())\n",
    "    regions_list_data_levels.append(grids_meta[0]['levels'])\n",
    "    if len(helpers.regional_mean(xar)['data'].values.flatten())!=len(grids_meta[0]['levels']):\n",
    "        stop_check_len\n",
    "        \n",
    "!date        \n"
   ]
  },
  {
   "cell_type": "code",
   "execution_count": 14,
   "id": "fb3da5e2",
   "metadata": {},
   "outputs": [
    {
     "data": {
      "text/plain": [
       "[{'_id': 'rg09_temperature_200401_Total',\n",
       "  'data_type': 'temperature',\n",
       "  'data_info': [['rg09_temperature'],\n",
       "   ['units'],\n",
       "   [['degree celcius (ITS-90)']]],\n",
       "  'date_updated_argovis': '2023-01-27T18:43:01.679Z',\n",
       "  'source': [{'source': ['Roemmich-Gilson Argo Climatology'],\n",
       "    'url': 'https://sio-argo.ucsd.edu/gilson/argo_climatology/RG_ArgoClim_Temperature_2019.nc.gz'}],\n",
       "  'levels': [2.5,\n",
       "   10,\n",
       "   20,\n",
       "   30,\n",
       "   40,\n",
       "   50,\n",
       "   60,\n",
       "   70,\n",
       "   80,\n",
       "   90,\n",
       "   100,\n",
       "   110,\n",
       "   120,\n",
       "   130,\n",
       "   140,\n",
       "   150,\n",
       "   160,\n",
       "   170,\n",
       "   182.5,\n",
       "   200,\n",
       "   220,\n",
       "   240,\n",
       "   260,\n",
       "   280,\n",
       "   300,\n",
       "   320,\n",
       "   340,\n",
       "   360,\n",
       "   380,\n",
       "   400,\n",
       "   420,\n",
       "   440,\n",
       "   462.5,\n",
       "   500,\n",
       "   550,\n",
       "   600,\n",
       "   650,\n",
       "   700,\n",
       "   750,\n",
       "   800,\n",
       "   850,\n",
       "   900,\n",
       "   950,\n",
       "   1000,\n",
       "   1050,\n",
       "   1100,\n",
       "   1150,\n",
       "   1200,\n",
       "   1250,\n",
       "   1300,\n",
       "   1350,\n",
       "   1412.5,\n",
       "   1500,\n",
       "   1600,\n",
       "   1700,\n",
       "   1800,\n",
       "   1900,\n",
       "   1975],\n",
       "  'level_units': 'dbar'}]"
      ]
     },
     "execution_count": 14,
     "metadata": {},
     "output_type": "execute_result"
    }
   ],
   "source": [
    "grids_meta"
   ]
  },
  {
   "cell_type": "code",
   "execution_count": null,
   "id": "13f6cc27",
   "metadata": {},
   "outputs": [],
   "source": [
    "# plot the map for one timestep and level for each of the gridded products\n",
    "for iaxr in regions_list_data_grid_axarray:\n",
    "    plt.figure()\n",
    "    iaxr['data'][:,:,0].plot()"
   ]
  },
  {
   "cell_type": "code",
   "execution_count": null,
   "id": "b406c74a",
   "metadata": {},
   "outputs": [],
   "source": [
    "cols = ['k','r','b','m']"
   ]
  },
  {
   "cell_type": "code",
   "execution_count": null,
   "id": "ca862a8c",
   "metadata": {},
   "outputs": [],
   "source": [
    "# plot the horizontal average for (vertically) interpolated profiles and for the gridded product\n",
    "for i,idata in enumerate(regions_list_data):\n",
    "    plt.plot(idata,regions_list_data_levels[i],color=cols[i],linewidth=3)\n",
    "plt.gca().invert_yaxis()\n",
    "plt.ylabel('Vertical level')\n",
    "plt.xlabel('variable_title')"
   ]
  },
  {
   "cell_type": "code",
   "execution_count": null,
   "id": "92e5098f",
   "metadata": {},
   "outputs": [],
   "source": [
    "# plot raw profiles that go into the average\n",
    "for i,idata in enumerate(regions_list_data_noave_nointerp):\n",
    "    for iidata in idata:\n",
    "        \n",
    "        plt.plot(iidata[0],iidata[1],color=cols[i]) #,marker='.'\n",
    "        \n",
    "        # check for oxygen data\n",
    "        if ('doxy' in variable) and sum(np.array(iidata[0])<0) != 0:\n",
    "            ciao\n",
    "plt.gca().invert_yaxis()        \n",
    "        "
   ]
  },
  {
   "cell_type": "code",
   "execution_count": null,
   "id": "0fec768c",
   "metadata": {
    "scrolled": true
   },
   "outputs": [],
   "source": [
    "# plot vertically integrated profiles that go into the average\n",
    "for i,idata in enumerate(regions_list_data_noave):\n",
    "    for ii,iidata in enumerate(idata):\n",
    "        \n",
    "        plt.plot(iidata,regions_list_data_levels[i],color=cols[i])\n",
    "        if sum(np.array(iidata)<0) != 0:\n",
    "            ciao\n",
    "plt.gca().invert_yaxis()"
   ]
  },
  {
   "cell_type": "code",
   "execution_count": null,
   "id": "53615d24",
   "metadata": {},
   "outputs": [],
   "source": []
  },
  {
   "cell_type": "code",
   "execution_count": null,
   "id": "17ac7e2d",
   "metadata": {},
   "outputs": [],
   "source": []
  }
 ],
 "metadata": {
  "kernelspec": {
   "display_name": "argovis_demos",
   "language": "python",
   "name": "argovis_demos"
  },
  "language_info": {
   "codemirror_mode": {
    "name": "ipython",
    "version": 3
   },
   "file_extension": ".py",
   "mimetype": "text/x-python",
   "name": "python",
   "nbconvert_exporter": "python",
   "pygments_lexer": "ipython3",
   "version": "3.9.13"
  },
  "toc": {
   "base_numbering": 1,
   "nav_menu": {},
   "number_sections": true,
   "sideBar": true,
   "skip_h1_title": false,
   "title_cell": "Table of Contents",
   "title_sidebar": "Contents",
   "toc_cell": false,
   "toc_position": {},
   "toc_section_display": true,
   "toc_window_display": false
  }
 },
 "nbformat": 4,
 "nbformat_minor": 5
}
