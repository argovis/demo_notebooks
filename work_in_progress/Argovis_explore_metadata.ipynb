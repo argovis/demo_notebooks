{
 "cells": [
  {
   "cell_type": "code",
   "execution_count": 1,
   "id": "5d32d00a",
   "metadata": {},
   "outputs": [
    {
     "name": "stderr",
     "output_type": "stream",
     "text": [
      "/Users/dgiglio/opt/miniconda3/envs/argovis_demos/lib/python3.9/site-packages/xarray/backends/cfgrib_.py:27: UserWarning: Failed to load cfgrib - most likely there is a problem accessing the ecCodes library. Try `import cfgrib` to get the full error message\n",
      "  warnings.warn(\n"
     ]
    }
   ],
   "source": [
    "from cartopy import config\n",
    "import cartopy.crs as ccrs\n",
    "import matplotlib.colors as plt_cols\n",
    "\n",
    "import matplotlib.pyplot as plt\n",
    "import numpy as np\n",
    "import pandas as pd\n",
    "import pickle\n",
    "import time, json, requests, pprint, copy, math, dateutil\n",
    "from datetime import datetime, timedelta\n",
    "from argovisHelpers import helpers as avh\n",
    "\n",
    "import os\n",
    "\n",
    "from Argovis_tasks_helpers import get_route"
   ]
  },
  {
   "cell_type": "code",
   "execution_count": 2,
   "id": "ee5febae",
   "metadata": {},
   "outputs": [],
   "source": [
    "API_KEY=''"
   ]
  },
  {
   "cell_type": "markdown",
   "id": "1c58a793",
   "metadata": {},
   "source": [
    "### This will be updated with an API query\n",
    "Argovis supports several different data sets with the API and data structures described here. They and their corresponding routes are:\n",
    "\n",
    " - Argo profiling float data, `/argo`\n",
    " - CCHDO ship-based profile data, `/cchdo`\n",
    " - tropical cyclone data from HURDAT and JTWC, `/tc`\n",
    " - Global Drifter Program data, `/drifters`\n",
    " - Easy Ocean, `/easyocean`\n",
    " - several gridded products:\n",
    "   - Roemmich-Gilson total temperature and salinity, `/grids/rg09`\n",
    "   - ocean heat content, `/grids/kg21`\n",
    "   - GLODAP, `/grids/glodap`\n",
    " - Argone Argo float position forecast model data, `/argone`\n",
    " - Argo trajectory data, `/argotrajectories`\n",
    " - several satellite-based timeseries:\n",
    "   - NOAA sea surface temperature, `/timeseries/noaasst`\n",
    "   - Copernicus sea surface height, `/timeseries/copernicussla`\n",
    "   - CCMP wind vector product, `/timeseries/ccmpwind`"
   ]
  },
  {
   "cell_type": "code",
   "execution_count": 3,
   "id": "0a2fb1b9",
   "metadata": {},
   "outputs": [],
   "source": [
    "# API call showing collections available for each route\n",
    "\n",
    "#### parameters the user needs to select\n",
    "# user selects list of collections\n",
    "collections = ['argo', 'cchdo', 'drifters', \n",
    "               'easyocean', 'grids/rg09', '/grids/kg21',\n",
    "               '/grids/glodap', '/argotrajectories', \n",
    "               '/timeseries/noaasst', '/timeseries/copernicussla',\n",
    "               '/timeseries/ccmpwind', 'tc', 'extended/ar', \n",
    "              ]\n",
    "\n",
    "# time period of interest for the API query\n",
    "startDate = '2015-01-01T00:00:00Z'\n",
    "endDate   = '2015-03-01T00:00:00Z'\n",
    "\n",
    "# region to query could be added here\n",
    "\n",
    "# long, lat grid for the output map\n",
    "dx = 1\n",
    "dy = 1\n",
    "x_edges = np.arange(-180,181,dx)\n",
    "y_edges = np.arange(-90,91,dy)\n",
    "\n",
    "# verticalRange will be used only if it makes sense for that collection\n",
    "verticalRange = '4000,4100'"
   ]
  },
  {
   "cell_type": "code",
   "execution_count": 4,
   "id": "013f1628",
   "metadata": {},
   "outputs": [],
   "source": [
    "def map_count_in_bins(name,x_edges,y_edges,dx,dy,fpath,startDate,endDate,vmin_map=1,vmax_map=1000):\n",
    "    d = globals()[name] \n",
    "    lons = d['longitudes']#[x[1] for x in d]\n",
    "    lats  = d['latitudes']#[x[2] for x in d]\n",
    "    datetimes  = d['datetimes'] #[datetime.strptime(x[3][0:18]+'Z',\"%Y-%m-%dT%H:%M:%SZ\") for x in d]\n",
    "    \n",
    "    fig = plt.figure(figsize=(21, 7))\n",
    "    \n",
    "    h = np.histogram2d(lons, lats,[x_edges, y_edges])\n",
    "    ax = plt.axes(projection=ccrs.PlateCarree())\n",
    "\n",
    "    plt.pcolormesh(x_edges[0:-1]+dx/2, y_edges[0:-1]+dy/2, h[0].transpose(),  #60,\n",
    "             transform=ccrs.PlateCarree(),norm=plt_cols.LogNorm(vmin=vmin_map, vmax=vmax_map ))\n",
    "\n",
    "    ax.stock_img()\n",
    "    ax.coastlines()\n",
    "    \n",
    "    plt.colorbar()\n",
    "\n",
    "    plt.savefig(fpath+name+startDate[0:10]+'_'+endDate[0:10]+'.png')\n",
    "    plt.show()"
   ]
  },
  {
   "cell_type": "code",
   "execution_count": 5,
   "id": "d69f3dff",
   "metadata": {},
   "outputs": [],
   "source": [
    "def create_df_from_minimal_query(mydict_name,api_output):\n",
    "    bfr = pd.DataFrame(globals()[api_output])\n",
    "    \n",
    "    bfr.rename( columns={0 :'id'}, inplace=True )\n",
    "    bfr.rename( columns={1 :'longitudes'}, inplace=True )\n",
    "    bfr.rename( columns={2 :'latitudes'}, inplace=True )\n",
    "    bfr.rename( columns={3 :'datetimes'}, inplace=True )\n",
    "    bfr.rename( columns={4 :'source'}, inplace=True )\n",
    "    return bfr"
   ]
  },
  {
   "cell_type": "code",
   "execution_count": 6,
   "id": "4cb3f494",
   "metadata": {},
   "outputs": [],
   "source": [
    "# define params for the query\n",
    "params = {\n",
    "        'startDate': startDate,\n",
    "        'endDate': endDate,\n",
    "        'compression': 'minimal'\n",
    "    }"
   ]
  },
  {
   "cell_type": "code",
   "execution_count": null,
   "id": "44e4e499",
   "metadata": {},
   "outputs": [
    {
     "name": "stdout",
     "output_type": "stream",
     "text": [
      "argo\n",
      "https://argovis-api.colorado.edu/\n",
      "                id  longitudes  latitudes                 datetimes  \\\n",
      "0      6901829_071   18.648623  38.485058  2015-01-30T23:55:59.999Z   \n",
      "1      2901339_114   63.420000  16.761000  2015-01-30T23:55:32.999Z   \n",
      "2      6901836_048    9.073675  42.889797  2015-01-30T23:52:00.000Z   \n",
      "3      6901831_040   35.728392  42.845038  2015-01-30T23:50:59.999Z   \n",
      "4      1901385_182 -138.439000 -54.018000  2015-01-30T23:37:12.995Z   \n",
      "...            ...         ...        ...                       ...   \n",
      "27166  5904153_059 -164.433000 -74.048000  2015-01-31T00:15:24.000Z   \n",
      "27167  2902503_059  137.020000  18.049000  2015-01-31T00:06:37.000Z   \n",
      "27168  2902541_108  145.487000  25.142000  2015-01-31T00:01:06.999Z   \n",
      "27169  2902096_058   96.562000  -2.237000  2015-01-31T00:00:00.000Z   \n",
      "27170  2902103_057   63.050000  -3.965000  2015-01-31T00:00:00.000Z   \n",
      "\n",
      "            source             5  \n",
      "0      [argo_core]  [6901829_m0]  \n",
      "1      [argo_core]  [2901339_m1]  \n",
      "2      [argo_core]  [6901836_m0]  \n",
      "3      [argo_core]  [6901831_m0]  \n",
      "4      [argo_core]  [1901385_m0]  \n",
      "...            ...           ...  \n",
      "27166  [argo_core]  [5904153_m0]  \n",
      "27167  [argo_core]  [2902503_m1]  \n",
      "27168  [argo_core]  [2902541_m0]  \n",
      "27169  [argo_core]  [2902096_m0]  \n",
      "27170  [argo_core]  [2902103_m0]  \n",
      "\n",
      "[27171 rows x 6 columns]\n",
      "cchdo\n",
      "https://argovis-api.colorado.edu/\n",
      "                                                id  longitudes  latitudes  \\\n",
      "0      expo_06AQ20141202_sta_082_cast_002_type_btl    12.93330  -49.00000   \n",
      "1      expo_06AQ20141202_sta_081_cast_001_type_btl     0.00230  -61.00030   \n",
      "2      expo_06AQ20141202_sta_080_cast_001_type_btl     0.00150  -63.91700   \n",
      "3      expo_06AQ20141202_sta_078_cast_001_type_btl     0.00220  -66.03600   \n",
      "4      expo_74JC20150110_sta_030_cast_001_type_btl   -57.99291  -54.73745   \n",
      "..                                             ...         ...        ...   \n",
      "185  expo_BIOS20150201_sta_10311_cast_004_type_ctd   -64.17600   31.67000   \n",
      "186  expo_BIOS20150201_sta_10311_cast_003_type_ctd   -64.16800   31.66500   \n",
      "187  expo_BIOS20150201_sta_10311_cast_002_type_ctd   -64.15600   31.65800   \n",
      "188  expo_BIOS20150201_sta_10311_cast_001_type_ctd   -64.17100   31.66800   \n",
      "189  expo_BIOS20150201_sta_61262_cast_001_type_ctd   -64.50400   32.16600   \n",
      "\n",
      "                    datetimes                              source  \\\n",
      "0    2015-01-27T16:07:00.000Z                      [cchdo_soccom]   \n",
      "1    2015-01-21T12:34:00.000Z                      [cchdo_soccom]   \n",
      "2    2015-01-20T07:41:00.000Z                      [cchdo_soccom]   \n",
      "3    2015-01-19T05:45:00.000Z                      [cchdo_soccom]   \n",
      "4    2015-01-18T06:08:00.000Z                       [cchdo_other]   \n",
      "..                        ...                                 ...   \n",
      "185  2015-02-02T14:33:00.000Z  [cchdo_hydrostation s, cchdo_bats]   \n",
      "186  2015-02-02T10:00:00.000Z  [cchdo_hydrostation s, cchdo_bats]   \n",
      "187  2015-02-02T07:04:00.000Z  [cchdo_hydrostation s, cchdo_bats]   \n",
      "188  2015-02-02T03:38:00.000Z  [cchdo_hydrostation s, cchdo_bats]   \n",
      "189  2015-02-01T22:39:00.000Z  [cchdo_hydrostation s, cchdo_bats]   \n",
      "\n",
      "                5     6          7  \n",
      "0           [A12]  1198  [1198_m0]  \n",
      "1           [A12]  1198  [1198_m0]  \n",
      "2           [A12]  1198  [1198_m0]  \n",
      "3           [A12]  1198  [1198_m0]  \n",
      "4    [SR01, SR1B]  1136  [1136_m0]  \n",
      "..            ...   ...        ...  \n",
      "185       [ARS01]  2052  [2052_m0]  \n",
      "186       [ARS01]  2052  [2052_m0]  \n",
      "187       [ARS01]  2052  [2052_m0]  \n",
      "188       [ARS01]  2052  [2052_m0]  \n",
      "189       [ARS01]  2052  [2052_m0]  \n",
      "\n",
      "[190 rows x 8 columns]\n",
      "drifters\n",
      "https://argovisbeta01.colorado.edu/dapi/\n"
     ]
    }
   ],
   "source": [
    "# for each collection of interest, plot a map\n",
    "for icollection in collections:\n",
    "    print(icollection)\n",
    "    iroute = get_route(icollection)\n",
    "    print(iroute)\n",
    "    iparams = params\n",
    "    #iparams['presRange'] = verticalRange\n",
    "    globals()[icollection] = avh.query(icollection, options=iparams, apikey=API_KEY, apiroot=iroute)\n",
    "    \n",
    "    if not globals()[icollection]:\n",
    "        print(icollection + ': no data in region/time period selected')\n",
    "    else:\n",
    "        # create dataframe with columns of interest\n",
    "        mydict_name = 'df_'+icollection\n",
    "        globals()[mydict_name] = create_df_from_minimal_query(mydict_name=mydict_name,api_output=icollection)\n",
    "        print(globals()[mydict_name])"
   ]
  },
  {
   "cell_type": "code",
   "execution_count": null,
   "id": "4f5689ce",
   "metadata": {},
   "outputs": [],
   "source": [
    "type(argo)"
   ]
  },
  {
   "cell_type": "code",
   "execution_count": null,
   "id": "43181baa",
   "metadata": {},
   "outputs": [],
   "source": []
  }
 ],
 "metadata": {
  "kernelspec": {
   "display_name": "argovis_demos",
   "language": "python",
   "name": "argovis_demos"
  },
  "language_info": {
   "codemirror_mode": {
    "name": "ipython",
    "version": 3
   },
   "file_extension": ".py",
   "mimetype": "text/x-python",
   "name": "python",
   "nbconvert_exporter": "python",
   "pygments_lexer": "ipython3",
   "version": "3.9.13"
  }
 },
 "nbformat": 4,
 "nbformat_minor": 5
}
