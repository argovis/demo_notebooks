{
 "cells": [
  {
   "cell_type": "markdown",
   "id": "fa0d966b",
   "metadata": {},
   "source": [
    "# Special topics\n",
    "\n",
    "This notebook contains some special topics and plots requested internally at Argovis. It is a work in progress: code will transition from here to other notebooks. Public consumers should focus on our educational notebooks, starting with [Intro to Argovis](https://github.com/argovis/demo_notebooks/blob/main/Intro_to_Argovis.ipynb)."
   ]
  },
  {
   "cell_type": "code",
   "execution_count": 1,
   "id": "ccd0c3be",
   "metadata": {},
   "outputs": [
    {
     "name": "stdout",
     "output_type": "stream",
     "text": [
      "/Users/dgiglio/Work/code/giglio/Argovis_newAPI/demo_notebooks\n"
     ]
    },
    {
     "name": "stderr",
     "output_type": "stream",
     "text": [
      "/Users/dgiglio/opt/miniconda3/envs/argovis_demos/lib/python3.9/site-packages/xarray/backends/cfgrib_.py:27: UserWarning: Failed to load cfgrib - most likely there is a problem accessing the ecCodes library. Try `import cfgrib` to get the full error message\n",
      "  warnings.warn(\n"
     ]
    },
    {
     "name": "stdout",
     "output_type": "stream",
     "text": [
      "/Users/dgiglio/Work/code/giglio/Argovis_newAPI/demo_notebooks/work_in_progress\n"
     ]
    }
   ],
   "source": [
    "from argovisHelpers import helpers as avh\n",
    "import datetime, pandas, matplotlib, scipy, numpy\n",
    "import numpy as np\n",
    "\n",
    "import matplotlib.pyplot as plt\n",
    "from matplotlib import cm\n",
    "\n",
    "%cd ../\n",
    "import helpers\n",
    "%cd work_in_progress\n",
    "\n",
    "API_ROOT='https://argovis-api.colorado.edu/'\n",
    "API_KEY=''"
   ]
  },
  {
   "cell_type": "markdown",
   "id": "ae4aabcf",
   "metadata": {},
   "source": [
    "### Getting data from Argovis"
   ]
  },
  {
   "cell_type": "markdown",
   "id": "524064ac",
   "metadata": {},
   "source": [
    "In the following we ask Argovis to return profiles that have both temperature and salinity with QC = 1 (the best QC flag) in a region and time period of interest. If curious, try and run the notebook using 'data': 'temperature,salinity' in the following cell (instead of 'data': 'temperature,1,salinity,1'). The TS diagrams will look different as some data with bad QC will be returned, if we don't tell Argovis we only want QC = 1."
   ]
  },
  {
   "cell_type": "code",
   "execution_count": null,
   "id": "d3147cc1",
   "metadata": {},
   "outputs": [],
   "source": [
    "# get TS profiles in a region and time period of interest\n",
    "\n",
    "pac_region = [[-155,-1.5],[-155,-30],[-145,-30],[-145,-1.5],[-155,-1.5]]\n",
    "argo = {\n",
    "    'startDate': '2022-12-30T00:00:00Z',\n",
    "    'endDate': '2023-01-13T00:00:00Z',\n",
    "    'polygon': pac_region,\n",
    "    'data': 'temperature,1,salinity,1'\n",
    "} # querying only profiles that have both temperature and salinity\n",
    "\n",
    "floats = avh.query('argo', options=argo, apikey=API_KEY, apiroot=API_ROOT)"
   ]
  },
  {
   "cell_type": "code",
   "execution_count": null,
   "id": "cfb3d3c6",
   "metadata": {},
   "outputs": [],
   "source": [
    "# let's select only levels that have a valid T and S\n",
    "def delete_if_none(list1, list2, list3):\n",
    "    result1 = []\n",
    "    result2 = []\n",
    "    result3 = []\n",
    "\n",
    "    for i in range(len(list1)):\n",
    "        if list1[i] is not None and list2[i] is not None and list3[i] is not None:\n",
    "            result1.append(list1[i])\n",
    "            result2.append(list2[i])\n",
    "            result3.append(list3[i])\n",
    "\n",
    "    return result1, result2, result3\n",
    "\n",
    "def find_variable_index(profile, variable):\n",
    "    return profile['data_info'][0].index(variable)\n",
    "\n",
    "\n",
    "filtered_profiles = []\n",
    "for f in floats:\n",
    "    filtered_pressure, filtered_temperature, filtered_salinity = delete_if_none(f['data'][find_variable_index(f, 'pressure')], f['data'][find_variable_index(f, 'temperature')], f['data'][find_variable_index(f, 'salinity')])\n",
    "    filtered_profiles.append([filtered_pressure, filtered_temperature, filtered_salinity])"
   ]
  },
  {
   "cell_type": "code",
   "execution_count": null,
   "id": "64f3bd94",
   "metadata": {},
   "outputs": [],
   "source": [
    "# only makes sense for profiles that have levels spanning the region of interest\n",
    "\n",
    "shallow = 10\n",
    "deep = 1800\n",
    "\n",
    "# select only profiles that have measurements in the range of interest\n",
    "profiles = [f for f in filtered_profiles if f[0][0] < shallow and f[0][-1] > deep]"
   ]
  },
  {
   "cell_type": "code",
   "execution_count": null,
   "id": "b545cc47",
   "metadata": {},
   "outputs": [],
   "source": [
    "# interpolate temperature and salinity\n",
    "\n",
    "levels = list(range(shallow,deep,5))\n",
    "\n",
    "interpolated_temperatures = np.array([list(scipy.interpolate.pchip_interpolate(p[0], p[1], levels)) for p in profiles])\n",
    "interpolated_salinity = np.array([list(scipy.interpolate.pchip_interpolate(p[0], p[2], levels)) for p in profiles])"
   ]
  },
  {
   "cell_type": "code",
   "execution_count": null,
   "id": "95f21f7a",
   "metadata": {},
   "outputs": [],
   "source": [
    "# transpose and cast to various rectangular forms as desired\n",
    "\n",
    "numpy.shape(interpolated_temperatures)"
   ]
  },
  {
   "cell_type": "markdown",
   "id": "d2219e88",
   "metadata": {},
   "source": [
    "### TS plot using scatter"
   ]
  },
  {
   "cell_type": "code",
   "execution_count": null,
   "id": "9c0c5c97",
   "metadata": {},
   "outputs": [],
   "source": [
    "plt.plot(interpolated_salinity.flatten(),interpolated_temperatures.flatten(),marker='.',linestyle='')\n",
    "plt.ylabel('Temperature, degC')\n",
    "plt.xlabel('Salinity, psu')\n"
   ]
  },
  {
   "cell_type": "markdown",
   "id": "167bcd61",
   "metadata": {},
   "source": [
    "### Joint PDF "
   ]
  },
  {
   "cell_type": "code",
   "execution_count": null,
   "id": "b6028348",
   "metadata": {},
   "outputs": [],
   "source": [
    "plt.hist2d(interpolated_salinity.flatten(),interpolated_temperatures.flatten(),density=True,\n",
    "           bins=[np.arange(34,37,.2),np.arange(0,30,1)],\n",
    "           cmin=1.e-100,cmap=cm.get_cmap('YlOrRd', 32))#'YlOrRd') #hot_r\n",
    "plt.ylabel('Temperature, degC')\n",
    "plt.xlabel('Salinity, psu')\n",
    "cbar = plt.colorbar()\n",
    "cbar.set_label('probability density')"
   ]
  },
  {
   "cell_type": "markdown",
   "id": "dc986323",
   "metadata": {},
   "source": [
    "## Average profile in a region"
   ]
  },
  {
   "cell_type": "code",
   "execution_count": 2,
   "id": "d93ae496",
   "metadata": {},
   "outputs": [
    {
     "name": "stdout",
     "output_type": "stream",
     "text": [
      "/Users/dgiglio/Work/code/giglio/Argovis_newAPI/demo_notebooks\n",
      "/Users/dgiglio/Work/code/giglio/Argovis_newAPI/demo_notebooks/work_in_progress\n"
     ]
    }
   ],
   "source": [
    "from argovisHelpers import helpers as avh\n",
    "import datetime, pandas, matplotlib, scipy, numpy\n",
    "import numpy as np\n",
    "import matplotlib.pyplot as plt\n",
    "from matplotlib import cm\n",
    "\n",
    "import dateutil\n",
    "\n",
    "%cd ../\n",
    "from Exploring_Argo_BGC_with_Argovis_helpers import interpolate\n",
    "import helpers\n",
    "%cd work_in_progress\n",
    "\n",
    "API_ROOT='https://argovis-api.colorado.edu/'\n",
    "API_KEY=''"
   ]
  },
  {
   "cell_type": "code",
   "execution_count": null,
   "id": "fdde9d32",
   "metadata": {},
   "outputs": [],
   "source": [
    "# get doxy profiles in a region and time period of interest\n",
    "\n",
    "variable             = 'doxy' # variable name in Argo profiles\n",
    "variable_gridded     = 'oxygen' # variable name in glodap gridded product\n",
    "product_gridded      = 'glodap'\n",
    "variable_title       = 'Oxygen, umol/kg'\n",
    "\n",
    "interp_levels        = list(range(10,2001))[0::20]\n",
    "\n",
    "box_regions_list     = [\n",
    "                        [[-48,45],[-38,50]],\n",
    "                        ]\n",
    "    \n",
    "# box_regions_list     = [\n",
    "#                         [[-78,45],[-10,50]],\n",
    "#                         [[-180,45],[-127,50]],\n",
    "#                         ]"
   ]
  },
  {
   "cell_type": "code",
   "execution_count": null,
   "id": "4bd2f61d",
   "metadata": {},
   "outputs": [],
   "source": [
    "!date\n",
    "\n",
    "regions_list_data                 = []\n",
    "regions_list_data_noave           = []\n",
    "regions_list_data_levels          = []\n",
    "regions_list_data_noave_nointerp  = []\n",
    "regions_list_data_grid_axarray    = []\n",
    "###### profiles\n",
    "for ireg in box_regions_list:\n",
    "    # get profiles in region\n",
    "    argo = {\n",
    "            'startDate': '2022-01-01T00:00:00Z',\n",
    "            'endDate': '2022-12-31T00:00:00Z',\n",
    "            'box': ireg,\n",
    "            'data': variable+',1'\n",
    "            } # querying only profiles that have good qc doxy \n",
    "            # 'polygon': ireg,\n",
    "\n",
    "    profiles = avh.query('argo', options=argo, apikey=API_KEY, apiroot=API_ROOT) \n",
    "    # interpolate profiles   \n",
    "    interpolated_profiles      = []\n",
    "    interpolated_profiles_time = []\n",
    "    interpolated_profiles_lon  = []\n",
    "    interpolated_profiles_lat  = []\n",
    "    \n",
    "    for i in list(range(0,len(profiles)-1)):\n",
    "        if len(profiles[i]['data'][0]) > 1:\n",
    "            interpolated_profiles.append(interpolate(profiles[i],interp_levels))\n",
    "            interpolated_profiles_time.append(dateutil.parser.isoparse(profiles[i]['timestamp'])) \n",
    "            interpolated_profiles_lon.append(profiles[i]['geolocation']['coordinates'][0])\n",
    "            interpolated_profiles_lat.append(profiles[i]['geolocation']['coordinates'][1])\n",
    "    # shape variable into something appropriate\n",
    "    data = [x['data'] for x in interpolated_profiles]\n",
    "    data = [[level[variable] for level in x] for x in data]\n",
    "    # store profile data\n",
    "    regions_list_data_noave.append(data)\n",
    "    regions_list_data_noave_nointerp.append([x['data'] for x in profiles])\n",
    "    data = np.transpose(data)\n",
    "    regions_list_data.append(np.nanmean(data,1))\n",
    "    regions_list_data_levels.append(interp_levels)\n",
    "    \n",
    "    plt.figure()\n",
    "    plt.plot(interpolated_profiles_lon,interpolated_profiles_lat,marker='*',linestyle='none')\n",
    "    \n",
    "!date    "
   ]
  },
  {
   "cell_type": "code",
   "execution_count": null,
   "id": "7d61f61e",
   "metadata": {},
   "outputs": [],
   "source": [
    "data"
   ]
  },
  {
   "cell_type": "code",
   "execution_count": null,
   "id": "28f0d259",
   "metadata": {},
   "outputs": [],
   "source": [
    "!date\n",
    "####### gridded data\n",
    "for ireg in box_regions_list:\n",
    "    grids_opt = {\n",
    "            'box': ireg,\n",
    "            'data': variable_gridded\n",
    "            } # querying only profiles that have good qc doxy\n",
    "\n",
    "    grids = avh.query('grids/'+product_gridded, options=grids_opt, apikey=API_KEY, apiroot=API_ROOT)\n",
    "    grids_opt  = {\n",
    "                    \"id\": grids[0]['metadata'][0]\n",
    "                    }\n",
    "    grids_meta = avh.query('grids/meta', options=grids_opt, apikey=API_KEY, apiroot=API_ROOT)\n",
    "    \n",
    "    xar = helpers.grids_to_xarray(grids,grids_meta)\n",
    "    \n",
    "    regions_list_data_grid_axarray.append(xar)\n",
    "    regions_list_data.append(helpers.regional_mean(xar)['data'].values.flatten())\n",
    "    regions_list_data_levels.append(grids_meta[0]['levels'])\n",
    "    if len(helpers.regional_mean(xar)['data'].values.flatten())!=len(grids_meta[0]['levels']):\n",
    "        stop_check_len\n",
    "        \n",
    "!date        \n"
   ]
  },
  {
   "cell_type": "code",
   "execution_count": null,
   "id": "f104f2c8",
   "metadata": {},
   "outputs": [],
   "source": [
    "# approximate factor: 32*1.025/1000 (to go from umol/kg to mg/l)\n",
    "# see example for Pacific vs Atlantic (Fig. 5.6.3) at https://rwu.pressbooks.pub/webboceanography/chapter/5-6-nitrogen-and-nutrients/\n"
   ]
  },
  {
   "cell_type": "code",
   "execution_count": null,
   "id": "caea11e9",
   "metadata": {},
   "outputs": [],
   "source": [
    "for iaxr in regions_list_data_grid_axarray:\n",
    "    plt.figure()\n",
    "    iaxr['data'][:,:,0].plot()"
   ]
  },
  {
   "cell_type": "code",
   "execution_count": null,
   "id": "e061664f",
   "metadata": {},
   "outputs": [],
   "source": [
    "cols = ['k','r','b','m']"
   ]
  },
  {
   "cell_type": "code",
   "execution_count": null,
   "id": "003a3961",
   "metadata": {},
   "outputs": [],
   "source": [
    "for i,idata in enumerate(regions_list_data):\n",
    "    plt.plot(idata,regions_list_data_levels[i],color=cols[i],linewidth=3)\n",
    "plt.gca().invert_yaxis()\n",
    "plt.ylabel('Vertical level')\n",
    "plt.xlabel('variable_title')"
   ]
  },
  {
   "cell_type": "code",
   "execution_count": null,
   "id": "54779f44",
   "metadata": {},
   "outputs": [],
   "source": [
    "# plot raw profiles that go into the average\n",
    "for i,idata in enumerate(regions_list_data_noave_nointerp):\n",
    "    for iidata in idata:\n",
    "        \n",
    "        plt.plot(iidata[0],iidata[1],color=cols[i],marker='.')\n",
    "        if sum(np.array(iidata[0])<0) != 0:\n",
    "            ciao\n",
    "plt.gca().invert_yaxis()        \n",
    "        "
   ]
  },
  {
   "cell_type": "code",
   "execution_count": null,
   "id": "4262e45b",
   "metadata": {
    "scrolled": true
   },
   "outputs": [],
   "source": [
    "for i,idata in enumerate(regions_list_data_noave):\n",
    "    for ii,iidata in enumerate(idata):\n",
    "        \n",
    "        plt.plot(iidata,regions_list_data_levels[i],color=cols[i])\n",
    "        if sum(np.array(iidata)<0) != 0:\n",
    "            ciao\n",
    "plt.gca().invert_yaxis()"
   ]
  }
 ],
 "metadata": {
  "kernelspec": {
   "display_name": "argovis_demos",
   "language": "python",
   "name": "argovis_demos"
  },
  "language_info": {
   "codemirror_mode": {
    "name": "ipython",
    "version": 3
   },
   "file_extension": ".py",
   "mimetype": "text/x-python",
   "name": "python",
   "nbconvert_exporter": "python",
   "pygments_lexer": "ipython3",
   "version": "3.9.13"
  },
  "toc": {
   "base_numbering": 1,
   "nav_menu": {},
   "number_sections": true,
   "sideBar": true,
   "skip_h1_title": false,
   "title_cell": "Table of Contents",
   "title_sidebar": "Contents",
   "toc_cell": false,
   "toc_position": {},
   "toc_section_display": true,
   "toc_window_display": false
  }
 },
 "nbformat": 4,
 "nbformat_minor": 5
}
