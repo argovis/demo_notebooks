{
 "cells": [
  {
   "cell_type": "markdown",
   "id": "0c7c7d96",
   "metadata": {},
   "source": [
    "# Special topics\n",
    "\n",
    "This notebook contains some special topics and plots requested internally at Argovis. It is a work in progress: code will transition from here to other notebooks. Public consumers should focus on our educational notebooks, starting with [Intro to Argovis](https://github.com/argovis/demo_notebooks/blob/main/Intro_to_Argovis.ipynb)."
   ]
  },
  {
   "cell_type": "code",
   "execution_count": null,
   "id": "523c8218",
   "metadata": {},
   "outputs": [],
   "source": [
    "from argovisHelpers import helpers as avh\n",
    "import datetime, pandas, matplotlib, scipy, numpy\n",
    "import numpy as np\n",
    "import helpers\n",
    "import matplotlib.pyplot as plt\n",
    "from matplotlib import cm\n",
    "\n",
    "API_ROOT='https://argovis-api.colorado.edu/'\n",
    "API_KEY=''"
   ]
  },
  {
   "cell_type": "markdown",
   "id": "0255c49f",
   "metadata": {},
   "source": [
    "### Getting data from Argovis"
   ]
  },
  {
   "cell_type": "markdown",
   "id": "cfa0d1b7",
   "metadata": {},
   "source": [
    "In the following we ask Argovis to return profiles that have both temperature and salinity with QC = 1 (the best QC flag) in a region and time period of interest. If curious, try and run the notebook using 'data': 'temperature,salinity' in the following cell (instead of 'data': 'temperature,1,salinity,1'). The TS diagrams will look different as some data with bad QC will be returned, if we don't tell Argovis we only want QC = 1."
   ]
  },
  {
   "cell_type": "code",
   "execution_count": null,
   "id": "9c96e369",
   "metadata": {},
   "outputs": [],
   "source": [
    "# get TS profiles in a region and time period of interest\n",
    "\n",
    "pac_region = [[-155,-1.5],[-155,-30],[-145,-30],[-145,-1.5],[-155,-1.5]]\n",
    "argo = {\n",
    "    'startDate': '2022-12-30T00:00:00Z',\n",
    "    'endDate': '2023-01-13T00:00:00Z',\n",
    "    'polygon': pac_region,\n",
    "    'data': 'temperature,1,salinity,1'\n",
    "} # querying only profiles that have both temperature and salinity\n",
    "\n",
    "floats = avh.query('argo', options=argo, apikey=API_KEY, apiroot=API_ROOT)"
   ]
  },
  {
   "cell_type": "code",
   "execution_count": null,
   "id": "9de6aee7",
   "metadata": {},
   "outputs": [],
   "source": [
    "# let's select only levels that have a valid T and S\n",
    "def delete_if_none(list1, list2, list3):\n",
    "    result1 = []\n",
    "    result2 = []\n",
    "    result3 = []\n",
    "\n",
    "    for i in range(len(list1)):\n",
    "        if list1[i] is not None and list2[i] is not None and list3[i] is not None:\n",
    "            result1.append(list1[i])\n",
    "            result2.append(list2[i])\n",
    "            result3.append(list3[i])\n",
    "\n",
    "    return result1, result2, result3\n",
    "\n",
    "def find_variable_index(profile, variable):\n",
    "    return profile['data_info'][0].index(variable)\n",
    "\n",
    "\n",
    "filtered_profiles = []\n",
    "for f in floats:\n",
    "    filtered_pressure, filtered_temperature, filtered_salinity = delete_if_none(f['data'][find_variable_index(f, 'pressure')], f['data'][find_variable_index(f, 'temperature')], f['data'][find_variable_index(f, 'salinity')])\n",
    "    filtered_profiles.append([filtered_pressure, filtered_temperature, filtered_salinity])"
   ]
  },
  {
   "cell_type": "code",
   "execution_count": null,
   "id": "291800e5",
   "metadata": {},
   "outputs": [],
   "source": [
    "# only makes sense for profiles that have levels spanning the region of interest\n",
    "\n",
    "shallow = 10\n",
    "deep = 1800\n",
    "\n",
    "# select only profiles that have measurements in the range of interest\n",
    "profiles = [f for f in filtered_profiles if f[0][0] < shallow and f[0][-1] > deep]"
   ]
  },
  {
   "cell_type": "code",
   "execution_count": null,
   "id": "f72729eb",
   "metadata": {},
   "outputs": [],
   "source": [
    "# interpolate temperature and salinity\n",
    "\n",
    "levels = list(range(shallow,deep,5))\n",
    "\n",
    "interpolated_temperatures = np.array([list(scipy.interpolate.pchip_interpolate(p[0], p[1], levels)) for p in profiles])\n",
    "interpolated_salinity = np.array([list(scipy.interpolate.pchip_interpolate(p[0], p[2], levels)) for p in profiles])"
   ]
  },
  {
   "cell_type": "code",
   "execution_count": null,
   "id": "0b326e3f",
   "metadata": {},
   "outputs": [],
   "source": [
    "# transpose and cast to various rectangular forms as desired\n",
    "\n",
    "numpy.shape(interpolated_temperatures)"
   ]
  },
  {
   "cell_type": "markdown",
   "id": "7ea2c31b",
   "metadata": {},
   "source": [
    "### TS plot using scatter"
   ]
  },
  {
   "cell_type": "code",
   "execution_count": null,
   "id": "eb3c936e",
   "metadata": {},
   "outputs": [],
   "source": [
    "plt.plot(interpolated_salinity.flatten(),interpolated_temperatures.flatten(),marker='.',linestyle='')\n",
    "plt.ylabel('Temperature, degC')\n",
    "plt.xlabel('Salinity, psu')\n"
   ]
  },
  {
   "cell_type": "markdown",
   "id": "d82f4b8f",
   "metadata": {},
   "source": [
    "### Joint PDF "
   ]
  },
  {
   "cell_type": "code",
   "execution_count": null,
   "id": "bae6f9b5",
   "metadata": {},
   "outputs": [],
   "source": [
    "plt.hist2d(interpolated_salinity.flatten(),interpolated_temperatures.flatten(),density=True,\n",
    "           bins=[np.arange(34,37,.2),np.arange(0,30,1)],\n",
    "           cmin=1.e-100,cmap=cm.get_cmap('YlOrRd', 32))#'YlOrRd') #hot_r\n",
    "plt.ylabel('Temperature, degC')\n",
    "plt.xlabel('Salinity, psu')\n",
    "cbar = plt.colorbar()\n",
    "cbar.set_label('probability density')"
   ]
  },
  {
   "cell_type": "markdown",
   "id": "547c23ba",
   "metadata": {},
   "source": [
    "## Average profile in a region"
   ]
  },
  {
   "cell_type": "code",
   "execution_count": 1,
   "id": "088232ff",
   "metadata": {},
   "outputs": [
    {
     "name": "stderr",
     "output_type": "stream",
     "text": [
      "/Users/dgiglio/opt/miniconda3/envs/argovis_demos/lib/python3.9/site-packages/xarray/backends/cfgrib_.py:27: UserWarning: Failed to load cfgrib - most likely there is a problem accessing the ecCodes library. Try `import cfgrib` to get the full error message\n",
      "  warnings.warn(\n"
     ]
    }
   ],
   "source": [
    "from argovisHelpers import helpers as avh\n",
    "import datetime, pandas, matplotlib, scipy, numpy\n",
    "import numpy as np\n",
    "import helpers\n",
    "import matplotlib.pyplot as plt\n",
    "from matplotlib import cm\n",
    "\n",
    "import dateutil\n",
    "from Exploring_Argo_BGC_with_Argovis_helpers import interpolate\n",
    "\n",
    "API_ROOT='https://argovis-api.colorado.edu/'\n",
    "API_KEY=''"
   ]
  },
  {
   "cell_type": "code",
   "execution_count": 2,
   "id": "2bba1b67",
   "metadata": {},
   "outputs": [],
   "source": [
    "# get doxy profiles in a region and time period of interest\n",
    "\n",
    "variable             = 'doxy' # variable name in Argo profiles\n",
    "variable_gridded     = 'oxygen' # variable name in glodap gridded product\n",
    "product_gridded      = 'glodap'\n",
    "variable_title       = 'Oxygen, umol/kg'\n",
    "\n",
    "interp_levels        = list(range(10,2001))[0::20]\n",
    "\n",
    "box_regions_list     = [\n",
    "                        [[-78,45],[-10,65]],\n",
    "                        [[140,45],[240,65]],\n",
    "                        ]\n",
    "# regions_list          = [\n",
    "#                          [[-78,0],[-78,60],[-10,60],[-10,0],[-78,0]],  \n",
    "#                          [[-180,0],[-180,60],[-100,60],[-100,0],[-180,0]]\n",
    "#                         ]\n",
    "\n",
    "#### old\n",
    "# [[-78,20],[-78,60],[-10,60],[-10,20],[-78,20]]\n",
    "# [[-180,0],[-180,60],[-100,60],[-100,0],[-180,0]]\n",
    "\n",
    "# regions_list          = [\n",
    "#                          [[-78,45],[-78,60],[-10,60],[-10,45],[-78,45]],  \n",
    "#                          [[-180,45],[-180,60],[-100,60],[-100,45],[-180,45]]\n",
    "#                         ]\n",
    "\n",
    "#                           [[-110.69237905661997,22.596675053914193],[-238.01027259587676,20.06636494996298],[-230.54095617490697,32.225902156233005],[-218.99746716068105,36.97516393913818],[-214.24426580188214,45.86497874025607],[-200.6636904910281,54.13223045278117],[-193.87340283560107,60.695043929851124],[-157.88487826183783,58.28249897842273],[-146.3413892476119,61.18983246755488],[-124.27295436747403,47.952536112069005],[-120.53829615698918,37.24597473295535],[-110.69237905661997,22.596675053914193]]\n"
   ]
  },
  {
   "cell_type": "code",
   "execution_count": 4,
   "id": "7f4b6fcf",
   "metadata": {},
   "outputs": [
    {
     "ename": "KeyError",
     "evalue": "0",
     "output_type": "error",
     "traceback": [
      "\u001b[0;31m---------------------------------------------------------------------------\u001b[0m",
      "\u001b[0;31mKeyError\u001b[0m                                  Traceback (most recent call last)",
      "Input \u001b[0;32mIn [4]\u001b[0m, in \u001b[0;36m<cell line: 7>\u001b[0;34m()\u001b[0m\n\u001b[1;32m      9\u001b[0m argo \u001b[38;5;241m=\u001b[39m {\n\u001b[1;32m     10\u001b[0m         \u001b[38;5;124m'\u001b[39m\u001b[38;5;124mstartDate\u001b[39m\u001b[38;5;124m'\u001b[39m: \u001b[38;5;124m'\u001b[39m\u001b[38;5;124m2022-01-01T00:00:00Z\u001b[39m\u001b[38;5;124m'\u001b[39m,\n\u001b[1;32m     11\u001b[0m         \u001b[38;5;124m'\u001b[39m\u001b[38;5;124mendDate\u001b[39m\u001b[38;5;124m'\u001b[39m: \u001b[38;5;124m'\u001b[39m\u001b[38;5;124m2022-12-31T00:00:00Z\u001b[39m\u001b[38;5;124m'\u001b[39m,\n\u001b[1;32m     12\u001b[0m         \u001b[38;5;124m'\u001b[39m\u001b[38;5;124mbox\u001b[39m\u001b[38;5;124m'\u001b[39m: ireg,\n\u001b[1;32m     13\u001b[0m         \u001b[38;5;124m'\u001b[39m\u001b[38;5;124mdata\u001b[39m\u001b[38;5;124m'\u001b[39m: variable\u001b[38;5;241m+\u001b[39m\u001b[38;5;124m'\u001b[39m\u001b[38;5;124m,1\u001b[39m\u001b[38;5;124m'\u001b[39m\n\u001b[1;32m     14\u001b[0m         } \u001b[38;5;66;03m# querying only profiles that have good qc doxy \u001b[39;00m\n\u001b[1;32m     15\u001b[0m         \u001b[38;5;66;03m# 'polygon': ireg,\u001b[39;00m\n\u001b[0;32m---> 17\u001b[0m profiles \u001b[38;5;241m=\u001b[39m \u001b[43mavh\u001b[49m\u001b[38;5;241;43m.\u001b[39;49m\u001b[43mquery\u001b[49m\u001b[43m(\u001b[49m\u001b[38;5;124;43m'\u001b[39;49m\u001b[38;5;124;43margo\u001b[39;49m\u001b[38;5;124;43m'\u001b[39;49m\u001b[43m,\u001b[49m\u001b[43m \u001b[49m\u001b[43moptions\u001b[49m\u001b[38;5;241;43m=\u001b[39;49m\u001b[43margo\u001b[49m\u001b[43m,\u001b[49m\u001b[43m \u001b[49m\u001b[43mapikey\u001b[49m\u001b[38;5;241;43m=\u001b[39;49m\u001b[43mAPI_KEY\u001b[49m\u001b[43m,\u001b[49m\u001b[43m \u001b[49m\u001b[43mapiroot\u001b[49m\u001b[38;5;241;43m=\u001b[39;49m\u001b[43mAPI_ROOT\u001b[49m\u001b[43m)\u001b[49m \n\u001b[1;32m     18\u001b[0m \u001b[38;5;66;03m# interpolate profiles   \u001b[39;00m\n\u001b[1;32m     19\u001b[0m interpolated_profiles      \u001b[38;5;241m=\u001b[39m []\n",
      "File \u001b[0;32m~/opt/miniconda3/envs/argovis_demos/lib/python3.9/site-packages/argovisHelpers/helpers.py:135\u001b[0m, in \u001b[0;36mquery\u001b[0;34m(route, options, apikey, apiroot, verbose)\u001b[0m\n\u001b[1;32m    133\u001b[0m ops[\u001b[38;5;124m'\u001b[39m\u001b[38;5;124mstartDate\u001b[39m\u001b[38;5;124m'\u001b[39m] \u001b[38;5;241m=\u001b[39m times[i]\n\u001b[1;32m    134\u001b[0m ops[\u001b[38;5;124m'\u001b[39m\u001b[38;5;124mendDate\u001b[39m\u001b[38;5;124m'\u001b[39m] \u001b[38;5;241m=\u001b[39m times[i\u001b[38;5;241m+\u001b[39m\u001b[38;5;241m1\u001b[39m]\n\u001b[0;32m--> 135\u001b[0m increment \u001b[38;5;241m=\u001b[39m \u001b[43margofetch\u001b[49m\u001b[43m(\u001b[49m\u001b[43mroute\u001b[49m\u001b[43m,\u001b[49m\u001b[43m \u001b[49m\u001b[43moptions\u001b[49m\u001b[38;5;241;43m=\u001b[39;49m\u001b[43mops\u001b[49m\u001b[43m,\u001b[49m\u001b[43m \u001b[49m\u001b[43mapikey\u001b[49m\u001b[38;5;241;43m=\u001b[39;49m\u001b[43mapikey\u001b[49m\u001b[43m,\u001b[49m\u001b[43m \u001b[49m\u001b[43mapiroot\u001b[49m\u001b[38;5;241;43m=\u001b[39;49m\u001b[43mapiroot\u001b[49m\u001b[43m,\u001b[49m\u001b[43m \u001b[49m\u001b[43msuggestedLatency\u001b[49m\u001b[38;5;241;43m=\u001b[39;49m\u001b[43mdelay\u001b[49m\u001b[43m,\u001b[49m\u001b[43m \u001b[49m\u001b[43mverbose\u001b[49m\u001b[38;5;241;43m=\u001b[39;49m\u001b[43mverbose\u001b[49m\u001b[43m)\u001b[49m\n\u001b[1;32m    136\u001b[0m results \u001b[38;5;241m+\u001b[39m\u001b[38;5;241m=\u001b[39m increment[\u001b[38;5;241m0\u001b[39m]\n\u001b[1;32m    137\u001b[0m delay \u001b[38;5;241m=\u001b[39m increment[\u001b[38;5;241m1\u001b[39m]\n",
      "File \u001b[0;32m~/opt/miniconda3/envs/argovis_demos/lib/python3.9/site-packages/argovisHelpers/helpers.py:34\u001b[0m, in \u001b[0;36margofetch\u001b[0;34m(route, options, apikey, apiroot, suggestedLatency, verbose)\u001b[0m\n\u001b[1;32m     31\u001b[0m         \u001b[38;5;28mprint\u001b[39m(\u001b[38;5;124m\"\u001b[39m\u001b[38;5;124mArgovis\u001b[39m\u001b[38;5;124m'\u001b[39m\u001b[38;5;124m servers experienced an error. Please try your request again, and email argovis@colorado.edu if this keeps happening; please include the full details of the the request you made so we can help address.\u001b[39m\u001b[38;5;124m\"\u001b[39m)\n\u001b[1;32m     32\u001b[0m     \u001b[38;5;28;01mraise\u001b[39;00m \u001b[38;5;167;01mException\u001b[39;00m(statuscode)\n\u001b[0;32m---> 34\u001b[0m \u001b[38;5;28;01mif\u001b[39;00m (statuscode\u001b[38;5;241m==\u001b[39m\u001b[38;5;241m404\u001b[39m) \u001b[38;5;129;01mor\u001b[39;00m (\u001b[38;5;28mtype\u001b[39m(\u001b[43mdl\u001b[49m\u001b[43m[\u001b[49m\u001b[38;5;241;43m0\u001b[39;49m\u001b[43m]\u001b[49m) \u001b[38;5;129;01mis\u001b[39;00m \u001b[38;5;28mdict\u001b[39m \u001b[38;5;129;01mand\u001b[39;00m \u001b[38;5;124m'\u001b[39m\u001b[38;5;124mcode\u001b[39m\u001b[38;5;124m'\u001b[39m \u001b[38;5;129;01min\u001b[39;00m dl[\u001b[38;5;241m0\u001b[39m] \u001b[38;5;129;01mand\u001b[39;00m dl[\u001b[38;5;241m0\u001b[39m][\u001b[38;5;124m'\u001b[39m\u001b[38;5;124mcode\u001b[39m\u001b[38;5;124m'\u001b[39m]\u001b[38;5;241m==\u001b[39m\u001b[38;5;241m404\u001b[39m):\n\u001b[1;32m     35\u001b[0m     \u001b[38;5;28;01mreturn\u001b[39;00m [], suggestedLatency\n\u001b[1;32m     37\u001b[0m \u001b[38;5;28;01mreturn\u001b[39;00m dl, suggestedLatency\n",
      "\u001b[0;31mKeyError\u001b[0m: 0"
     ]
    }
   ],
   "source": [
    "regions_list_data                 = []\n",
    "regions_list_data_noave           = []\n",
    "regions_list_data_levels          = []\n",
    "regions_list_data_noave_nointerp  = []\n",
    "regions_list_data_grid_axarray    = []\n",
    "###### profiles\n",
    "for ireg in box_regions_list:\n",
    "    # get profiles in region\n",
    "    argo = {\n",
    "            'startDate': '2022-01-01T00:00:00Z',\n",
    "            'endDate': '2022-12-31T00:00:00Z',\n",
    "            'box': ireg,\n",
    "            'data': variable+',1'\n",
    "            } # querying only profiles that have good qc doxy \n",
    "            # 'polygon': ireg,\n",
    "\n",
    "    profiles = avh.query('argo', options=argo, apikey=API_KEY, apiroot=API_ROOT) \n",
    "    # interpolate profiles   \n",
    "    interpolated_profiles      = []\n",
    "    interpolated_profiles_time = []\n",
    "    interpolated_profiles_lon  = []\n",
    "    interpolated_profiles_lat  = []\n",
    "    \n",
    "    for i in list(range(0,len(profiles)-1)):\n",
    "        if len(profiles[i]['data'][0]) > 1:\n",
    "            interpolated_profiles.append(interpolate(profiles[i],interp_levels))\n",
    "            interpolated_profiles_time.append(dateutil.parser.isoparse(profiles[i]['timestamp'])) \n",
    "            interpolated_profiles_lon.append(profiles[i]['geolocation']['coordinates'][0])\n",
    "            interpolated_profiles_lat.append(profiles[i]['geolocation']['coordinates'][1])\n",
    "    # shape variable into something appropriate\n",
    "    data = [x['data'] for x in interpolated_profiles]\n",
    "    data = [[level[variable] for level in x] for x in data]\n",
    "    # store profile data\n",
    "    regions_list_data_noave.append(data)\n",
    "    regions_list_data_noave_nointerp.append([x['data'] for x in profiles])\n",
    "    data = np.transpose(data)\n",
    "    regions_list_data.append(np.nanmean(data,1))\n",
    "    regions_list_data_levels.append(interp_levels)\n",
    "    \n",
    "    plt.figure()\n",
    "    plt.plot(interpolated_profiles_lon,interpolated_profiles_lat,marker='*',linestyle='none')\n",
    "    \n",
    "####### gridded data\n",
    "for ireg in regions_list:\n",
    "    grids_opt = {\n",
    "            'box': ireg,\n",
    "            'data': variable_gridded\n",
    "            } # querying only profiles that have good qc doxy\n",
    "\n",
    "    grids = avh.query('grids/'+product_gridded, options=grids_opt, apikey=API_KEY, apiroot=API_ROOT)\n",
    "    grids_opt  = {\n",
    "                    \"id\": grids[0]['metadata'][0]\n",
    "                    }\n",
    "    grids_meta = avh.query('grids/meta', options=grids_opt, apikey=API_KEY, apiroot=API_ROOT)\n",
    "    \n",
    "    xar = helpers.grids_to_xarray(grids,grids_meta)\n",
    "    \n",
    "    regions_list_data_grid_axarray.append(xar)\n",
    "    regions_list_data.append(helpers.regional_mean(xar)['data'].values.flatten())\n",
    "    regions_list_data_levels.append(grids_meta[0]['levels'])\n",
    "    if len(helpers.regional_mean(xar)['data'].values.flatten())!=len(grids_meta[0]['levels']):\n",
    "        stop_check_len\n",
    "    "
   ]
  },
  {
   "cell_type": "code",
   "execution_count": null,
   "id": "6aa99b29",
   "metadata": {},
   "outputs": [],
   "source": [
    "# approximate factor: 32*1.025/1000 (to go from umol/kg to mg/l)\n",
    "# see example for Pacific vs Atlantic (Fig. 5.6.3) at https://rwu.pressbooks.pub/webboceanography/chapter/5-6-nitrogen-and-nutrients/\n"
   ]
  },
  {
   "cell_type": "code",
   "execution_count": null,
   "id": "d6e48de3",
   "metadata": {},
   "outputs": [],
   "source": [
    "for iaxr in regions_list_data_grid_axarray:\n",
    "    plt.figure()\n",
    "    iaxr['data'][:,:,0].plot()"
   ]
  },
  {
   "cell_type": "code",
   "execution_count": null,
   "id": "c763f508",
   "metadata": {},
   "outputs": [],
   "source": [
    "cols = ['k','r','b','m']"
   ]
  },
  {
   "cell_type": "code",
   "execution_count": null,
   "id": "32f13c69",
   "metadata": {},
   "outputs": [],
   "source": [
    "for i,idata in enumerate(regions_list_data):\n",
    "    plt.plot(idata,regions_list_data_levels[i],color=cols[i],linewidth=3)\n",
    "plt.gca().invert_yaxis()\n",
    "plt.ylabel('Vertical level')\n",
    "plt.xlabel('variable_title')"
   ]
  },
  {
   "cell_type": "code",
   "execution_count": null,
   "id": "b52e4094",
   "metadata": {},
   "outputs": [],
   "source": [
    "# plot raw profiles that go into the average\n",
    "for i,idata in enumerate(regions_list_data_noave_nointerp):\n",
    "    for iidata in idata:\n",
    "        \n",
    "        plt.plot(iidata[0],iidata[1],color=cols[i],marker='.')\n",
    "        if sum(np.array(iidata[0])<0) != 0:\n",
    "            ciao\n",
    "plt.gca().invert_yaxis()        \n",
    "        "
   ]
  },
  {
   "cell_type": "code",
   "execution_count": null,
   "id": "32c910dc",
   "metadata": {
    "scrolled": true
   },
   "outputs": [],
   "source": [
    "for i,idata in enumerate(regions_list_data_noave):\n",
    "    for ii,iidata in enumerate(idata):\n",
    "        \n",
    "        plt.plot(iidata,regions_list_data_levels[i],color=cols[i])\n",
    "        if sum(np.array(iidata)<0) != 0:\n",
    "            ciao\n",
    "plt.gca().invert_yaxis()"
   ]
  },
  {
   "cell_type": "code",
   "execution_count": null,
   "id": "e7659a22",
   "metadata": {},
   "outputs": [],
   "source": []
  }
 ],
 "metadata": {
  "kernelspec": {
   "display_name": "argovis_demos",
   "language": "python",
   "name": "argovis_demos"
  },
  "language_info": {
   "codemirror_mode": {
    "name": "ipython",
    "version": 3
   },
   "file_extension": ".py",
   "mimetype": "text/x-python",
   "name": "python",
   "nbconvert_exporter": "python",
   "pygments_lexer": "ipython3",
   "version": "3.9.13"
  },
  "toc": {
   "base_numbering": 1,
   "nav_menu": {},
   "number_sections": true,
   "sideBar": true,
   "skip_h1_title": false,
   "title_cell": "Table of Contents",
   "title_sidebar": "Contents",
   "toc_cell": false,
   "toc_position": {},
   "toc_section_display": true,
   "toc_window_display": false
  }
 },
 "nbformat": 4,
 "nbformat_minor": 5
}
