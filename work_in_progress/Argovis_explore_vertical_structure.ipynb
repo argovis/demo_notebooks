{
 "cells": [
  {
   "cell_type": "markdown",
   "id": "415f5ccd",
   "metadata": {},
   "source": [
    "# Argovis explore vertical structure of ocean fields\n",
    "\n",
    "This notebook contains some examples and is a work in progress: code will transition from here to other notebooks. Public consumers should focus on our educational notebooks, starting with [Intro to Argovis](https://github.com/argovis/demo_notebooks/blob/main/Intro_to_Argovis.ipynb)."
   ]
  },
  {
   "cell_type": "code",
   "execution_count": null,
   "id": "c6fda264",
   "metadata": {},
   "outputs": [],
   "source": [
    "from argovisHelpers import helpers as avh\n",
    "import datetime #, pandas, matplotlib, scipy, numpy\n",
    "import numpy as np\n",
    "import matplotlib.pyplot as plt\n",
    "#from matplotlib import cm\n",
    "#import cartopy.crs as ccrs\n",
    "\n",
    "# for the function\n",
    "import xarray as xr\n",
    "import dateutil\n",
    "from Argovis_tasks_helpers import map_lons_lats, interpolate_profiles\n",
    "import pandas\n",
    "# \n",
    "from Argovis_tasks_helpers import get_route #, map_lons_lats\n",
    "\n",
    "API_KEY=''"
   ]
  },
  {
   "cell_type": "code",
   "execution_count": null,
   "id": "bf2d975d",
   "metadata": {},
   "outputs": [],
   "source": [
    "# API call showing collections available for each route\n",
    "\n",
    "#### parameters the user needs to select\n",
    "# user selects list of collections to use for the plot\n",
    "\n",
    "#### for bgc variables we have gridded time mean fields\n",
    "selection_params = {}\n",
    "selection_params['collections']  = ['argo', 'grids/glodap',\n",
    "              ] # we compare argo profiles with a gridded product\n",
    "\n",
    "# collections = ['cchdo', 'grids/glodap',\n",
    "#               ] # we compare argo profiles with a gridded product\n",
    "\n",
    "#### for temperature and salinity only we have a monthly product\n",
    "# collections = ['argo', 'grids/rg09',\n",
    "#               ] # we compare argo profiles with a gridded product\n",
    "\n",
    "######## show list of variables available\n",
    "for icollection in selection_params['collections']:\n",
    "    try:\n",
    "        print(avh.query(icollection+'/vocabulary', options={'parameter': 'data'}, verbose='true',apikey=API_KEY, apiroot=get_route(icollection)) )\n",
    "    except:\n",
    "        print('No data parameter for vocabulary query')\n",
    "    try:\n",
    "        bfr = avh.query(icollection+'/vocabulary', verbose='true',apikey=API_KEY, apiroot=get_route(icollection))\n",
    "        print(*bfr[0]['data'],sep=',')\n",
    "    except:\n",
    "        print('Needs data parameter for vocabulary query')\n",
    "    \n",
    "#### params varying with collection\n",
    "# define name of variable of interest for each collection (first show list of all variables available for each collection)\n",
    "selection_params['varnames']     = ['doxy', 'oxygen']\n",
    "selection_params['varnames_qc']  = [',1', ''] # argoqc = 1 is best quality\n",
    "selection_params['vartitle']     = 'Oxygen, umol/kg'\n",
    "# define name of the variable that includes levels for each collection\n",
    "selection_params['varname_levels'] = ['pressure',''] # for the gridded product, the level info is in the metadata, i.e. there is no variable in 'data' (for argo, 'pressure' is within the 'data' instead)\n",
    "####\n",
    "# varname     = ['doxy', 'oxygen']\n",
    "# varname_qc  = [',2', ''] # woceqc = 2 is best quality, it corresponds to 'no problem noted' (see https://dmoserv3.whoi.edu/data_docs/GEOTRACES/EPZT/WOCE_QualityFlags.pdf)\n",
    "# vartitle    = 'Oxygen, umol/kg'\n",
    "\n",
    "\n",
    "# varname     = ['salinity', 'rg09_salinity']\n",
    "# varname_qc  = [',1', '']\n",
    "# vartitle    = 'Salinity, psu'\n",
    "\n",
    "# varname     = ['temperature', 'rg09_temperature']\n",
    "# varname_qc  = [',1', '']\n",
    "# vartitle    = 'Temperature, degC'\n",
    "\n",
    "#### params varying with the region\n",
    "# in this example, we will use the 'box' selection (in the next cell),\n",
    "# hence we indicate here the bottom/left and top/right vertices... \n",
    "# the other option is to search in a 'polygon' and indicate the polygon\n",
    "# vertices in a list (first and last vertex should be the same)\n",
    "selection_params['regions']     = [\n",
    "                        [[-145.5,45.5],[-135.5,50.5]],\n",
    "                        [[-50,45],[-40,50]],\n",
    "                        ]\n",
    "selection_params['regions_type'] = ['box', 'box']\n",
    "\n",
    "selection_params['regions_tags'] = ['Pacific', 'Atlantic']\n",
    "####\n",
    "\n",
    "# list of startDate and endDates of interest\n",
    "selection_params['startDate']    = ['2021-01-01T00:00:00Z']\n",
    "selection_params['endDate']      = ['2021-12-31T00:00:00Z']\n",
    "\n",
    "#### other params for the api query\n",
    "# platform?\n",
    "\n",
    "\n",
    "#### other params\n",
    "# levels for vertically integrated profiles\n",
    "selection_params['interp_levels']= list(range(10,2001))[0::20]\n"
   ]
  },
  {
   "cell_type": "code",
   "execution_count": null,
   "id": "e05e3465",
   "metadata": {},
   "outputs": [],
   "source": [
    "def format_api_output(api_output):\n",
    "    api_output_formatted = {}\n",
    "    if api_output:\n",
    "        # create a list with information for non gridded products\n",
    "        if 'grids' not in icollection and 'timeseries' not in icollection:\n",
    "            api_output_formatted['data']     =[x['data'][0] for x in api_output]\n",
    "            api_output_formatted['level']    =[x['data'][1] for x in api_output]\n",
    "            api_output_formatted['timestamp']=[dateutil.parser.isoparse(x['timestamp']) for x in api_output]\n",
    "            api_output_formatted['longitude']=[x['geolocation']['coordinates'][0] for x in api_output]\n",
    "            api_output_formatted['latitude'] =[x['geolocation']['coordinates'][1] for x in api_output]\n",
    "\n",
    "            # if interp_levels are provided, then interpolate and create an xarray\n",
    "            if 'interp_levels' in selection_params.keys():\n",
    "                interpolated_profiles = []\n",
    "                for idata in api_output:\n",
    "                    interpolated_profiles.append(interpolate_profiles(profile=idata,levels_varname=selection_params['varname_levels'][icl],levels_new=selection_params['interp_levels']))\n",
    "                        \n",
    "                d = [x['data'] for x in interpolated_profiles]\n",
    "                d = [[level[selection_params['varnames'][icl]] for level in x] for x in d]\n",
    "                    \n",
    "                d_ind = np.array([list(range(1,len(api_output)+1))]*len(selection_params['interp_levels'])).transpose().tolist()\n",
    "                d_lev = [selection_params['interp_levels']]*len(api_output)\n",
    "\n",
    "                # create xarray\n",
    "                data_dict = {'data': np.array(d).flatten().tolist(),'levels': np.array(d_lev).flatten().tolist(),'index':np.array(d_ind).flatten().tolist()\n",
    "                        } \n",
    "                data_df = pandas.DataFrame(data_dict)   \n",
    "                df_rows = pandas.DataFrame(data_df).set_index([\"levels\",\"index\"])\n",
    "                xar     = xr.Dataset.from_dataframe(df_rows)\n",
    "                xar.assign(longitude=(['index'],np.array(api_output_formatted['longitude'])))\n",
    "                xar.assign(latitude=(['index'],np.array(api_output_formatted['latitude'])))\n",
    "                xar.assign(timestamp=(['index'],np.array(api_output_formatted['timestamp'])))\n",
    "\n",
    "                api_output_formatted['data_xarray'] = xar\n",
    "    return api_output_formatted"
   ]
  },
  {
   "cell_type": "code",
   "execution_count": null,
   "id": "483e7a5c",
   "metadata": {},
   "outputs": [],
   "source": [
    "api_output_formatted_list = []\n",
    "\n",
    "for icl,icollection in enumerate(selection_params['collections']):\n",
    "    for i,ireg in enumerate(selection_params['regions']):\n",
    "        for istart,iend in zip(selection_params['startDate'],selection_params['endDate']):\n",
    "            \n",
    "            iparam = {}\n",
    "            iparam = {'data': selection_params['varnames'][icl]+selection_params['varnames_qc'][icl]}\n",
    "            if ireg:\n",
    "                iparam[selection_params['regions_type'][i]] = ireg\n",
    "            if istart:\n",
    "                iparam['startDate'] = istart\n",
    "            if iend:\n",
    "                iparam['endDate']   = iend\n",
    "            api_output = avh.query(icollection, options=iparam, verbose='true',apikey=API_KEY, apiroot=get_route(icollection)) \n",
    "            \n",
    "            api_output_formatted = format_api_output(api_output)\n",
    "            \n",
    "                        \n",
    "            inprogress\n",
    "            \n",
    "            "
   ]
  },
  {
   "cell_type": "code",
   "execution_count": null,
   "id": "11211a30",
   "metadata": {},
   "outputs": [],
   "source": [
    "format_api_output(api_output)"
   ]
  },
  {
   "cell_type": "code",
   "execution_count": null,
   "id": "c5edaa7e",
   "metadata": {},
   "outputs": [],
   "source": [
    "api_output_formatted\n"
   ]
  },
  {
   "cell_type": "code",
   "execution_count": null,
   "id": "cfa307c7",
   "metadata": {},
   "outputs": [],
   "source": [
    "api_output_formatted['data_xarray']['data'].plot()"
   ]
  },
  {
   "cell_type": "code",
   "execution_count": null,
   "id": "b98d0e09",
   "metadata": {},
   "outputs": [],
   "source": [
    "api_output_formatted['timestamp']"
   ]
  },
  {
   "cell_type": "code",
   "execution_count": null,
   "id": "536d801a",
   "metadata": {},
   "outputs": [],
   "source": [
    "map_lons_lats(api_output_formatted['longitude'],api_output_formatted['latitude'],dx=20,dy=20)"
   ]
  },
  {
   "cell_type": "code",
   "execution_count": null,
   "id": "21d431d0",
   "metadata": {},
   "outputs": [],
   "source": []
  },
  {
   "cell_type": "code",
   "execution_count": null,
   "id": "2a46c740",
   "metadata": {},
   "outputs": [],
   "source": []
  },
  {
   "cell_type": "code",
   "execution_count": null,
   "id": "779bb05b",
   "metadata": {},
   "outputs": [],
   "source": []
  },
  {
   "cell_type": "code",
   "execution_count": null,
   "id": "83a1b533",
   "metadata": {},
   "outputs": [],
   "source": []
  },
  {
   "cell_type": "code",
   "execution_count": null,
   "id": "44e45ab1",
   "metadata": {},
   "outputs": [],
   "source": []
  },
  {
   "cell_type": "code",
   "execution_count": null,
   "id": "b34933d5",
   "metadata": {},
   "outputs": [],
   "source": [
    "inprogress"
   ]
  },
  {
   "cell_type": "code",
   "execution_count": null,
   "id": "58c6a52c",
   "metadata": {
    "scrolled": false
   },
   "outputs": [],
   "source": [
    "# get data of interest and do horizontal average\n",
    "!date\n",
    "data_reg = get_profiles_in_regions_and_horiz_ave(collections=collections,varname=varname,varname_qc=varname_qc,varname_levels=varname_levels,interp_levels=interp_levels,regions_list_source=regions_list,regions_list_source_type=regions_list_type,regions_list_source_tags=regions_list_tags,startDate=startDate,endDate=endDate,API_KEY=API_KEY)         \n",
    "!date    "
   ]
  },
  {
   "cell_type": "code",
   "execution_count": null,
   "id": "40fa0a4f",
   "metadata": {},
   "outputs": [],
   "source": [
    "# plot the map for one timestep/level for each of the gridded products\n",
    "for i,iaxr in enumerate(data_reg['regions_list_data_raw_xarray']):\n",
    "    if iaxr:\n",
    "        print(iaxr.sizes)\n",
    "        print(data_reg['regions_list_tags'][i]+', '+data_reg['regions_list_collections'][i])\n",
    "        plt.figure()\n",
    "        iaxr['data'][:,:,0,0].plot()"
   ]
  },
  {
   "cell_type": "code",
   "execution_count": null,
   "id": "b9e86d81",
   "metadata": {},
   "outputs": [],
   "source": [
    "len(data_reg['regions_list_data_horiz_ave'])"
   ]
  },
  {
   "cell_type": "code",
   "execution_count": null,
   "id": "a58b7fb8",
   "metadata": {},
   "outputs": [],
   "source": [
    "cols = ['k','r','b','m']"
   ]
  },
  {
   "cell_type": "code",
   "execution_count": null,
   "id": "47b58d8e",
   "metadata": {},
   "outputs": [],
   "source": [
    "# plot the horizontal average for (vertically) interpolated profiles and for the gridded product\n",
    "profiles_in_regions_and_horiz_ave_plot1d_horiz_ave(data_reg=data_reg,data_reg_cols=cols,xlabel_tag=vartitle)\n"
   ]
  },
  {
   "cell_type": "code",
   "execution_count": null,
   "id": "cc42b04e",
   "metadata": {},
   "outputs": [],
   "source": [
    "# let's look at all the raw profiles that were vertically interpolated (except for the gridded products) to then compute the horizontal average above\n",
    "profiles_in_regions_and_horiz_ave_plot1d_all(data_reg=data_reg,data_reg_cols=cols,xlabel_tag=vartitle)\n"
   ]
  },
  {
   "cell_type": "code",
   "execution_count": null,
   "id": "9677aebe",
   "metadata": {},
   "outputs": [],
   "source": [
    "# let's look at all the vertically interpolated profiles that were used to compute the horizontal average above\n",
    "profiles_in_regions_and_horiz_ave_plot1d_all_vert_interp(data_reg=data_reg,data_reg_cols=cols,xlabel_tag=vartitle)\n",
    "    "
   ]
  },
  {
   "cell_type": "code",
   "execution_count": null,
   "id": "c55f2310",
   "metadata": {},
   "outputs": [],
   "source": [
    "#https://sites.google.com/view/paztronomer/blog/basic/python-colors\n",
    "month_groups_cols= ['dodgerblue', 'violet', 'orangered', 'gold']\n",
    "month_groups     = [[12, 1, 2], [3, 4, 5], [6, 7, 8], [9, 10, 11]]\n",
    "month_groups_tags= ['DJF', 'MAM', 'JJA', 'SON']\n",
    "profiles_in_regions_and_horiz_ave_plot1d_all_col_by_monthgroup(data_reg=data_reg,month_groups=month_groups,month_groups_cols=month_groups_cols,month_groups_tags=month_groups_tags,xlabel_tag=vartitle)\n"
   ]
  },
  {
   "cell_type": "code",
   "execution_count": null,
   "id": "5e11293b",
   "metadata": {},
   "outputs": [],
   "source": [
    "# bin in time? platform history? woceline? easyocean?"
   ]
  },
  {
   "cell_type": "code",
   "execution_count": null,
   "id": "24a0507a",
   "metadata": {},
   "outputs": [],
   "source": []
  }
 ],
 "metadata": {
  "kernelspec": {
   "display_name": "argovis_demos",
   "language": "python",
   "name": "argovis_demos"
  },
  "language_info": {
   "codemirror_mode": {
    "name": "ipython",
    "version": 3
   },
   "file_extension": ".py",
   "mimetype": "text/x-python",
   "name": "python",
   "nbconvert_exporter": "python",
   "pygments_lexer": "ipython3",
   "version": "3.9.13"
  },
  "toc": {
   "base_numbering": 1,
   "nav_menu": {},
   "number_sections": true,
   "sideBar": true,
   "skip_h1_title": false,
   "title_cell": "Table of Contents",
   "title_sidebar": "Contents",
   "toc_cell": false,
   "toc_position": {},
   "toc_section_display": true,
   "toc_window_display": false
  }
 },
 "nbformat": 4,
 "nbformat_minor": 5
}
