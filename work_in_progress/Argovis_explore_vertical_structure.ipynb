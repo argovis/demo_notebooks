{
 "cells": [
  {
   "cell_type": "markdown",
   "id": "1bbf0add",
   "metadata": {},
   "source": [
    "# Argovis explore vertical structure of ocean fields\n",
    "\n",
    "This notebook contains some examples and is a work in progress: code will transition from here to other notebooks. Public consumers should focus on our educational notebooks, starting with [Intro to Argovis](https://github.com/argovis/demo_notebooks/blob/main/Intro_to_Argovis.ipynb)."
   ]
  },
  {
   "cell_type": "code",
   "execution_count": null,
   "id": "37523ab4",
   "metadata": {},
   "outputs": [],
   "source": [
    "from argovisHelpers import helpers as avh\n",
    "import datetime #, pandas, matplotlib, scipy, numpy\n",
    "import numpy as np\n",
    "import matplotlib.pyplot as plt\n",
    "import matplotlib.colors as mcolors\n",
    "#from matplotlib import cm\n",
    "#import cartopy.crs as ccrs\n",
    "\n",
    "# # for the function\n",
    "# import xarray as xr\n",
    "# import dateutil\n",
    "from Argovis_tasks_helpers import interpolate_profiles\n",
    "# #import pandas\n",
    "# # \n",
    "from Argovis_tasks_helpers import get_route,show_variable_names_for_collections, format_api_output,get_api_output_formatted_list_1var, api_output_formatted_list_1var_plot_lons_lats_map,api_output_formatted_list_1var_plot_profiles,api_output_formatted_list_1var_plot_map,api_output_formatted_list_1var_plot_horizontal_and_time_ave\n",
    "\n",
    "API_KEY=''\n"
   ]
  },
  {
   "cell_type": "code",
   "execution_count": null,
   "id": "46923571",
   "metadata": {},
   "outputs": [],
   "source": [
    "# API call showing collections available for each route\n",
    "\n",
    "#### parameters the user needs to select\n",
    "# user selects list of collections to use for the plot\n",
    "\n",
    "#### for bgc variables we have gridded time mean fields\n",
    "selection_params = {}\n",
    "selection_params['collections']  = ['argo', 'grids/glodap',\n",
    "              ] # we compare argo profiles with a gridded product\n",
    "\n",
    "# selection_params['collections']  = ['cchdo', 'grids/glodap',\n",
    "#               ] # we compare argo profiles with a gridded product\n",
    "\n",
    "# selection_params['collections']  = ['argo', 'grids/rg09',\n",
    "#               ] # we compare argo profiles with a gridded product\n",
    "\n",
    "show_variable_names_for_collections(collections_list=selection_params['collections'],API_KEY=API_KEY)\n",
    "\n",
    "#### params varying with collection\n",
    "# define name of variable of interest for each collection (first show list of all variables available for each collection)\n",
    "selection_params['varnames']     = ['doxy', 'oxygen']\n",
    "selection_params['varnames_qc']  = [',1', ''] # argoqc = 1 is best quality\n",
    "selection_params['varname_title']     = 'Oxygen'\n",
    "\n",
    "# selection_params['varnames']     = ['doxy', 'oxygen']\n",
    "# selection_params['varnames_qc']  = [',2', ''] # woceqc = 2 is best quality, it corresponds to 'no problem noted' (see https://dmoserv3.whoi.edu/data_docs/GEOTRACES/EPZT/WOCE_QualityFlags.pdf)\n",
    "# selection_params['varname_title']     = 'Oxygen, umol/kg'\n",
    "\n",
    "# selection_params['varnames']     = ['salinity', 'rg09_salinity']\n",
    "# selection_params['varnames_qc']  = [',1', ''] # argoqc = 1 is best quality\n",
    "# selection_params['varname_title']     = 'Salinity, psu'\n",
    "\n",
    "selection_params['data_extra']     = ['',''] # if we wanted to only consider oxygen profiles where temperature is qc 1, e.g. 'temperature,1'\n",
    "                                           # please note that only the variable in varnames is stored now\n",
    "\n",
    "# define name of the variable that includes levels for each collection\n",
    "selection_params['varname_levels'] = ['pressure',''] # for the gridded product, the level info is in the metadata, i.e. there is no variable in 'data' (for argo, 'pressure' is within the 'data' instead)\n",
    "####\n",
    "\n",
    "#### params varying with the region\n",
    "# in this example, we will use the 'box' selection (in the next cell),\n",
    "# hence we indicate here the bottom/left and top/right vertices... \n",
    "# the other option is to search in a 'polygon' and indicate the polygon\n",
    "# vertices in a list (first and last vertex should be the same)\n",
    "selection_params['regions']     = [\n",
    "                        #[[-55.5,35.5],[-45.5,40.5]],\n",
    "                        [[-145.5,45.5],[-135.5,50.5]],\n",
    "                        [[-50,45],[-40,50]],\n",
    "                        ]\n",
    "selection_params['regions_type'] = ['box', 'box']\n",
    "\n",
    "selection_params['regions_tag'] = ['Pacific', 'Atlantic']\n",
    "####\n",
    "\n",
    "# list of startDate and endDates of interest (note: these will not be used for glodap as glodap only provides a time mean)\n",
    "selection_params['startDate']    = ['2021-01-01T00:00:00Z']\n",
    "selection_params['endDate']      = ['2021-12-31T00:00:00Z']\n",
    "\n",
    "#### other params for the api query\n",
    "# platform?\n",
    "\n",
    "\n",
    "#### other params\n",
    "# levels for vertically integrated profiles\n",
    "selection_params['interp_levels']= list(range(10,2001))[0::20]\n",
    "colors = list(mcolors.TABLEAU_COLORS.keys())"
   ]
  },
  {
   "cell_type": "code",
   "execution_count": null,
   "id": "7f8b0c27",
   "metadata": {},
   "outputs": [],
   "source": [
    "api_output_formatted_list = get_api_output_formatted_list_1var(selection_params=selection_params,API_KEY=API_KEY)"
   ]
  },
  {
   "cell_type": "code",
   "execution_count": null,
   "id": "bd64e90b",
   "metadata": {},
   "outputs": [],
   "source": [
    "# plot map of lons and lats for data that are not gridded\n",
    "api_output_formatted_list_1var_plot_lons_lats_map(api_output_formatted_list)      "
   ]
  },
  {
   "cell_type": "code",
   "execution_count": null,
   "id": "af2bacce",
   "metadata": {},
   "outputs": [],
   "source": [
    "# plot the profiles shown above\n",
    "api_output_formatted_list_1var_plot_profiles(api_output_formatted_list)"
   ]
  },
  {
   "cell_type": "code",
   "execution_count": null,
   "id": "ea7fb4f7",
   "metadata": {},
   "outputs": [],
   "source": [
    "# plot map at one level and time\n",
    "api_output_formatted_list_1var_plot_map(api_output_formatted_list,ilev=0,itime=0)  \n",
    "               "
   ]
  },
  {
   "cell_type": "code",
   "execution_count": null,
   "id": "8cfce5e0",
   "metadata": {},
   "outputs": [],
   "source": [
    "# plot horizontal and time average\n",
    "api_output_formatted_list_1var_plot_horizontal_and_time_ave(api_output_formatted_list,colors)  \n"
   ]
  },
  {
   "cell_type": "markdown",
   "id": "d110170d",
   "metadata": {},
   "source": [
    "## The same plots can be created for a specific Argo platform and/or a woce line"
   ]
  },
  {
   "cell_type": "code",
   "execution_count": null,
   "id": "12c750a1",
   "metadata": {},
   "outputs": [],
   "source": [
    "selection_params = {}\n",
    "selection_params['collections']  = ['argo']\n",
    "# selection_params['collections']  = ['easyocean']\n",
    "\n",
    "selection_params['parameter_name']= 'platform'\n",
    "# selection_params['parameter_name']= 'woceline'\n",
    "\n",
    "#### object of interest (should be consistent with selection_params['collections'])\n",
    "selection_params['parameter']     = ['4903274']\n",
    "# selection_params['parameter']     = ['A10']\n",
    "\n",
    "\n",
    "# list all the values for the parameter of interest\n",
    "vocab_params = {\n",
    "    \"parameter\": selection_params['parameter_name'] \n",
    "}\n",
    "for icollection in selection_params['collections']:\n",
    "    print(avh.query(icollection+'/vocabulary', options=vocab_params, apikey=API_KEY, apiroot=get_route(icollection)))\n",
    "\n",
    "#### params varying with collection\n",
    "# define name of variable of interest for each collection (first show list of all variables available for each collection)\n",
    "selection_params['varnames']     = ['doxy']\n",
    "selection_params['varnames_qc']  = [',1'] # argoqc = 1 is best quality\n",
    "\n",
    "# test with easyocean\n",
    "# selection_params['varnames']     = ['doxy']\n",
    "# selection_params['varnames_qc']  = [''] # woceqc = 2 is best quality\n",
    "\n",
    "selection_params['varname_title']     = 'Oxygen, umol/kg'\n",
    "# if we want also other variables:\n",
    "selection_params['data_extra']   = [',temperature,1,salinity,1']\n",
    "\n",
    "# define name of the variable that includes levels for each collection\n",
    "selection_params['varname_levels'] = ['pressure'] # \n",
    "####\n",
    "\n",
    "#### other params\n",
    "# levels for vertically integrated profiles\n",
    "selection_params['interp_levels']= list(range(10,2001))[0::20]\n",
    "selection_params['region_tag']   = ''\n",
    "\n",
    "# parameters for the query\n",
    "i = 0\n",
    "\n",
    "icollection = selection_params['collections'][i]\n",
    "data_str = selection_params['varnames'][i]+selection_params['varnames_qc'][i]+selection_params['data_extra'][i]\n",
    "\n",
    "if icollection == 'easyocean':\n",
    "    data_str = selection_params['varnames'][i]\n",
    "\n",
    "iparam = {'data': data_str}\n",
    "\n",
    "iparam[selection_params['parameter_name']] = selection_params['parameter'][i]\n",
    "\n",
    "if selection_params['parameter_name'] == 'woceline':\n",
    "    meta_params = {\n",
    "        \"woceline\": selection_params['parameter']  # or anything from the list above\n",
    "    }\n",
    "\n",
    "    print(avh.query(icollection+'/meta', options=meta_params, apikey=API_KEY, apiroot=get_route(icollection)))\n",
    "\n",
    "    # how the user assigns the start date should be improved\n",
    "    iparam['section_start_date'] = '2011-09-28T00:00:00.000Z'\n"
   ]
  },
  {
   "cell_type": "code",
   "execution_count": null,
   "id": "5cfa3493",
   "metadata": {},
   "outputs": [],
   "source": [
    "# let's query data from the selected object\n",
    "api_output = avh.query(icollection, options=iparam, verbose='true',apikey=API_KEY, apiroot=get_route(icollection))\n"
   ]
  },
  {
   "cell_type": "code",
   "execution_count": null,
   "id": "901d3adc",
   "metadata": {},
   "outputs": [],
   "source": [
    "# let's create api_output_formatted for each variable that was queried\n",
    "api_output_formatted_all = {}\n",
    "api_output_formatted_all_var = []\n",
    "for ivar in data_str.split(','):\n",
    "    if not ivar.isnumeric():\n",
    "        api_output_formatted_all_var.append(ivar)\n",
    "        api_output_formatted_all[ivar] = format_api_output(api_output,selection_params,ivar,index_collection=0,API_KEY='')\n",
    "        api_output_formatted_all[ivar]['region_tag'] = ''\n",
    "        api_output_formatted_all[ivar]['startDate']  = min(api_output_formatted_all[ivar]['timestamp']).strftime(\"%Y-%m-%d\")\n",
    "        api_output_formatted_all[ivar]['endDate']    = max(api_output_formatted_all[ivar]['timestamp']).strftime(\"%Y-%m-%d\")\n",
    "        api_output_formatted_all[ivar]['varname_title'] = ivar[0].upper()+ivar[1::]\n",
    "        "
   ]
  },
  {
   "cell_type": "code",
   "execution_count": null,
   "id": "7c2efee0",
   "metadata": {},
   "outputs": [],
   "source": [
    "# let's plot a map for the data locations\n",
    "api_output_formatted_list_1var_plot_lons_lats_map([api_output_formatted_all[api_output_formatted_all_var[0]]])  "
   ]
  },
  {
   "cell_type": "code",
   "execution_count": null,
   "id": "d151536f",
   "metadata": {},
   "outputs": [],
   "source": [
    "for ivar in api_output_formatted_all_var:\n",
    "    # plot the profiles shown above\n",
    "    api_output_formatted_list_1var_plot_profiles([api_output_formatted_all[ivar]])\n",
    "    # plot horizontal and time average\n",
    "    api_output_formatted_list_1var_plot_horizontal_and_time_ave([api_output_formatted_all[ivar]],colors)  \n"
   ]
  },
  {
   "cell_type": "code",
   "execution_count": null,
   "id": "e64b94bc",
   "metadata": {},
   "outputs": [],
   "source": []
  },
  {
   "cell_type": "code",
   "execution_count": null,
   "id": "376c24c0",
   "metadata": {},
   "outputs": [],
   "source": []
  },
  {
   "cell_type": "code",
   "execution_count": null,
   "id": "054641e9",
   "metadata": {},
   "outputs": [],
   "source": []
  },
  {
   "cell_type": "code",
   "execution_count": null,
   "id": "437bf432",
   "metadata": {},
   "outputs": [],
   "source": []
  },
  {
   "cell_type": "code",
   "execution_count": null,
   "id": "834a5bb9",
   "metadata": {},
   "outputs": [],
   "source": []
  },
  {
   "cell_type": "code",
   "execution_count": null,
   "id": "26823ece",
   "metadata": {},
   "outputs": [],
   "source": []
  },
  {
   "cell_type": "code",
   "execution_count": null,
   "id": "07867c73",
   "metadata": {},
   "outputs": [],
   "source": [
    "# line plots for all the points in the xar (using values and flatten?); draw the shape of interest in the maps showing profiles?"
   ]
  },
  {
   "cell_type": "code",
   "execution_count": null,
   "id": "15f34386",
   "metadata": {},
   "outputs": [],
   "source": [
    "inprogress"
   ]
  },
  {
   "cell_type": "code",
   "execution_count": null,
   "id": "c175ac5a",
   "metadata": {},
   "outputs": [],
   "source": [
    "#https://sites.google.com/view/paztronomer/blog/basic/python-colors\n",
    "month_groups_cols= ['dodgerblue', 'violet', 'orangered', 'gold']\n",
    "month_groups     = [[12, 1, 2], [3, 4, 5], [6, 7, 8], [9, 10, 11]]\n",
    "month_groups_tags= ['DJF', 'MAM', 'JJA', 'SON']\n",
    "profiles_in_regions_and_horiz_ave_plot1d_all_col_by_monthgroup(data_reg=data_reg,month_groups=month_groups,month_groups_cols=month_groups_cols,month_groups_tags=month_groups_tags,xlabel_tag=vartitle)\n"
   ]
  },
  {
   "cell_type": "code",
   "execution_count": null,
   "id": "8851009b",
   "metadata": {},
   "outputs": [],
   "source": [
    "# bin in time? platform history? woceline? easyocean?"
   ]
  },
  {
   "cell_type": "code",
   "execution_count": null,
   "id": "752035a3",
   "metadata": {},
   "outputs": [],
   "source": []
  }
 ],
 "metadata": {
  "kernelspec": {
   "display_name": "argovis_demos",
   "language": "python",
   "name": "argovis_demos"
  },
  "language_info": {
   "codemirror_mode": {
    "name": "ipython",
    "version": 3
   },
   "file_extension": ".py",
   "mimetype": "text/x-python",
   "name": "python",
   "nbconvert_exporter": "python",
   "pygments_lexer": "ipython3",
   "version": "3.9.13"
  },
  "toc": {
   "base_numbering": 1,
   "nav_menu": {},
   "number_sections": true,
   "sideBar": true,
   "skip_h1_title": false,
   "title_cell": "Table of Contents",
   "title_sidebar": "Contents",
   "toc_cell": false,
   "toc_position": {},
   "toc_section_display": true,
   "toc_window_display": false
  }
 },
 "nbformat": 4,
 "nbformat_minor": 5
}
