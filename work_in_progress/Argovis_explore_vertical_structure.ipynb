{
 "cells": [
  {
   "cell_type": "markdown",
   "id": "f9abc256",
   "metadata": {},
   "source": [
    "# Characterizing the vertical structure of oxygen in the ocean\n",
    "\n",
    "Argovis provides an API that indexes and distributes numerous oceanographic datasets with detailed query parameters, enabling you to search and download only and exactly data of interest. \n",
    "\n",
    "This notebook guides users in exploring the vertical structure of oxygen in the ocean using ocean observations and gridded products (i.e. products that provide maps of oxygen in the ocean at different depths, starting from sparse point measurements). Please note that while the focus in the following is on oxygen, the same notebook can be used to visualize other fields (see possible input parameters for e.g. salinity included in commented lines in between lines starting with #+++)."
   ]
  },
  {
   "cell_type": "markdown",
   "id": "d0d808ee",
   "metadata": {},
   "source": [
    "## Learning goals"
   ]
  },
  {
   "cell_type": "markdown",
   "id": "3bfec746",
   "metadata": {},
   "source": [
    "- Generate an average vertical profile of oxygen for a region in the North Atlantic and for a region in the North Pacific Ocean using Argo oxygen data.  \n",
    "- Describe the features of the two profiles, noting similarities and differences.  \n",
    "- Discuss the reasons for the differences between the two. "
   ]
  },
  {
   "cell_type": "markdown",
   "id": "9f6ee8b1",
   "metadata": {},
   "source": [
    "## Setup: Register an API key"
   ]
  },
  {
   "cell_type": "markdown",
   "id": "cb3f6535",
   "metadata": {},
   "source": [
    "In order to allocate Argovis's limited computing resources fairly, users are encouraged to register and request a free API key. This works like a password that identifies your requests to Argovis. To do so:\n",
    "\n",
    " - Visit [https://argovis-keygen.colorado.edu/](https://argovis-keygen.colorado.edu/)\n",
    " - Fill out the form under _New Account Registration_\n",
    " - An API key will be emailed to you shortly.\n",
    " \n",
    "Treat this API key like a password - don't share it or leave it anywhere public. If you ever forget it or accidentally reveal it to a third party, see the same website above to change or deactivate your token.\n",
    "\n",
    "Put your API key in the quotes in the variable below before moving on (please note that if you proceed without including anything in the quotes, the notebook may still work, yet it may also give an error):"
   ]
  },
  {
   "cell_type": "code",
   "execution_count": null,
   "id": "8c1b1f10",
   "metadata": {},
   "outputs": [],
   "source": [
    "API_KEY=''"
   ]
  },
  {
   "cell_type": "markdown",
   "id": "1c8788e8",
   "metadata": {},
   "source": [
    "## Setup: import libraries and functions"
   ]
  },
  {
   "cell_type": "code",
   "execution_count": null,
   "id": "713a8cd4",
   "metadata": {},
   "outputs": [],
   "source": [
    "# Let's start importing libraries and functions we will need\n",
    "from argovisHelpers import helpers as avh\n",
    "\n",
    "import matplotlib.colors as mcolors\n",
    "\n",
    "import gsw\n",
    "# import numpy as np\n",
    "\n",
    "import matplotlib.pyplot as plt\n",
    "\n",
    "# let's import functions from the .py file in the current folder\n",
    "from Argovis_tasks_helpers import get_route,list_values_for_parameter_to_api_query,show_variable_names_for_collections, get_api_output_formatted_list_1var_for_regions_and_timeranges, get_api_output_formatted_list_1var_for_parameter, api_output_formatted_list_1var_plot_lons_lats_map,api_output_formatted_list_1var_plot_profiles,api_output_formatted_list_1var_plot_map,api_output_formatted_list_1var_plot_horizontal_and_time_ave,include_fields_from_gsw"
   ]
  },
  {
   "cell_type": "markdown",
   "id": "4a4d8754",
   "metadata": {},
   "source": [
    "## Setup: define parameters to query data of interest"
   ]
  },
  {
   "cell_type": "markdown",
   "id": "998d1aa2",
   "metadata": {},
   "source": [
    "Let's start with listing available data collections in Argovis. Please find more information about each product at https://argovis.colorado.edu/about."
   ]
  },
  {
   "cell_type": "code",
   "execution_count": null,
   "id": "53cfe962",
   "metadata": {},
   "outputs": [],
   "source": [
    "# API call showing collections available for each route, along with a short description\n",
    "\n",
    "#### to complete\n"
   ]
  },
  {
   "cell_type": "markdown",
   "id": "72eb4781",
   "metadata": {},
   "source": [
    "Let's indicate the collections of interest, i.e. what datasets in Argovis you would like to use as they include the oceanic property of interest. We will also list the oceanic properties available in each collection (so that we can use the variable name of interest in the next code cell below). **Please first run the code with the current settings to familiarize yourself with the notebook: after that, if needed, then change the settings and run the notebook again.**"
   ]
  },
  {
   "cell_type": "code",
   "execution_count": null,
   "id": "c0edb7a6",
   "metadata": {},
   "outputs": [],
   "source": [
    "#### in the following we set parameters to compare ocean profiles with a gridded product\n",
    "selection_params = {}\n",
    "#+++ example to use Argo profile data and the glodap gridded product (which provides time mean fields)\n",
    "selection_params['collections']  = ['argo', 'grids/glodap']\n",
    "#+++\n",
    "\n",
    "#+++ example to use ship-based data and the glodap gridded product\n",
    "# selection_params['collections']  = ['cchdo', 'grids/glodap']\n",
    "#+++\n",
    "\n",
    "#+++ example to use Argo profile data and the Roemmich and Gilson monthly gridded product\n",
    "# selection_params['collections']  = ['argo', 'grids/rg09']\n",
    "#+++\n",
    "\n",
    "#### let's print to screen some info based on the selected collections (to be able to select further parameters in the next cell)\n",
    "vars_lists = show_variable_names_for_collections(collections_list=selection_params['collections'],API_KEY=API_KEY,verbose=True)\n"
   ]
  },
  {
   "cell_type": "markdown",
   "id": "a67f69ba",
   "metadata": {},
   "source": [
    "Now let's indicate the data of interest within the collections we selected above. As examples, for each collection, we need to specify the variable name and the quality control flag of interest (if a specific qc flag is of interest and if the flag is available for a collection)."
   ]
  },
  {
   "cell_type": "code",
   "execution_count": null,
   "id": "c3a985ed",
   "metadata": {},
   "outputs": [],
   "source": [
    "#### params varying with the region\n",
    "\n",
    "#+++ example to use oxygen from Argo profile data (with argo qc flag 1) and the glodap gridded product\n",
    "selection_params['varnames']     = ['doxy', 'oxygen']\n",
    "selection_params['varnames_qc']  = [',1', ''] # argoqc = 1 is best quality\n",
    "selection_params['varname_title']     = 'Oxygen'\n",
    "#+++\n",
    "\n",
    "#+++ example to use oxygen from ship based profile data (with woce qc flag 2) and the glodap gridded product\n",
    "# selection_params['varnames']     = ['doxy', 'oxygen']\n",
    "# selection_params['varnames_qc']  = [',2', ''] # woceqc = 2 is best quality, it corresponds to 'no problem noted' (see https://dmoserv3.whoi.edu/data_docs/GEOTRACES/EPZT/WOCE_QualityFlags.pdf)\n",
    "# selection_params['varname_title']     = 'Oxygen'\n",
    "#+++\n",
    "\n",
    "#+++ example to use salinity from Argo profile data (with argo qc flag 1) and the Roemmich and Gilson monthly gridded product\n",
    "# selection_params['varnames']     = ['salinity', 'rg09_salinity']\n",
    "# selection_params['varnames_qc']  = [',1', ''] # argoqc = 1 is best quality\n",
    "# selection_params['varname_title']     = 'Salinity'\n",
    "#+++\n",
    "\n",
    "# if we wanted to only consider oxygen profiles where temperature and salinity are qc 1, we would have here: 'temperature,1,salinity,1' (these additional variables are also stored for the regions of interest)\n",
    "# (these additional variables are also stored for the regions of interest and visualized)\n",
    "### please note that the first comma should be included!\n",
    "### please note that qc flags are not used for Easyocean\n",
    "selection_params['data_extra']     = ['',''] \n",
    "\n",
    "# define name of the variable that includes levels for each collection\n",
    "selection_params['varname_levels'] = ['pressure',''] # for the gridded product, the level info is in the metadata, i.e. there is no variable in 'data' (for argo, 'pressure' is within the 'data' instead)\n"
   ]
  },
  {
   "cell_type": "markdown",
   "id": "0b905039",
   "metadata": {},
   "source": [
    "#### Before we continue, let's check that variables selected are included in the corresponding collection selected (if not, we should change the selected variable name in selection_params['varnames'])"
   ]
  },
  {
   "cell_type": "code",
   "execution_count": null,
   "id": "73039344",
   "metadata": {},
   "outputs": [],
   "source": [
    "for i,ilist in enumerate(vars_lists):\n",
    "    if selection_params['varnames'][i] not in ilist:\n",
    "        print('>>>>> '+selection_params['collections'][i]+' does not include selected variable, i.e. '+selection_params['varnames'][i])\n",
    "        print('Here is a list of the variables that are included:')\n",
    "        print(ilist)\n",
    "        change_name_of_selected_variable_before_continuing\n",
    "    else:\n",
    "        print('>>>>> '+selection_params['collections'][i]+' includes selected variable, i.e. '+selection_params['varnames'][i])"
   ]
  },
  {
   "cell_type": "markdown",
   "id": "b69902a4",
   "metadata": {},
   "source": [
    "Let's now set the regions of interest and the type and tag for each region. Please note that in some regions and time periods of interest, the data of interest may not be available.\n"
   ]
  },
  {
   "cell_type": "code",
   "execution_count": null,
   "id": "5c886655",
   "metadata": {},
   "outputs": [],
   "source": [
    "#### params varying with the region\n",
    "\n",
    "# in this example, we will use the 'box' selection type (i.e. we query the data within boxes),\n",
    "# hence we indicate here the bottom/left and top/right vertices for each box of interest... \n",
    "# the other option is to search in a 'polygon' and indicate the polygon\n",
    "# vertices in a list (first and last vertex should be the same)\n",
    "\n",
    "#+++ example to use oxygen from Argo profile data (with argo qc flag 1) and the glodap gridded product or the Roemmich and Gilson gridded product\n",
    "selection_params['regions']     = [\n",
    "                        [[-145.5,45.5],[-135.5,50.5]],\n",
    "                        [[-50,45],[-40,50]],\n",
    "                        ]\n",
    "#+++ \n",
    "\n",
    "#+++ example to use oxygen from ship based profile data (with woce qc flag 2) and the glodap gridded product\n",
    "#### please note that shipped based profiles are sparser than Argo profiles, hence we need to select a box where we think there are data of interest in the period of interest\n",
    "\n",
    "# selection_params['regions']     = [\n",
    "#                         [[-55.5,35.5],[-45.5,40.5]],\n",
    "#                         ]\n",
    "#+++ \n",
    "\n",
    "selection_params['regions_type'] = ['box', 'box']\n",
    "\n",
    "selection_params['regions_tag'] = ['Pacific', 'Atlantic']\n",
    "####\n",
    "\n"
   ]
  },
  {
   "cell_type": "markdown",
   "id": "da10ab11",
   "metadata": {},
   "source": [
    "Finally, let's set up the time periods of interest (there could be more than one, e.g. to compare different seasons or different years). We also define the vertical levels that we want to use to interpolate observed profiles and colors to use for the line plots."
   ]
  },
  {
   "cell_type": "code",
   "execution_count": null,
   "id": "a3caa714",
   "metadata": {},
   "outputs": [],
   "source": [
    "# list of startDate and endDates of interest (note: these will not be used for glodap as glodap only provides a time mean)\n",
    "selection_params['startDate']    = ['2021-01-01T00:00:00Z']\n",
    "selection_params['endDate']      = ['2021-12-31T00:00:00Z']\n",
    "\n",
    "#### other params\n",
    "# levels for vertically integrated profiles\n",
    "selection_params['interp_levels']= list(range(10,2001))[0::20]\n",
    "# colors to use for the line plots\n",
    "colors = list(mcolors.TABLEAU_COLORS.keys())"
   ]
  },
  {
   "cell_type": "markdown",
   "id": "abf368a4",
   "metadata": {},
   "source": [
    "## Loading the data of interest using the Argovis API"
   ]
  },
  {
   "cell_type": "markdown",
   "id": "4421dd91",
   "metadata": {},
   "source": [
    "In the next code cell, parameters selected above are used to query the data of interest and format them in a way that allows to easily visualize the data. Depending on how many regions/time periods were selected and the extent of each region/time period of interest, the next code cell may take some time to complete."
   ]
  },
  {
   "cell_type": "code",
   "execution_count": null,
   "id": "7e1820ef",
   "metadata": {},
   "outputs": [],
   "source": [
    "api_output_formatted_list = get_api_output_formatted_list_1var_for_regions_and_timeranges(selection_params=selection_params,API_KEY=API_KEY)"
   ]
  },
  {
   "cell_type": "markdown",
   "id": "79ba44c5",
   "metadata": {},
   "source": [
    "## Visualization: map of profile locations in each region and time period of interest"
   ]
  },
  {
   "cell_type": "code",
   "execution_count": null,
   "id": "9fc95fd4",
   "metadata": {},
   "outputs": [],
   "source": [
    "# plot map of lons and lats for data that are not gridded\n",
    "api_output_formatted_list_1var_plot_lons_lats_map(api_output_formatted_list)      "
   ]
  },
  {
   "cell_type": "markdown",
   "id": "39500597",
   "metadata": {},
   "source": [
    "## Visualization: plot profiles shown in the maps above"
   ]
  },
  {
   "cell_type": "code",
   "execution_count": null,
   "id": "1cfbe4d2",
   "metadata": {},
   "outputs": [],
   "source": [
    "# plot the profiles shown above\n",
    "api_output_formatted_list_1var_plot_profiles(api_output_formatted_list)\n"
   ]
  },
  {
   "cell_type": "markdown",
   "id": "31c600df",
   "metadata": {},
   "source": [
    "## Visualization: example map for gridded products (if available) in each region of interest"
   ]
  },
  {
   "cell_type": "code",
   "execution_count": null,
   "id": "e7a6ca76",
   "metadata": {},
   "outputs": [],
   "source": [
    "# plot map at one level and time\n",
    "api_output_formatted_list_1var_plot_map(api_output_formatted_list,ilev=0,itime=0)  \n",
    "               "
   ]
  },
  {
   "cell_type": "markdown",
   "id": "311a78e8",
   "metadata": {},
   "source": [
    "## Visualization: for each product, plot the average vertical structure (i.e. horizontal and time average) in each region and time period of interest. \n"
   ]
  },
  {
   "cell_type": "code",
   "execution_count": null,
   "id": "7a168ffb",
   "metadata": {},
   "outputs": [],
   "source": [
    "# plot horizontal and time average\n",
    "api_output_formatted_list_1var_plot_horizontal_and_time_ave(api_output_formatted_list,colors)  \n"
   ]
  },
  {
   "cell_type": "markdown",
   "id": "a0da5e58",
   "metadata": {},
   "source": [
    "# Extra section: visualizing profiles from Argo platform and/or WOCE line"
   ]
  },
  {
   "cell_type": "markdown",
   "id": "3ee6720c",
   "metadata": {},
   "source": [
    "In the following, we will use some of the plots above to visualize profiles from a specific Argo platform and/or a WOCE line. In doing so, we will focus only on the object of interest (e.g. profiles from a specific Argo platform or WOCE line) and **NOT** select by region or time."
   ]
  },
  {
   "cell_type": "markdown",
   "id": "5b2e624c",
   "metadata": {},
   "source": [
    "## Setup: define parameters to query data of interest"
   ]
  },
  {
   "cell_type": "markdown",
   "id": "6cd8badf",
   "metadata": {},
   "source": [
    "Let's indicate the collections of interest (i.e. what datasets in Argovis you would like to use as they include the oceanic property of interest) and the parameter of interest. The parameter of interest should be present in all the collections to consider (e.g. 'platform' is there for the Argo collection, yet 'woceline' is not there for Argo). We also list 1. all the variables that are available for each collection, and 2. all the values that are possible for the selected parameter (so that we can use the variable name and value of interest for the selected parameter, in following code cells). **Please first run the code with the current settings to familiarize yourself with the notebook: after that, if needed, then change the settings and run the notebook again.**"
   ]
  },
  {
   "cell_type": "code",
   "execution_count": null,
   "id": "82d7e648",
   "metadata": {},
   "outputs": [],
   "source": [
    "#+++\n",
    "\n",
    "selection_params = {}\n",
    "\n",
    "#+++ example for Argo platform\n",
    "selection_params['collections']  = ['argo']\n",
    "selection_params['parameter_name']= 'platform'\n",
    "varname_temperature = 'temperature'\n",
    "varname_salinity = 'salinity'\n",
    "#+++\n",
    "\n",
    "#+++ example for WOCE line from the Easyocean gridded product\n",
    "selection_params['collections']  = ['easyocean']\n",
    "selection_params['parameter_name']= 'woceline'\n",
    "varname_temperature = 'ctd_temperature'\n",
    "varname_salinity = 'ctd_salinity'\n",
    "#+++ \n",
    "\n",
    "# let's print to screen some info based on the selected collections (to be able to select further parameters in the next cells)\n",
    "show_variable_names_for_collections(collections_list=selection_params['collections'],API_KEY=API_KEY)\n",
    "\n",
    "list_values_for_parameter_to_api_query(selection_params=selection_params,API_KEY=API_KEY)\n"
   ]
  },
  {
   "cell_type": "markdown",
   "id": "7a58b24e",
   "metadata": {},
   "source": [
    "Let's list the variables available for the collection of interest."
   ]
  },
  {
   "cell_type": "code",
   "execution_count": null,
   "id": "fa8df7d3",
   "metadata": {},
   "outputs": [],
   "source": [
    "vars_lists = show_variable_names_for_collections(collections_list=selection_params['collections'],API_KEY=API_KEY,verbose=True)\n"
   ]
  },
  {
   "cell_type": "markdown",
   "id": "835c4edb",
   "metadata": {},
   "source": [
    "For each collection, indicate the parameter value of interest, the variable of interest, and, if needed, the 'section_start_date' of interest (this is needed e.g. for Easyocean). Please note that a variable may not be available for some parameter values (e.g. many Argo platforms do not measure bgc variables). The code in the following will return no profiles if the selected variable is not available for the parameter value of interest."
   ]
  },
  {
   "cell_type": "code",
   "execution_count": null,
   "id": "caacff44",
   "metadata": {},
   "outputs": [],
   "source": [
    "#### parameters to set for each collection based on the info printed above\n",
    "\n",
    "#+++ argo example\n",
    "selection_params['parameter']     = ['4903274']\n",
    "#+++ \n",
    "\n",
    "#+++  easyocean example\n",
    "selection_params['parameter']     = ['A10']\n",
    "#+++\n",
    "\n",
    "# based on the list above, let's set the section_start_date for the 'woceline' of interest\n",
    "if selection_params['parameter_name']=='woceline':\n",
    "    selection_params['section_start_date'] = ['2011-09-28T00:00:00.000Z']\n",
    "\n",
    "# define name of variable of interest for each collection\n",
    "\n",
    "#+++ argo example\n",
    "selection_params['varnames']     = ['doxy']\n",
    "selection_params['varnames_qc']  = [',1'] # argoqc = 1 is best quality\n",
    "#+++\n",
    "\n",
    "#+++ easyocean example\n",
    "selection_params['varnames']     = ['doxy']\n",
    "selection_params['varnames_qc']  = [''] # woceqc = 2 is best quality\n",
    "#+++\n",
    "\n",
    "selection_params['varname_title']     = 'Oxygen, umol/kg'\n",
    "\n",
    "# if we wanted to only consider oxygen profiles where temperature and salinity are qc 1, we would have here: 'temperature,1,salinity,1' (these additional variables are also stored for the regions of interest)\n",
    "# (these additional variables are also stored for the regions of interest and visualized)\n",
    "### please note that the first comma should be included!\n",
    "### please note that qc flags are not used for Easyocean\n",
    "\n",
    "#+++ argo example\n",
    "selection_params['data_extra']   = [',temperature,1,salinity,1']\n",
    "#+++\n",
    "\n",
    "#+++ easyocean example\n",
    "selection_params['data_extra']   = [',ctd_temperature,ctd_salinity'] # we included these as we want to store them\n",
    "#+++\n",
    "\n",
    "# define name of the variable that includes levels for each collection\n",
    "selection_params['varname_levels'] = ['pressure'] # \n"
   ]
  },
  {
   "cell_type": "markdown",
   "id": "3ec49dd7",
   "metadata": {},
   "source": [
    "Finally, let's define the vertical levels that we want to use to interpolate observed profiles and colors to use for the line plots. "
   ]
  },
  {
   "cell_type": "code",
   "execution_count": null,
   "id": "f244eeff",
   "metadata": {},
   "outputs": [],
   "source": [
    "# levels for vertically integrated profiles\n",
    "selection_params['interp_levels']= list(range(10,2001))[0::20]\n",
    "# colors to use for the line plots\n",
    "colors = list(mcolors.TABLEAU_COLORS.keys())"
   ]
  },
  {
   "cell_type": "markdown",
   "id": "59129488",
   "metadata": {},
   "source": [
    "## Loading the data of interest using the Argovis API"
   ]
  },
  {
   "cell_type": "markdown",
   "id": "58f4a041",
   "metadata": {},
   "source": [
    "In the next code cell, parameters selected above are used to query the data of interest and format them in a way that allows to easily visualize the data. Depending on the size of the data reuqested, the next code cell may take some time to complete."
   ]
  },
  {
   "cell_type": "code",
   "execution_count": null,
   "id": "42df6cf5",
   "metadata": {},
   "outputs": [],
   "source": [
    "api_output_formatted_list = get_api_output_formatted_list_1var_for_parameter(selection_params=selection_params,API_KEY=API_KEY)\n"
   ]
  },
  {
   "cell_type": "code",
   "execution_count": null,
   "id": "46191208",
   "metadata": {},
   "outputs": [],
   "source": [
    "# plot map of lons and lats for data that are not gridded\n",
    "api_output_formatted_list_1var_plot_lons_lats_map(api_output_formatted_list)      \n"
   ]
  },
  {
   "cell_type": "markdown",
   "id": "aa6280d5",
   "metadata": {},
   "source": [
    "Let's compute e.g. potential density, N_squared, absolute salinity, conservative temperature from in-situ temperature and salinity and add it to items in the list api_output_formatted_list."
   ]
  },
  {
   "cell_type": "code",
   "execution_count": null,
   "id": "4ba83f6c",
   "metadata": {},
   "outputs": [],
   "source": [
    "include_fields_from_gsw(list_fields_to_include=['potential_density','Nsquared','absolute_salinity','conservative_temperature'],\n",
    "                                                        api_output_formatted_list0=api_output_formatted_list,\n",
    "                                                        varname_temperature=varname_temperature,varname_salinity=varname_salinity)\n"
   ]
  },
  {
   "cell_type": "code",
   "execution_count": null,
   "id": "bc028d29",
   "metadata": {},
   "outputs": [],
   "source": [
    "api_output_formatted_list_1var_plot_profiles(api_output_formatted_list)"
   ]
  },
  {
   "cell_type": "code",
   "execution_count": null,
   "id": "1aa4f795",
   "metadata": {},
   "outputs": [],
   "source": []
  },
  {
   "cell_type": "code",
   "execution_count": null,
   "id": "5992b737",
   "metadata": {},
   "outputs": [],
   "source": [
    "# plot horizontal and time average\n",
    "api_output_formatted_list_1var_plot_horizontal_and_time_ave(api_output_formatted_list,colors)  \n"
   ]
  },
  {
   "cell_type": "code",
   "execution_count": null,
   "id": "f15c5d74",
   "metadata": {},
   "outputs": [],
   "source": []
  },
  {
   "cell_type": "code",
   "execution_count": null,
   "id": "ce2995e3",
   "metadata": {},
   "outputs": [],
   "source": [
    "# line plots for all the points in the xar (using values and flatten?); draw the shape of interest in the maps showing profiles?"
   ]
  },
  {
   "cell_type": "code",
   "execution_count": null,
   "id": "84c45190",
   "metadata": {},
   "outputs": [],
   "source": [
    "inprogress"
   ]
  },
  {
   "cell_type": "code",
   "execution_count": null,
   "id": "f88b6aad",
   "metadata": {},
   "outputs": [],
   "source": [
    "#https://sites.google.com/view/paztronomer/blog/basic/python-colors\n",
    "month_groups_cols= ['dodgerblue', 'violet', 'orangered', 'gold']\n",
    "month_groups     = [[12, 1, 2], [3, 4, 5], [6, 7, 8], [9, 10, 11]]\n",
    "month_groups_tags= ['DJF', 'MAM', 'JJA', 'SON']\n",
    "profiles_in_regions_and_horiz_ave_plot1d_all_col_by_monthgroup(data_reg=data_reg,month_groups=month_groups,month_groups_cols=month_groups_cols,month_groups_tags=month_groups_tags,xlabel_tag=vartitle)\n"
   ]
  },
  {
   "cell_type": "code",
   "execution_count": null,
   "id": "9bb90f8d",
   "metadata": {},
   "outputs": [],
   "source": [
    "# bin in time? woceline with cchdo"
   ]
  },
  {
   "cell_type": "code",
   "execution_count": null,
   "id": "f44e1c5f",
   "metadata": {},
   "outputs": [],
   "source": []
  }
 ],
 "metadata": {
  "kernelspec": {
   "display_name": "argovis_demos",
   "language": "python",
   "name": "argovis_demos"
  },
  "language_info": {
   "codemirror_mode": {
    "name": "ipython",
    "version": 3
   },
   "file_extension": ".py",
   "mimetype": "text/x-python",
   "name": "python",
   "nbconvert_exporter": "python",
   "pygments_lexer": "ipython3",
   "version": "3.9.13"
  },
  "toc": {
   "base_numbering": 1,
   "nav_menu": {},
   "number_sections": true,
   "sideBar": true,
   "skip_h1_title": false,
   "title_cell": "Table of Contents",
   "title_sidebar": "Contents",
   "toc_cell": false,
   "toc_position": {},
   "toc_section_display": true,
   "toc_window_display": false
  }
 },
 "nbformat": 4,
 "nbformat_minor": 5
}
