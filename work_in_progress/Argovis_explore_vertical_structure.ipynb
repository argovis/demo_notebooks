{
 "cells": [
  {
   "cell_type": "markdown",
   "id": "3982ff54",
   "metadata": {},
   "source": [
    "# Argovis explore vertical structure of ocean fields\n",
    "\n",
    "This notebook contains some examples and is a work in progress: code will transition from here to other notebooks. Public consumers should focus on our educational notebooks, starting with [Intro to Argovis](https://github.com/argovis/demo_notebooks/blob/main/Intro_to_Argovis.ipynb)."
   ]
  },
  {
   "cell_type": "code",
   "execution_count": null,
   "id": "4e6841a5",
   "metadata": {},
   "outputs": [],
   "source": [
    "from argovisHelpers import helpers as avh\n",
    "import datetime #, pandas, matplotlib, scipy, numpy\n",
    "import numpy as np\n",
    "import matplotlib.pyplot as plt\n",
    "#from matplotlib import cm\n",
    "#import cartopy.crs as ccrs\n",
    "\n",
    "from Argovis_tasks_helpers import get_route, get_profiles_in_regions_and_horiz_ave\n",
    "\n",
    "API_KEY=''"
   ]
  },
  {
   "cell_type": "code",
   "execution_count": null,
   "id": "527c5590",
   "metadata": {},
   "outputs": [],
   "source": [
    "# API call showing collections available for each route\n",
    "\n",
    "#### parameters the user needs to select\n",
    "# user selects list of collections to use for the plot\n",
    "\n",
    "#### for bgc variables we have gridded time mean fields\n",
    "collections = ['argo', 'grids/glodap',\n",
    "              ] # we compare argo profiles with a gridded product\n",
    "\n",
    "### for temperature and salinity only we have a monthly product\n",
    "# collections = ['argo', 'grids/rg09',\n",
    "#               ] # we compare argo profiles with a gridded product\n",
    "\n",
    "# show list of variables available\n",
    "for icollection in collections:\n",
    "    try:\n",
    "        print(avh.query(icollection+'/vocabulary', options={'parameter': 'data'}, verbose='true',apikey=API_KEY, apiroot=get_route(icollection)) )\n",
    "    except:\n",
    "        print('No data parameter for vocabulary query')\n",
    "    try:\n",
    "        print(avh.query(icollection+'/vocabulary', verbose='true',apikey=API_KEY, apiroot=get_route(icollection)) )\n",
    "    except:\n",
    "        print('Needs data parameter for vocabulary query')\n",
    "    \n",
    "# define name of variable of interest for each product (first show list of all variables available for each collection)\n",
    "varname     = ['doxy', 'oxygen']\n",
    "varname_qc  = [',1', '']\n",
    "vartitle    = 'Oxygen, umol/kg'\n",
    "\n",
    "# varname     = ['salinity', 'rg09_salinity']\n",
    "# varname_qc  = [',1', '']\n",
    "# vartitle    = 'Salinity, psu'\n",
    "\n",
    "# varname     = ['temperature', 'rg09_temperature']\n",
    "# varname_qc  = [',1', '']\n",
    "# vartitle    = 'Temperature, degC'\n",
    "\n",
    "# define name of the variable that includes levels for each collection\n",
    "varname_levels = ['pressure',''] # for the gridded product, the level info is in the metadata, i.e. there is no variable in 'data' (for argo, 'pressure' is within the 'data' instead)\n",
    "\n",
    "# levels for vertically integrated profiles\n",
    "interp_levels        = list(range(10,2001))[0::20]\n",
    "\n",
    "# in this example, we will use the 'box' selection (in the next cell),\n",
    "# hence we indicate here the bottom/left and top/right vertices... \n",
    "# the other option is to search in a 'polygon' and indicate the polygon\n",
    "# vertices in a list (first and last vertex should be the same)\n",
    "regions_list         = [\n",
    "                        [[-145.5,45.5],[-135.5,50.5]],\n",
    "                        [[-50,45],[-40,50]],\n",
    "                        ]\n",
    "regions_list_type    = 'box'\n",
    "\n",
    "regions_list_tags    = ['Pacific', 'Atlantic']\n",
    "\n",
    "startDate            = '2021-01-01T00:00:00Z'\n",
    "endDate              = '2021-12-31T00:00:00Z'\n",
    "\n",
    "# box_regions_list     = [\n",
    "#                         [[-78,45],[-10,50]],\n",
    "#                         [[-180,45],[-127,50]],\n",
    "#                         ]"
   ]
  },
  {
   "cell_type": "code",
   "execution_count": null,
   "id": "dcf6488e",
   "metadata": {},
   "outputs": [],
   "source": [
    "!date\n",
    "\n",
    "data_reg = get_profiles_in_regions_and_horiz_ave(collections=collections,varname=varname,varname_qc=varname_qc,varname_levels=varname_levels,interp_levels=interp_levels,regions_list_source=regions_list,regions_list_source_type=regions_list_type,regions_list_source_tags=regions_list_tags,startDate=startDate,endDate=endDate,API_KEY=API_KEY)\n",
    "            \n",
    "!date    "
   ]
  },
  {
   "cell_type": "code",
   "execution_count": null,
   "id": "3b1bf9e7",
   "metadata": {},
   "outputs": [],
   "source": [
    "# plot the map for one timestep/level for each of the gridded products\n",
    "for i,iaxr in enumerate(data_reg['regions_list_data_raw_xarray']):\n",
    "    if iaxr:\n",
    "        print(iaxr.sizes)\n",
    "        print(data_reg['regions_list_tags'][i]+', '+data_reg['regions_list_collections'][i])\n",
    "        plt.figure()\n",
    "        iaxr['data'][:,:,0,0].plot()"
   ]
  },
  {
   "cell_type": "code",
   "execution_count": null,
   "id": "cbd8b814",
   "metadata": {},
   "outputs": [],
   "source": [
    "len(data_reg['regions_list_data_horiz_ave'])"
   ]
  },
  {
   "cell_type": "code",
   "execution_count": null,
   "id": "95695718",
   "metadata": {},
   "outputs": [],
   "source": [
    "cols = ['k','r','b','m']"
   ]
  },
  {
   "cell_type": "code",
   "execution_count": null,
   "id": "c56680ce",
   "metadata": {},
   "outputs": [],
   "source": [
    "# plot the horizontal average for (vertically) interpolated profiles and for the gridded product\n",
    "plt.figure(figsize=(10,8))\n",
    "for i,idata in enumerate(data_reg['regions_list_data_horiz_ave']):\n",
    "    plt.plot(idata,data_reg['regions_list_data_horiz_ave_levels'][i],color=cols[i],linewidth=3)\n",
    "plt.gca().invert_yaxis()\n",
    "plt.ylabel('Vertical level (m or dbar)',size=16)\n",
    "plt.xlabel(vartitle,size=16)\n",
    "plt.legend([a_+', '+b_ for a_, b_ in zip(data_reg['regions_list_tags'],data_reg['regions_list_collections'])])\n"
   ]
  },
  {
   "cell_type": "code",
   "execution_count": null,
   "id": "d99fff34",
   "metadata": {},
   "outputs": [],
   "source": [
    "# let's look at all the profiles that were vertically interpolated (except for the gridded products) to then compute the horizontal average above\n",
    "plt.figure(figsize=(15,8))\n",
    "for i,idata in enumerate(data_reg['regions_list_data_raw']):\n",
    "    plt.subplot(1,len(data_reg['regions_list_data_horiz_ave']),i+1)    \n",
    "    for iidata in idata:\n",
    "        plt.plot(iidata[0],iidata[1],color=cols[i])\n",
    "    plt.gca().invert_yaxis()\n",
    "    if i==0:\n",
    "        plt.ylabel('Vertical level (m or dbar)',size=16)\n",
    "    plt.title(data_reg['regions_list_tags'][i]+', '+data_reg['regions_list_collections'][i])\n",
    "    plt.xlabel(vartitle,size=16)\n",
    "    "
   ]
  },
  {
   "cell_type": "code",
   "execution_count": null,
   "id": "c257affa",
   "metadata": {},
   "outputs": [],
   "source": [
    "# let's look at all the vertically interpolated profiles that were used to compute the horizontal average above\n",
    "plt.figure(figsize=(15,8))\n",
    "for i,idata in enumerate(data_reg['regions_list_data_vert_interp']):\n",
    "    if idata:\n",
    "        plt.subplot(1,len(data_reg['regions_list_data_horiz_ave']),i+1)    \n",
    "        for iidata in idata:\n",
    "            plt.plot(iidata,data_reg['regions_list_data_horiz_ave_levels'][i],color=cols[i])\n",
    "        plt.gca().invert_yaxis()\n",
    "        if i==0:\n",
    "            plt.ylabel('Vertical level (m or dbar)',size=16)\n",
    "        plt.title(data_reg['regions_list_tags'][i]+', '+data_reg['regions_list_collections'][i]+' (interpolated)')\n",
    "        plt.xlabel(vartitle,size=16)\n",
    "    "
   ]
  },
  {
   "cell_type": "code",
   "execution_count": null,
   "id": "9deabef0",
   "metadata": {},
   "outputs": [],
   "source": [
    "#https://sites.google.com/view/paztronomer/blog/basic/python-colors\n",
    "cols_months = ['deepskyblue', 'violet', 'firebrick', 'gold']\n",
    "months      = [[12, 1, 2], [3, 4, 5], [6, 7, 8], [9, 10, 11]]\n",
    "# for each product, plot the raw profiles color coded by month of the year\n",
    "plt.figure(figsize=(15,8))\n",
    "for i,idata in enumerate(data_reg['regions_list_data_raw']):\n",
    "    itime = data_reg['regions_list_data_time'][i]\n",
    "    \n",
    "    plt.subplot(1,len(data_reg['regions_list_data_horiz_ave']),i+1)    \n",
    "    for ii,iidata in enumerate(idata):\n",
    "        for imm,mm in enumerate(months):\n",
    "            if ii<=len(itime)-1 and itime[ii].month in mm:\n",
    "                plt.plot(iidata[0],iidata[1],color=cols_months[imm])\n",
    "    plt.gca().invert_yaxis()\n",
    "    if i==0:\n",
    "        plt.ylabel('Vertical level (m or dbar)',size=16)\n",
    "    plt.title(data_reg['regions_list_tags'][i]+', '+data_reg['regions_list_collections'][i])\n",
    "    plt.xlabel(vartitle,size=16)\n"
   ]
  },
  {
   "cell_type": "code",
   "execution_count": null,
   "id": "c7cb118a",
   "metadata": {},
   "outputs": [],
   "source": [
    "# bin in time? platform? woceline?"
   ]
  },
  {
   "cell_type": "code",
   "execution_count": null,
   "id": "0f168e7b",
   "metadata": {},
   "outputs": [],
   "source": [
    "# #regions_list_data_time_month = [x.month for y in regions_list_data_time for x in y]\n",
    "\n",
    "\n",
    "# # plot raw profiles that go into the average colorcoded by month of year\n",
    "# for i,idata in enumerate(regions_list_data_raw):\n",
    "#     itime = regions_list_data_time[i]\n",
    "#     for ii,iidata in enumerate(idata):\n",
    "        \n",
    "#         if ii<=len(itime)-1 and itime[ii].month in [6, 7, 8]:\n",
    "#             plt.plot(iidata[0],iidata[1],c='k',marker='.')\n",
    "            \n",
    "#         # check for oxygen data\n",
    "#         if ('doxy' in varname) and sum(np.array(iidata[0])<0) != 0:\n",
    "#             check_data\n",
    "# #plt.ylim([0, 20])\n",
    "# plt.gca().invert_yaxis()        \n",
    "# plt.ylabel('Vertical level')\n",
    "# plt.xlabel(vartitle)"
   ]
  },
  {
   "cell_type": "code",
   "execution_count": null,
   "id": "2242d9c1",
   "metadata": {},
   "outputs": [],
   "source": []
  }
 ],
 "metadata": {
  "kernelspec": {
   "display_name": "argovis_demos",
   "language": "python",
   "name": "argovis_demos"
  },
  "language_info": {
   "codemirror_mode": {
    "name": "ipython",
    "version": 3
   },
   "file_extension": ".py",
   "mimetype": "text/x-python",
   "name": "python",
   "nbconvert_exporter": "python",
   "pygments_lexer": "ipython3",
   "version": "3.9.13"
  },
  "toc": {
   "base_numbering": 1,
   "nav_menu": {},
   "number_sections": true,
   "sideBar": true,
   "skip_h1_title": false,
   "title_cell": "Table of Contents",
   "title_sidebar": "Contents",
   "toc_cell": false,
   "toc_position": {},
   "toc_section_display": true,
   "toc_window_display": false
  }
 },
 "nbformat": 4,
 "nbformat_minor": 5
}
