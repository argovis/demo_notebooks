{
 "cells": [
  {
   "cell_type": "markdown",
   "id": "bd53c25c",
   "metadata": {},
   "source": [
    "# Argovis explore vertical structure of ocean fields\n",
    "\n",
    "This notebook contains some examples and is a work in progress: code will transition from here to other notebooks. Public consumers should focus on our educational notebooks, starting with [Intro to Argovis](https://github.com/argovis/demo_notebooks/blob/main/Intro_to_Argovis.ipynb)."
   ]
  },
  {
   "cell_type": "code",
   "execution_count": 1,
   "id": "6cbe3721",
   "metadata": {},
   "outputs": [
    {
     "name": "stderr",
     "output_type": "stream",
     "text": [
      "/Users/dgiglio/opt/miniconda3/envs/argovis_demos/lib/python3.9/site-packages/xarray/backends/cfgrib_.py:27: UserWarning: Failed to load cfgrib - most likely there is a problem accessing the ecCodes library. Try `import cfgrib` to get the full error message\n",
      "  warnings.warn(\n"
     ]
    }
   ],
   "source": [
    "from argovisHelpers import helpers as avh\n",
    "import datetime #, pandas, matplotlib, scipy, numpy\n",
    "import numpy as np\n",
    "import matplotlib.pyplot as plt\n",
    "#from matplotlib import cm\n",
    "#import cartopy.crs as ccrs\n",
    "\n",
    "from Argovis_tasks_helpers import get_route, get_profiles_in_regions_and_horiz_ave\n",
    "from Argovis_tasks_helpers import profiles_in_regions_and_horiz_ave_plot1d_horiz_ave, profiles_in_regions_and_horiz_ave_plot1d_all, profiles_in_regions_and_horiz_ave_plot1d_all_vert_interp, profiles_in_regions_and_horiz_ave_plot1d_all_col_by_monthgroup\n",
    "\n",
    "API_KEY=''"
   ]
  },
  {
   "cell_type": "code",
   "execution_count": 2,
   "id": "52b1812c",
   "metadata": {},
   "outputs": [
    {
     "name": "stdout",
     "output_type": "stream",
     "text": [
      "https://argovis-api.colorado.edu/grids/rg09/vocabulary?parameter=data\n",
      "No data parameter for vocabulary query\n",
      "https://argovis-api.colorado.edu/grids/rg09/vocabulary\n",
      "rg09_temperature,rg09_salinity\n"
     ]
    }
   ],
   "source": [
    "# API call showing collections available for each route\n",
    "\n",
    "#### parameters the user needs to select\n",
    "# user selects list of collections to use for the plot\n",
    "\n",
    "#### for bgc variables we have gridded time mean fields\n",
    "collections = ['grids/glodap',\n",
    "              ] # we compare argo profiles with a gridded product\n",
    "\n",
    "#### for temperature and salinity only we have a monthly product\n",
    "collections = ['grids/rg09',\n",
    "              ] # we compare argo profiles with a gridded product\n",
    "\n",
    "######## show list of variables available\n",
    "for icollection in collections:\n",
    "    try:\n",
    "        print(avh.query(icollection+'/vocabulary', options={'parameter': 'data'}, verbose='true',apikey=API_KEY, apiroot=get_route(icollection)) )\n",
    "    except:\n",
    "        print('No data parameter for vocabulary query')\n",
    "    try:\n",
    "        bfr = avh.query(icollection+'/vocabulary', verbose='true',apikey=API_KEY, apiroot=get_route(icollection))\n",
    "        print(*bfr[0]['data'],sep=',')\n",
    "    except:\n",
    "        print('Needs data parameter for vocabulary query')\n",
    "    \n",
    "## define name of variable of interest for each product (first show list of all variables available for each collection)\n",
    "varname     = ['rg09_temperature']\n",
    "varname_qc  = ['']\n",
    "vartitle    = 'Temperature, degC'\n",
    "\n",
    "# define name of the variable that includes levels for each collection\n",
    "varname_levels = [''] # for the gridded product, the level info is in the metadata, i.e. there is no variable in 'data' (for argo, 'pressure' is within the 'data' instead)\n",
    "\n",
    "# in this example, we will use the 'box' selection (in the next cell),\n",
    "# hence we indicate here the bottom/left and top/right vertices... \n",
    "# the other option is to search in a 'polygon' and indicate the polygon\n",
    "# vertices in a list (first and last vertex should be the same)\n",
    "regions_list         = [\n",
    "                        [[-250.5,-5.5],[-125.5,5.5]],\n",
    "                        ]\n",
    "regions_list_type    = 'box'\n",
    "\n",
    "regions_list_tags    = ['EqPacific']\n",
    "\n",
    "startDate            = '2004-01-01T00:00:00Z'\n",
    "endDate              = '2022-12-31T00:00:00Z'\n",
    "\n",
    "# box_regions_list     = [\n",
    "#                         [[-78,45],[-10,50]],\n",
    "#                         [[-180,45],[-127,50]],\n",
    "#                         ]"
   ]
  },
  {
   "cell_type": "code",
   "execution_count": 4,
   "id": "00d0d0b2",
   "metadata": {
    "scrolled": true
   },
   "outputs": [
    {
     "name": "stdout",
     "output_type": "stream",
     "text": [
      "Fri Apr  5 00:26:11 MDT 2024\n",
      ">>>>>>> Region [[-250.5, -5.5], [-125.5, 5.5]] , grids/rg09 collection\n",
      "https://argovis-api.colorado.edu/grids/rg09?data=rg09_temperature&box=%5B%5B-250.5%2C+-5.5%5D%2C+%5B-125.5%2C+5.5%5D%5D&startDate=2004-01-01T00%3A00%3A00.000000Z&endDate=2004-07-06T00%3A00%3A00.000000Z\n",
      "https://argovis-api.colorado.edu/grids/rg09?data=rg09_temperature&box=%5B%5B-250.5%2C+-5.5%5D%2C+%5B-125.5%2C+5.5%5D%5D&startDate=2004-07-06T00%3A00%3A00.000000Z&endDate=2005-01-09T00%3A00%3A00.000000Z\n",
      "https://argovis-api.colorado.edu/grids/rg09?data=rg09_temperature&box=%5B%5B-250.5%2C+-5.5%5D%2C+%5B-125.5%2C+5.5%5D%5D&startDate=2005-01-09T00%3A00%3A00.000000Z&endDate=2005-07-15T00%3A00%3A00.000000Z\n",
      "https://argovis-api.colorado.edu/grids/rg09?data=rg09_temperature&box=%5B%5B-250.5%2C+-5.5%5D%2C+%5B-125.5%2C+5.5%5D%5D&startDate=2005-07-15T00%3A00%3A00.000000Z&endDate=2006-01-18T00%3A00%3A00.000000Z\n",
      "https://argovis-api.colorado.edu/grids/rg09?data=rg09_temperature&box=%5B%5B-250.5%2C+-5.5%5D%2C+%5B-125.5%2C+5.5%5D%5D&startDate=2006-01-18T00%3A00%3A00.000000Z&endDate=2006-07-24T00%3A00%3A00.000000Z\n",
      "https://argovis-api.colorado.edu/grids/rg09?data=rg09_temperature&box=%5B%5B-250.5%2C+-5.5%5D%2C+%5B-125.5%2C+5.5%5D%5D&startDate=2006-07-24T00%3A00%3A00.000000Z&endDate=2007-01-27T00%3A00%3A00.000000Z\n",
      "https://argovis-api.colorado.edu/grids/rg09?data=rg09_temperature&box=%5B%5B-250.5%2C+-5.5%5D%2C+%5B-125.5%2C+5.5%5D%5D&startDate=2007-01-27T00%3A00%3A00.000000Z&endDate=2007-08-02T00%3A00%3A00.000000Z\n",
      "https://argovis-api.colorado.edu/grids/rg09?data=rg09_temperature&box=%5B%5B-250.5%2C+-5.5%5D%2C+%5B-125.5%2C+5.5%5D%5D&startDate=2007-08-02T00%3A00%3A00.000000Z&endDate=2008-02-05T00%3A00%3A00.000000Z\n",
      "https://argovis-api.colorado.edu/grids/rg09?data=rg09_temperature&box=%5B%5B-250.5%2C+-5.5%5D%2C+%5B-125.5%2C+5.5%5D%5D&startDate=2008-02-05T00%3A00%3A00.000000Z&endDate=2008-08-10T00%3A00%3A00.000000Z\n",
      "https://argovis-api.colorado.edu/grids/rg09?data=rg09_temperature&box=%5B%5B-250.5%2C+-5.5%5D%2C+%5B-125.5%2C+5.5%5D%5D&startDate=2008-08-10T00%3A00%3A00.000000Z&endDate=2009-02-13T00%3A00%3A00.000000Z\n",
      "https://argovis-api.colorado.edu/grids/rg09?data=rg09_temperature&box=%5B%5B-250.5%2C+-5.5%5D%2C+%5B-125.5%2C+5.5%5D%5D&startDate=2009-02-13T00%3A00%3A00.000000Z&endDate=2009-08-19T00%3A00%3A00.000000Z\n",
      "https://argovis-api.colorado.edu/grids/rg09?data=rg09_temperature&box=%5B%5B-250.5%2C+-5.5%5D%2C+%5B-125.5%2C+5.5%5D%5D&startDate=2009-08-19T00%3A00%3A00.000000Z&endDate=2010-02-22T00%3A00%3A00.000000Z\n",
      "https://argovis-api.colorado.edu/grids/rg09?data=rg09_temperature&box=%5B%5B-250.5%2C+-5.5%5D%2C+%5B-125.5%2C+5.5%5D%5D&startDate=2010-02-22T00%3A00%3A00.000000Z&endDate=2010-08-28T00%3A00%3A00.000000Z\n",
      "https://argovis-api.colorado.edu/grids/rg09?data=rg09_temperature&box=%5B%5B-250.5%2C+-5.5%5D%2C+%5B-125.5%2C+5.5%5D%5D&startDate=2010-08-28T00%3A00%3A00.000000Z&endDate=2011-03-03T00%3A00%3A00.000000Z\n",
      "https://argovis-api.colorado.edu/grids/rg09?data=rg09_temperature&box=%5B%5B-250.5%2C+-5.5%5D%2C+%5B-125.5%2C+5.5%5D%5D&startDate=2011-03-03T00%3A00%3A00.000000Z&endDate=2011-09-06T00%3A00%3A00.000000Z\n",
      "https://argovis-api.colorado.edu/grids/rg09?data=rg09_temperature&box=%5B%5B-250.5%2C+-5.5%5D%2C+%5B-125.5%2C+5.5%5D%5D&startDate=2011-09-06T00%3A00%3A00.000000Z&endDate=2012-03-11T00%3A00%3A00.000000Z\n",
      "https://argovis-api.colorado.edu/grids/rg09?data=rg09_temperature&box=%5B%5B-250.5%2C+-5.5%5D%2C+%5B-125.5%2C+5.5%5D%5D&startDate=2012-03-11T00%3A00%3A00.000000Z&endDate=2012-09-14T00%3A00%3A00.000000Z\n",
      "https://argovis-api.colorado.edu/grids/rg09?data=rg09_temperature&box=%5B%5B-250.5%2C+-5.5%5D%2C+%5B-125.5%2C+5.5%5D%5D&startDate=2012-09-14T00%3A00%3A00.000000Z&endDate=2013-03-20T00%3A00%3A00.000000Z\n",
      "https://argovis-api.colorado.edu/grids/rg09?data=rg09_temperature&box=%5B%5B-250.5%2C+-5.5%5D%2C+%5B-125.5%2C+5.5%5D%5D&startDate=2013-03-20T00%3A00%3A00.000000Z&endDate=2013-09-23T00%3A00%3A00.000000Z\n",
      "https://argovis-api.colorado.edu/grids/rg09?data=rg09_temperature&box=%5B%5B-250.5%2C+-5.5%5D%2C+%5B-125.5%2C+5.5%5D%5D&startDate=2013-09-23T00%3A00%3A00.000000Z&endDate=2014-03-29T00%3A00%3A00.000000Z\n",
      "https://argovis-api.colorado.edu/grids/rg09?data=rg09_temperature&box=%5B%5B-250.5%2C+-5.5%5D%2C+%5B-125.5%2C+5.5%5D%5D&startDate=2014-03-29T00%3A00%3A00.000000Z&endDate=2014-10-02T00%3A00%3A00.000000Z\n",
      "https://argovis-api.colorado.edu/grids/rg09?data=rg09_temperature&box=%5B%5B-250.5%2C+-5.5%5D%2C+%5B-125.5%2C+5.5%5D%5D&startDate=2014-10-02T00%3A00%3A00.000000Z&endDate=2015-04-07T00%3A00%3A00.000000Z\n",
      "https://argovis-api.colorado.edu/grids/rg09?data=rg09_temperature&box=%5B%5B-250.5%2C+-5.5%5D%2C+%5B-125.5%2C+5.5%5D%5D&startDate=2015-04-07T00%3A00%3A00.000000Z&endDate=2015-10-11T00%3A00%3A00.000000Z\n",
      "https://argovis-api.colorado.edu/grids/rg09?data=rg09_temperature&box=%5B%5B-250.5%2C+-5.5%5D%2C+%5B-125.5%2C+5.5%5D%5D&startDate=2015-10-11T00%3A00%3A00.000000Z&endDate=2016-04-15T00%3A00%3A00.000000Z\n",
      "https://argovis-api.colorado.edu/grids/rg09?data=rg09_temperature&box=%5B%5B-250.5%2C+-5.5%5D%2C+%5B-125.5%2C+5.5%5D%5D&startDate=2016-04-15T00%3A00%3A00.000000Z&endDate=2016-10-19T00%3A00%3A00.000000Z\n",
      "https://argovis-api.colorado.edu/grids/rg09?data=rg09_temperature&box=%5B%5B-250.5%2C+-5.5%5D%2C+%5B-125.5%2C+5.5%5D%5D&startDate=2016-10-19T00%3A00%3A00.000000Z&endDate=2017-04-24T00%3A00%3A00.000000Z\n",
      "https://argovis-api.colorado.edu/grids/rg09?data=rg09_temperature&box=%5B%5B-250.5%2C+-5.5%5D%2C+%5B-125.5%2C+5.5%5D%5D&startDate=2017-04-24T00%3A00%3A00.000000Z&endDate=2017-10-28T00%3A00%3A00.000000Z\n",
      "https://argovis-api.colorado.edu/grids/rg09?data=rg09_temperature&box=%5B%5B-250.5%2C+-5.5%5D%2C+%5B-125.5%2C+5.5%5D%5D&startDate=2017-10-28T00%3A00%3A00.000000Z&endDate=2018-05-03T00%3A00%3A00.000000Z\n",
      "https://argovis-api.colorado.edu/grids/rg09?data=rg09_temperature&box=%5B%5B-250.5%2C+-5.5%5D%2C+%5B-125.5%2C+5.5%5D%5D&startDate=2018-05-03T00%3A00%3A00.000000Z&endDate=2018-11-06T00%3A00%3A00.000000Z\n",
      "https://argovis-api.colorado.edu/grids/rg09?data=rg09_temperature&box=%5B%5B-250.5%2C+-5.5%5D%2C+%5B-125.5%2C+5.5%5D%5D&startDate=2018-11-06T00%3A00%3A00.000000Z&endDate=2019-05-12T00%3A00%3A00.000000Z\n",
      "https://argovis-api.colorado.edu/grids/rg09?data=rg09_temperature&box=%5B%5B-250.5%2C+-5.5%5D%2C+%5B-125.5%2C+5.5%5D%5D&startDate=2019-05-12T00%3A00%3A00.000000Z&endDate=2019-11-15T00%3A00%3A00.000000Z\n",
      "https://argovis-api.colorado.edu/grids/rg09?data=rg09_temperature&box=%5B%5B-250.5%2C+-5.5%5D%2C+%5B-125.5%2C+5.5%5D%5D&startDate=2019-11-15T00%3A00%3A00.000000Z&endDate=2020-05-20T00%3A00%3A00.000000Z\n",
      "https://argovis-api.colorado.edu/grids/rg09?data=rg09_temperature&box=%5B%5B-250.5%2C+-5.5%5D%2C+%5B-125.5%2C+5.5%5D%5D&startDate=2020-05-20T00%3A00%3A00.000000Z&endDate=2020-11-23T00%3A00%3A00.000000Z\n",
      "https://argovis-api.colorado.edu/grids/rg09?data=rg09_temperature&box=%5B%5B-250.5%2C+-5.5%5D%2C+%5B-125.5%2C+5.5%5D%5D&startDate=2020-11-23T00%3A00%3A00.000000Z&endDate=2021-05-29T00%3A00%3A00.000000Z\n",
      "https://argovis-api.colorado.edu/grids/rg09?data=rg09_temperature&box=%5B%5B-250.5%2C+-5.5%5D%2C+%5B-125.5%2C+5.5%5D%5D&startDate=2021-05-29T00%3A00%3A00.000000Z&endDate=2021-12-02T00%3A00%3A00.000000Z\n",
      "https://argovis-api.colorado.edu/grids/rg09?data=rg09_temperature&box=%5B%5B-250.5%2C+-5.5%5D%2C+%5B-125.5%2C+5.5%5D%5D&startDate=2021-12-02T00%3A00%3A00.000000Z&endDate=2022-06-07T00%3A00%3A00.000000Z\n",
      "https://argovis-api.colorado.edu/grids/rg09?data=rg09_temperature&box=%5B%5B-250.5%2C+-5.5%5D%2C+%5B-125.5%2C+5.5%5D%5D&startDate=2022-06-07T00%3A00%3A00.000000Z&endDate=2022-12-11T00%3A00%3A00.000000Z\n",
      "https://argovis-api.colorado.edu/grids/rg09?data=rg09_temperature&box=%5B%5B-250.5%2C+-5.5%5D%2C+%5B-125.5%2C+5.5%5D%5D&startDate=2022-12-11T00%3A00%3A00.000000Z&endDate=2022-12-31T00%3A00%3A00.000000Z\n",
      "https://argovis-api.colorado.edu/grids/meta?id=rg09_temperature_200401_Total\n",
      "Fri Apr  5 00:38:16 MDT 2024\n"
     ]
    }
   ],
   "source": [
    "# get data of interest and do horizontal average\n",
    "!date\n",
    "data_reg = get_profiles_in_regions_and_horiz_ave(collections=collections,varname=varname,varname_qc=varname_qc,varname_levels=varname_levels,interp_levels=[],regions_list_source=regions_list,regions_list_source_type=regions_list_type,regions_list_source_tags=regions_list_tags,startDate=startDate,endDate=endDate,API_KEY=API_KEY)         \n",
    "!date    "
   ]
  },
  {
   "cell_type": "code",
   "execution_count": 5,
   "id": "e4b59199",
   "metadata": {},
   "outputs": [
    {
     "name": "stdout",
     "output_type": "stream",
     "text": [
      "Frozen({'latitude': 12, 'longitude': 113, 'levels': 58, 'timestamp': 228})\n",
      "EqPacific, grids/rg09\n"
     ]
    },
    {
     "data": {
      "image/png": "[encoded data removed]",
      "text/plain": [
       "<Figure size 432x288 with 2 Axes>"
      ]
     },
     "metadata": {
      "needs_background": "light"
     },
     "output_type": "display_data"
    }
   ],
   "source": [
    "# plot the map for one timestep/level for each of the gridded products\n",
    "for i,iaxr in enumerate(data_reg['regions_list_data_raw_xarray']):\n",
    "    if iaxr:\n",
    "        print(iaxr.sizes)\n",
    "        print(data_reg['regions_list_tags'][i]+', '+data_reg['regions_list_collections'][i])\n",
    "        plt.figure()\n",
    "        iaxr['data'][:,:,0,0].plot()"
   ]
  },
  {
   "cell_type": "code",
   "execution_count": null,
   "id": "da59cb3f",
   "metadata": {},
   "outputs": [],
   "source": [
    "len(data_reg['regions_list_data_horiz_ave'])"
   ]
  },
  {
   "cell_type": "code",
   "execution_count": null,
   "id": "0036c34f",
   "metadata": {},
   "outputs": [],
   "source": [
    "cols = ['k','r','b','m']"
   ]
  },
  {
   "cell_type": "code",
   "execution_count": null,
   "id": "920cd56f",
   "metadata": {},
   "outputs": [],
   "source": [
    "# plot the horizontal average for (vertically) interpolated profiles and for the gridded product\n",
    "profiles_in_regions_and_horiz_ave_plot1d_horiz_ave(data_reg=data_reg,data_reg_cols=cols,xlabel_tag=vartitle)\n"
   ]
  },
  {
   "cell_type": "code",
   "execution_count": null,
   "id": "629d8005",
   "metadata": {},
   "outputs": [],
   "source": [
    "# let's look at all the raw profiles that were vertically interpolated (except for the gridded products) to then compute the horizontal average above\n",
    "profiles_in_regions_and_horiz_ave_plot1d_all(data_reg=data_reg,data_reg_cols=cols,xlabel_tag=vartitle)\n"
   ]
  },
  {
   "cell_type": "code",
   "execution_count": null,
   "id": "48d716a4",
   "metadata": {},
   "outputs": [],
   "source": [
    "# let's look at all the vertically interpolated profiles that were used to compute the horizontal average above\n",
    "profiles_in_regions_and_horiz_ave_plot1d_all_vert_interp(data_reg=data_reg,data_reg_cols=cols,xlabel_tag=vartitle)\n",
    "    "
   ]
  },
  {
   "cell_type": "code",
   "execution_count": null,
   "id": "f8d4abf2",
   "metadata": {},
   "outputs": [],
   "source": [
    "#https://sites.google.com/view/paztronomer/blog/basic/python-colors\n",
    "month_groups_cols= ['dodgerblue', 'violet', 'orangered', 'gold']\n",
    "month_groups     = [[12, 1, 2], [3, 4, 5], [6, 7, 8], [9, 10, 11]]\n",
    "month_groups_tags= ['DJF', 'MAM', 'JJA', 'SON']\n",
    "profiles_in_regions_and_horiz_ave_plot1d_all_col_by_monthgroup(data_reg=data_reg,month_groups=month_groups,month_groups_cols=month_groups_cols,month_groups_tags=month_groups_tags,xlabel_tag=vartitle)\n"
   ]
  },
  {
   "cell_type": "code",
   "execution_count": null,
   "id": "b147081b",
   "metadata": {},
   "outputs": [],
   "source": [
    "# bin in time? platform history? woceline? easyocean?"
   ]
  },
  {
   "cell_type": "code",
   "execution_count": null,
   "id": "6aa84b47",
   "metadata": {},
   "outputs": [],
   "source": []
  }
 ],
 "metadata": {
  "kernelspec": {
   "display_name": "argovis_demos",
   "language": "python",
   "name": "argovis_demos"
  },
  "language_info": {
   "codemirror_mode": {
    "name": "ipython",
    "version": 3
   },
   "file_extension": ".py",
   "mimetype": "text/x-python",
   "name": "python",
   "nbconvert_exporter": "python",
   "pygments_lexer": "ipython3",
   "version": "3.9.13"
  },
  "toc": {
   "base_numbering": 1,
   "nav_menu": {},
   "number_sections": true,
   "sideBar": true,
   "skip_h1_title": false,
   "title_cell": "Table of Contents",
   "title_sidebar": "Contents",
   "toc_cell": false,
   "toc_position": {},
   "toc_section_display": true,
   "toc_window_display": false
  }
 },
 "nbformat": 4,
 "nbformat_minor": 5
}
