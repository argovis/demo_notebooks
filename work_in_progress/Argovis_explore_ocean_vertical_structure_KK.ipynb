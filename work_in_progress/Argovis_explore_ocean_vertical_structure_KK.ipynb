{
 "cells": [
  {
   "cell_type": "markdown",
   "id": "fc72e497",
   "metadata": {},
   "source": [
    "# Characterizing vertical stratification in the ocean\n",
    "\n",
    "Argovis provides an API that indexes and distributes numerous oceanographic datasets with detailed query parameters, enabling you to search and download only and exactly data of interest. \n",
    "\n",
    "This notebook guides users in exploring the vertical structure of density in the ocean using ocean observations and gridded products (i.e. products that provide data on a grid starting from sparse point measurements). "
   ]
  },
  {
   "cell_type": "markdown",
   "id": "6ce76099",
   "metadata": {},
   "source": [
    "## Learning goals"
   ]
  },
  {
   "cell_type": "markdown",
   "id": "a3bd2c62",
   "metadata": {},
   "source": [
    "- Describe differences and similarities between temperature and salinity measurements from Argo floats and ships\n",
    "- Estimate mixed layer depth from temperature and salinity profiles\n",
    "- Describe how mixed layer depth varies with latitude\n",
    "- Estimate vertical stratification from temperature and salinity profiles\n",
    "- Describe how vertical stratification varies with depth and longitude"
   ]
  },
  {
   "cell_type": "markdown",
   "id": "1c6a1e03",
   "metadata": {},
   "source": [
    "## Intro to ocean data of interest"
   ]
  },
  {
   "cell_type": "markdown",
   "id": "01c82295",
   "metadata": {},
   "source": [
    "Both Argo and ship based profiles in Argovis are helpful to explore vertical stratification in the ocean. Please read more about these datasets using these links:\n",
    "\n",
    "- https://argo.ucsd.edu/about/\n",
    "- https://argo.ucsd.edu/about/status/\n",
    "- https://argovis.colorado.edu/argo\n",
    "- https://www.go-ship.org/About.html\n",
    "- https://www.go-ship.org/RefSecs/goship_ref_secs.html\n",
    "- https://argovis.colorado.edu/ships\n",
    "\n",
    "As you read, try and answer the following questions:\n",
    "- What is the spatial distribution of the observations from Argo versus GO-SHIP? Why?\n",
    "- What is the temporal distribution of the observations from Argo versus GO-SHIP? Why?\n",
    "\n",
    "Hint: you can use the Argovis website (https://argovis.colorado.edu/argo and https://argovis.colorado.edu/ships) to explore the spatial and temporal distribution of the observations."
   ]
  },
  {
   "cell_type": "markdown",
   "id": "aa0d3950",
   "metadata": {},
   "source": [
    "### GO-SHIP Easy Ocean\n",
    "\n",
    "This product provides a gridded version of GO-SHIP data. Please find more information at https://cchdo.ucsd.edu/products/goship-easyocean."
   ]
  },
  {
   "cell_type": "markdown",
   "id": "fd87dc65",
   "metadata": {},
   "source": [
    "## Setup: Register an API key"
   ]
  },
  {
   "cell_type": "markdown",
   "id": "856439b8",
   "metadata": {},
   "source": [
    "In order to allocate Argovis's limited computing resources fairly, users are encouraged to register and request a free API key. This works like a password that identifies your requests to Argovis. To do so:\n",
    "\n",
    " - Visit [https://argovis-keygen.colorado.edu/](https://argovis-keygen.colorado.edu/)\n",
    " - Fill out the form under _New Account Registration_\n",
    " - An API key will be emailed to you shortly.\n",
    " \n",
    "Treat this API key like a password - don't share it or leave it anywhere public. If you ever forget it or accidentally reveal it to a third party, see the same website above to change or deactivate your token.\n",
    "\n",
    "Put your API key in the quotes in the variable below before moving on (please note that if you proceed without including anything in the quotes, the notebook may still work, yet it may also give an error):"
   ]
  },
  {
   "cell_type": "code",
   "execution_count": null,
   "id": "ad2b8e79",
   "metadata": {},
   "outputs": [],
   "source": [
    "API_KEY=''"
   ]
  },
  {
   "cell_type": "markdown",
   "id": "6adb3c7f",
   "metadata": {},
   "source": [
    "## Setup: import libraries and functions"
   ]
  },
  {
   "cell_type": "code",
   "execution_count": null,
   "id": "41c0f6b8",
   "metadata": {},
   "outputs": [],
   "source": [
    "# Let's start importing libraries and functions we will need\n",
    "from argovisHelpers import helpers as avh\n",
    "\n",
    "import matplotlib.colors as mcolors\n",
    "import matplotlib.pyplot as plt # e.g. to change the size of figures created from functions\n",
    "import copy\n",
    "\n",
    "import sys\n",
    "sys.path.append('./work_in_progress')\n",
    "# let's import functions from the .py file in the current folder\n",
    "from Argovis_tasks_helpers import get_route,list_values_for_parameter_to_api_query,show_variable_names_for_collections\n",
    "from Argovis_tasks_helpers import get_api_output_formatted_list_1var_for_regions_and_timeranges, get_api_output_formatted_list_1var_for_parameter, api_output_formatted_list_1var_plot_lons_lats_map,api_output_formatted_list_1var_plot_profiles,api_output_formatted_list_1var_plot_map,api_output_formatted_list_1var_plot_horizontal_and_time_ave,api_output_formatted_list_parameter_2d_plot\n",
    "from Argovis_tasks_helpers import api_output_formatted_list_include_gsw_fields"
   ]
  },
  {
   "cell_type": "markdown",
   "id": "3b94ae09",
   "metadata": {},
   "source": [
    "## Setup: define parameters to query data of interest"
   ]
  },
  {
   "cell_type": "markdown",
   "id": "4d124034",
   "metadata": {},
   "source": [
    "Let's indicate the collections of interest, i.e. what datasets in Argovis you would like to use as they include the oceanic properties of interest. **Please first run the code with the current settings to familiarize yourself with the notebook: after that, if needed, change the settings and run the notebook again.**"
   ]
  },
  {
   "cell_type": "code",
   "execution_count": null,
   "id": "ae33f577",
   "metadata": {},
   "outputs": [],
   "source": [
    "# for a list of collections, please see the Argovis swagger page\n",
    "\n",
    "#### in the following we set parameters to compare ocean profiles with a gridded product\n",
    "selection_params = {}\n",
    "\n",
    "#+++ example to use Argo and cchdo/easyocean profile data, as well as the glodap gridded product (which provides time mean fields)\n",
    "selection_params['collections']  = ['argo']\n",
    "\n",
    "#### let's print to screen some info based on the selected collections (to be able to select further parameters in the next cell)\n",
    "vars_lists = show_variable_names_for_collections(collections_list=selection_params['collections'],API_KEY=API_KEY,verbose=True)\n"
   ]
  },
  {
   "cell_type": "markdown",
   "id": "395e4caf",
   "metadata": {},
   "source": [
    "Now let's indicate the data of interest within the collections we selected above. As examples, for each collection, we need to specify the variable name and the quality control flag of interest (if a specific qc flag is of interest and if the flag is available for a collection)."
   ]
  },
  {
   "cell_type": "code",
   "execution_count": null,
   "id": "1fc9bd02",
   "metadata": {},
   "outputs": [],
   "source": [
    "#### params varying with the region\n",
    "\n",
    "#+++ example to use salinity from Argo profile data (with argo qc flag 1) and the Roemmich and Gilson monthly gridded product\n",
    "selection_params['varnames']     = ['salinity']\n",
    "selection_params['varnames_qc']  = [',1'] # argoqc = 1 is best quality\n",
    "\n",
    "# for each collection, indicate the variable names for temperature and salinity (as they will be needed to estimate e.g. density)\n",
    "selection_params['varname_temperature'] = ['temperature']\n",
    "selection_params['varname_salinity']    = ['salinity']\n",
    "\n",
    "# Please indicate extra variables of interest that were not included in the list above\n",
    "# do not forget to include a comma at the start of the string, e.g. ',salinity,temperature'\n",
    "selection_params['data_extra']     = [',temperature,1']\n",
    "\n",
    "# define name of the variable that includes levels for each collection\n",
    "selection_params['varname_levels'] = ['pressure'] # for the gridded product, the level info is in the metadata, i.e. there is no variable in 'data' (for argo, 'pressure' is within the 'data' instead)"
   ]
  },
  {
   "cell_type": "markdown",
   "id": "01f95487",
   "metadata": {},
   "source": [
    "#### Before we continue, let's check that variables selected are included in the corresponding collection selected (if not, we should change the selected variable name in selection_params['varnames'])"
   ]
  },
  {
   "cell_type": "code",
   "execution_count": null,
   "id": "7fb075b9",
   "metadata": {},
   "outputs": [],
   "source": [
    "for i,ilist in enumerate(vars_lists):\n",
    "    if selection_params['varnames'][i] not in ilist:\n",
    "        print('>>>>> '+selection_params['collections'][i]+' does not include selected variable, i.e. '+selection_params['varnames'][i])\n",
    "        print('Here is a list of the variables that are included:')\n",
    "        print(ilist)\n",
    "        change_name_of_selected_variable_before_continuing\n",
    "    else:\n",
    "        print('>>>>> '+selection_params['collections'][i]+' includes selected variable, i.e. '+selection_params['varnames'][i])"
   ]
  },
  {
   "cell_type": "markdown",
   "id": "41355a9e",
   "metadata": {},
   "source": [
    "Let's now set the regions of interest and the type and tag for each region. Please note that in some regions and time periods of interest, the data of interest may not be available.\n",
    "\n",
    "Please include more regions of interest using the same format as the current example."
   ]
  },
  {
   "cell_type": "code",
   "execution_count": null,
   "id": "6eef50be",
   "metadata": {},
   "outputs": [],
   "source": [
    "#### params varying with the region\n",
    "\n",
    "# in this example, we will use the 'box' selection type (i.e. we query the data within boxes),\n",
    "# hence we indicate here the bottom/left and top/right vertices for each box of interest... \n",
    "# the other option is to search in a 'polygon' and indicate the polygon\n",
    "# vertices in a list (first and last vertex should be the same)\n",
    "\n",
    "selection_params['regions']     = [\n",
    "                        [[-28,-60],[-23,-55]],\n",
    "                        [[-28,-35],[-23,-30]],\n",
    "                        [[-28,-2.5],[-23,2.5]],\n",
    "                        [[-28,30],[-23,35]],\n",
    "                        [[-28,55],[-23,60]],\n",
    "                        ]\n",
    "\n",
    "\n",
    "#+++\n",
    "\n",
    "selection_params['regions_type'] = ['box', 'box', 'box', 'box', 'box', 'box', 'box']\n",
    "\n",
    "selection_params['regions_tag'] = ['South Atlantic',\n",
    "                                   'Southern Subtropics Atlantic',\n",
    "                                   'Near equator Atlantic',\n",
    "                                   'Northern Subtropics Atlantic',\n",
    "                                   'North Atlantic',\n",
    "                                  ]\n",
    "####\n",
    "\n"
   ]
  },
  {
   "cell_type": "markdown",
   "id": "61a70e88",
   "metadata": {},
   "source": [
    "Finally, let's set up the time periods of interest (there could be more than one, e.g. to compare different seasons or different years). We also define the vertical levels that we want to use to interpolate observed profiles and colors to use for the line plots."
   ]
  },
  {
   "cell_type": "code",
   "execution_count": null,
   "id": "1c0c8302",
   "metadata": {},
   "outputs": [],
   "source": [
    "# list of startDate and endDates of interest (note: these will not be used for glodap as glodap only provides a time mean)\n",
    "selection_params['startDate']    = ['2021-06-01T00:00:00Z']\n",
    "selection_params['endDate']      = ['2021-06-30T00:00:00Z']\n",
    "# selection_params['endDate']      = ['2022-12-31T00:00:00Z']\n",
    "\n",
    "#### other params\n",
    "# custom levels for vertically integrated profiles\n",
    "selection_params['interp_levels']= list(range(10,500))[0::1]\n",
    "\n",
    "# levels for vertically integrated profiles if we want to use the vertical axis of one of the grids in Argovis\n",
    "# selection_params['interp_levels']= 'rg09_temperature_200401_Total' #list(range(10,2001))[0::20]\n",
    "\n",
    "# colors to use for the line plots\n",
    "colors = list(mcolors.TABLEAU_COLORS.keys())"
   ]
  },
  {
   "cell_type": "code",
   "execution_count": null,
   "id": "57b98c1d",
   "metadata": {},
   "outputs": [],
   "source": [
    "# if the user requested to interpolate on the vertical axis on a grid, the code here redefines 'interp_levels'  based on that\n",
    "if isinstance(selection_params['interp_levels'],str):\n",
    "    \n",
    "    meta = avh.query('grids/meta', options={\"id\": 'rg09_temperature_200401_Total'},apikey=API_KEY, apiroot=get_route(selection_params['interp_levels']),verbose=True)\n",
    "    selection_params['interp_levels']=meta[0]['levels']\n",
    "#selection_params['interp_levels']"
   ]
  },
  {
   "cell_type": "markdown",
   "id": "60974913",
   "metadata": {},
   "source": [
    "## Loading the data of interest using the Argovis API"
   ]
  },
  {
   "cell_type": "markdown",
   "id": "ade5ce0d",
   "metadata": {},
   "source": [
    "In the next code cell, parameters selected above are used to query the data of interest and format them in a way that allows to easily visualize the data. Depending on how many regions/time periods were selected and the extent of each region/time period of interest, the next code cell may take some time to complete."
   ]
  },
  {
   "cell_type": "code",
   "execution_count": null,
   "id": "9ea2a128",
   "metadata": {},
   "outputs": [],
   "source": [
    "api_output_formatted_list = get_api_output_formatted_list_1var_for_regions_and_timeranges(selection_params=selection_params,API_KEY=API_KEY)\n"
   ]
  },
  {
   "cell_type": "markdown",
   "id": "6eaf513b",
   "metadata": {},
   "source": [
    "## Visualization: map of profile locations in each region and time period of interest"
   ]
  },
  {
   "cell_type": "code",
   "execution_count": null,
   "id": "08eea23e",
   "metadata": {},
   "outputs": [],
   "source": [
    "# plot map of lons and lats for data that are not gridded\n",
    "api_output_formatted_list_1var_plot_lons_lats_map(api_output_formatted_list,flag_map_for_only_one_var=False)      "
   ]
  },
  {
   "cell_type": "markdown",
   "id": "71550e8d-b740-4ca3-b93b-d2a47da8f9df",
   "metadata": {},
   "source": [
    "## Section for test DG"
   ]
  },
  {
   "cell_type": "code",
   "execution_count": null,
   "id": "cc59bbe3-50de-4352-87e8-1b4c843f6ac7",
   "metadata": {},
   "outputs": [],
   "source": [
    "api_output_formatted_list_dg = api_output_formatted_list_include_gsw_fields(list_fields_to_include=['absolute_salinity','conservative_temperature','potential_density','Nsquared'],\n",
    "                                                        api_output_formatted_list0=api_output_formatted_list)\n"
   ]
  },
  {
   "cell_type": "code",
   "execution_count": null,
   "id": "64e0e3eb-adde-42e5-abbe-6d406b4e4fd4",
   "metadata": {},
   "outputs": [],
   "source": [
    "api_output_formatted_list_1var_plot_profiles(api_output_formatted_list_dg)"
   ]
  },
  {
   "cell_type": "code",
   "execution_count": null,
   "id": "34f014ff-8492-4bda-9581-b5959a686ab2",
   "metadata": {},
   "outputs": [],
   "source": [
    "api_output_formatted_list_dg[0]['potential_density'].keys()"
   ]
  },
  {
   "cell_type": "code",
   "execution_count": null,
   "id": "c5ed7694-6633-45a4-9b43-8dbcad60e0bc",
   "metadata": {},
   "outputs": [],
   "source": [
    "for y,x in zip(api_output_formatted_list_dg[0]['potential_density']['levels'],api_output_formatted_list_dg[0]['potential_density']['data']):\n",
    "    plt.plot(x,y)\n",
    "    plt.ylim(0,150)\n",
    "plt.gca().invert_yaxis()"
   ]
  },
  {
   "cell_type": "code",
   "execution_count": null,
   "id": "7df61783-eca2-4178-b4cf-f6486ebece8f",
   "metadata": {},
   "outputs": [],
   "source": [
    "api_output_formatted_list_dg[0]['potential_density']['data_xarray']['data'].plot(vmin=1024.8,vmax=1025.1)\n",
    "plt.ylim(0,150)\n",
    "plt.gca().invert_yaxis()"
   ]
  },
  {
   "cell_type": "code",
   "execution_count": null,
   "id": "bb4c6a60-b11d-4138-a921-c1ed50ed80ea",
   "metadata": {},
   "outputs": [],
   "source": [
    "plt.plot(api_output_formatted_list_dg[0]['potential_density']['data_xarray']['data'][0,:]-api_output_formatted_list_dg[0]['potential_density']['data_xarray']['data'][0,0])\n"
   ]
  },
  {
   "cell_type": "code",
   "execution_count": null,
   "id": "3698019c-1c1f-459f-9cdd-8c86dcff3506",
   "metadata": {},
   "outputs": [],
   "source": [
    "plt.plot(api_output_formatted_list_dg[0]['potential_density']['data_xarray']['timestamp'],\n",
    "         api_output_formatted_list_dg[0]['potential_density']['data_xarray']['data'][0,:]-api_output_formatted_list_dg[0]['potential_density']['data_xarray']['data'][0,0])\n"
   ]
  },
  {
   "cell_type": "code",
   "execution_count": null,
   "id": "1d67406f-d0f2-4b72-9bdc-c4269c382518",
   "metadata": {},
   "outputs": [],
   "source": [
    "plt.plot(api_output_formatted_list_dg[0]['potential_density']['data_xarray']['timestamp'],\n",
    "         api_output_formatted_list_dg[0]['potential_density']['data_xarray']['data'][0,:]-1000)"
   ]
  },
  {
   "cell_type": "code",
   "execution_count": null,
   "id": "5a1b7d06-5714-457e-ba0c-f5cb5113de7b",
   "metadata": {},
   "outputs": [],
   "source": [
    "plt.plot(api_output_formatted_list_dg[0]['temperature']['data_xarray']['timestamp'],\n",
    "         api_output_formatted_list_dg[0]['temperature']['data_xarray']['data'][0,:])"
   ]
  },
  {
   "cell_type": "code",
   "execution_count": null,
   "id": "6138a0ac-6232-468e-ac4a-2dbf7550a09b",
   "metadata": {},
   "outputs": [],
   "source": [
    "plt.plot(api_output_formatted_list_dg[0]['salinity']['data_xarray']['timestamp'],\n",
    "         api_output_formatted_list_dg[0]['salinity']['data_xarray']['data'][0,:])"
   ]
  },
  {
   "cell_type": "markdown",
   "id": "34e2ba3e",
   "metadata": {},
   "source": [
    "## Select one profile\n",
    "\n",
    "Let's select one of the profiles in each region and look at the data. To select the first profile returned by Argovis for each region, leave n=0 in the cell of code below (if you would like to pick another profile, use a different value for n)."
   ]
  },
  {
   "cell_type": "code",
   "execution_count": null,
   "id": "8d383a15",
   "metadata": {},
   "outputs": [],
   "source": [
    "# proceed picking only one profile\n",
    "n = 0;\n",
    "api_output_formatted_list_1profile = copy.deepcopy(api_output_formatted_list)\n",
    "\n",
    "for iapi in api_output_formatted_list_1profile:\n",
    "    for ivar in iapi:\n",
    "        for ikey in ['_id','data','levels','timestamp','longitude','latitude']:\n",
    "            if ikey in iapi[ivar].keys():\n",
    "                iapi[ivar][ikey] = [iapi[ivar][ikey][n]]\n",
    "        if 'data_xarray' in iapi[ivar].keys():\n",
    "            iapi[ivar]['data_xarray'] = iapi[ivar]['data_xarray'].isel(index=[n])"
   ]
  },
  {
   "cell_type": "markdown",
   "id": "8ed5b69e",
   "metadata": {},
   "source": [
    "Let's compute e.g. potential density and buoyancy frequency squared (N_squared) from in-situ temperature and salinity and add it to items in the list api_output_formatted_list."
   ]
  },
  {
   "cell_type": "code",
   "execution_count": null,
   "id": "606a98fa",
   "metadata": {},
   "outputs": [],
   "source": [
    "api_output_formatted_list_1profile = api_output_formatted_list_include_gsw_fields(list_fields_to_include=['absolute_salinity','conservative_temperature','potential_density','Nsquared'],\n",
    "                                                        api_output_formatted_list0=api_output_formatted_list_1profile)\n"
   ]
  },
  {
   "cell_type": "markdown",
   "id": "5efac610",
   "metadata": {},
   "source": [
    "## Visualization: plot the profile in each region and time period of interest. \n"
   ]
  },
  {
   "cell_type": "code",
   "execution_count": null,
   "id": "a6348b1c",
   "metadata": {},
   "outputs": [],
   "source": [
    "api_output_formatted_list_1var_plot_profiles(api_output_formatted_list_1profile)"
   ]
  },
  {
   "cell_type": "code",
   "execution_count": null,
   "id": "2c909a3c",
   "metadata": {},
   "outputs": [],
   "source": [
    "# if we had not moved forward with only one profile per region and time period of interest,\n",
    "# the function below would perform the horizontal and time average of all the profiles available\n",
    "# in that region and time period of interest\n",
    "api_output_formatted_list_1var_plot_horizontal_and_time_ave(api_output_formatted_list_1profile,colors)  \n"
   ]
  },
  {
   "cell_type": "code",
   "execution_count": null,
   "id": "013ac0ab",
   "metadata": {},
   "outputs": [],
   "source": [
    "# plt.plot(api_output_formatted_list_1profile[0]['temperature']['levels'][0],\n",
    "#     api_output_formatted_list_1profile[0]['temperature']['data'][0],)\n",
    "# plt.xlim(0,500)"
   ]
  },
  {
   "cell_type": "code",
   "execution_count": null,
   "id": "1734641c",
   "metadata": {},
   "outputs": [],
   "source": [
    "# api_output_formatted_list_1profile[0]['temperature']['data_xarray']['data'].plot()"
   ]
  },
  {
   "cell_type": "code",
   "execution_count": null,
   "id": "92b88307",
   "metadata": {},
   "outputs": [],
   "source": [
    "# import sys \n",
    "# sys.getsizeof(api_output_formatted_list) "
   ]
  },
  {
   "cell_type": "markdown",
   "id": "a0df0260",
   "metadata": {},
   "source": [
    "# Extra section: visualizing profiles from Argo platform and/or WOCE line"
   ]
  },
  {
   "cell_type": "markdown",
   "id": "a1f98245",
   "metadata": {},
   "source": [
    "In the following, we will use some of the plots above to visualize profiles from a specific Argo platform and/or a WOCE line. In doing so, we will focus only on the object of interest (e.g. profiles from a specific Argo platform or WOCE line) and **NOT** select by region or time."
   ]
  },
  {
   "cell_type": "markdown",
   "id": "a649fc41",
   "metadata": {},
   "source": [
    "## Setup: define parameters to query data of interest"
   ]
  },
  {
   "cell_type": "markdown",
   "id": "cc092b13",
   "metadata": {},
   "source": [
    "Let's indicate the collections of interest (i.e. what datasets in Argovis you would like to use as they include the oceanic property of interest) and the parameter of interest. The parameter of interest should be present in all the collections to consider (e.g. 'platform' is there for the Argo collection, yet 'woceline' is not there for Argo). We also list 1. all the variables that are available for each collection, and 2. all the values that are possible for the selected parameter (so that we can use the variable name and value of interest for the selected parameter, in following code cells). **Please first run the code with the current settings to familiarize yourself with the notebook: after that, if needed, then change the settings and run the notebook again.**"
   ]
  },
  {
   "cell_type": "code",
   "execution_count": null,
   "id": "62b734ea",
   "metadata": {},
   "outputs": [],
   "source": [
    "#+++\n",
    "\n",
    "selection_params = {}\n",
    "\n",
    "#+++ example for Argo platform\n",
    "selection_params['collections']  = ['argo']\n",
    "selection_params['parameter_name']= 'platform'\n",
    "selection_params['varname_temperature'] = ['temperature']\n",
    "selection_params['varname_salinity'] = ['salinity']\n",
    "#+++\n",
    "\n",
    "#+++ example for WOCE line from the Easyocean gridded product\n",
    "selection_params['collections']  = ['easyocean','easyocean']\n",
    "selection_params['parameter_name']= 'woceline'\n",
    "selection_params['varname_temperature'] = ['ctd_temperature','ctd_temperature']\n",
    "selection_params['varname_salinity'] = ['ctd_salinity','ctd_salinity']\n",
    "#+++ \n",
    "\n",
    "# let's print to screen some info based on the selected collections (to be able to select further parameters in the next cells)\n",
    "show_variable_names_for_collections(collections_list=selection_params['collections'],API_KEY=API_KEY,verbose=True)\n",
    "\n",
    "values_for_param = list_values_for_parameter_to_api_query(selection_params=selection_params,API_KEY=API_KEY,verbose=False)\n"
   ]
  },
  {
   "cell_type": "markdown",
   "id": "37b5810b",
   "metadata": {},
   "source": [
    "Let's list values available for the param of interest of interest."
   ]
  },
  {
   "cell_type": "code",
   "execution_count": null,
   "id": "395ea2f0",
   "metadata": {},
   "outputs": [],
   "source": [
    "for icollection in values_for_param.keys():\n",
    "    print('---> ' + icollection)\n",
    "    if len(values_for_param[icollection]['param_vals'])<100:\n",
    "        print(values_for_param[icollection]['param_vals'])\n",
    "    else:\n",
    "        print('The list of param values is too long, will only show first 100 possible values')\n",
    "        print(values_for_param[icollection]['param_vals'][0:100])\n"
   ]
  },
  {
   "cell_type": "markdown",
   "id": "c0850c64",
   "metadata": {},
   "source": [
    "For each collection, indicate the parameter value of interest, the variable of interest, and, if needed, the 'section_start_date' of interest (this is needed e.g. for Easyocean). Please note that a variable may not be available for some parameter values (e.g. many Argo platforms do not measure bgc variables). The code in the following will return no profiles if the selected variable is not available for the parameter value of interest."
   ]
  },
  {
   "cell_type": "code",
   "execution_count": null,
   "id": "93a92a38",
   "metadata": {},
   "outputs": [],
   "source": [
    "#### parameters to set for each collection based on the info printed above\n",
    "\n",
    "#+++ argo example\n",
    "selection_params['parameter']     = ['4903274']\n",
    "#+++ \n",
    "\n",
    "#+++  easyocean example\n",
    "selection_params['parameter']     = ['P16','A16-A23'] #'P16', ['A10'] #['A16']\n",
    "#+++\n",
    "\n",
    "# based on the list above, let's set the section_start_date for the 'woceline' of interest:\n",
    "# please note that if you don't edit below (see # +++*** after the if statement) the code \n",
    "# will select the latest occupation in the dataset\n",
    "if selection_params['parameter_name']=='woceline':\n",
    "    selection_params['section_start_date'] = []\n",
    "    for i,icollection in enumerate(selection_params['collections']):\n",
    "        print('>----> Occupations for selected woceline ' +selection_params['parameter'][i] + ':')\n",
    "        print(values_for_param[icollection]['param_vals_extra'][selection_params['parameter'][i]]['time_boundaris'])\n",
    "        print('--+ Selected occupation start date')\n",
    "        bfr_param_vals_extra = values_for_param[icollection]['param_vals_extra'][selection_params['parameter'][i]]\n",
    "        selection_params['section_start_date'].append(bfr_param_vals_extra['time_boundaris'][-1][0])#['2011-09-28T00:00:00.000Z']\n",
    "        print(selection_params['section_start_date'])\n",
    "        \n",
    "# +++*** uncomment here to select the section start date manually\n",
    "# selection_params['section_start_date'] = ['2005-01-10T00:00:00.000Z']\n",
    "\n",
    "# define name of variable of interest for each collection\n",
    "\n",
    "#+++ argo example\n",
    "selection_params['varnames']     = ['doxy']\n",
    "selection_params['varnames_qc']  = [',1'] # argoqc = 1 is best quality\n",
    "#+++\n",
    "\n",
    "#+++ easyocean example\n",
    "selection_params['varnames']     = ['doxy','doxy']\n",
    "selection_params['varnames_qc']  = ['',''] # woceqc = 2 is best quality\n",
    "#+++\n",
    "\n",
    "selection_params['varname_title']     = 'Oxygen, umol/kg'\n",
    "\n",
    "# if we wanted to only consider oxygen profiles where temperature and salinity are qc 1, we would have here: 'temperature,1,salinity,1' (these additional variables are also stored for the regions of interest)\n",
    "# (these additional variables are also stored for the regions of interest and visualized)\n",
    "### please note that the first comma should be included!\n",
    "### please note that qc flags are not used for Easyocean\n",
    "\n",
    "#+++ argo example\n",
    "selection_params['data_extra']   = [',temperature,1,salinity,1']\n",
    "#+++\n",
    "\n",
    "#+++ easyocean example\n",
    "selection_params['data_extra']   = [',ctd_temperature,ctd_salinity',',ctd_temperature,ctd_salinity'] # we included these as we want to store them\n",
    "#+++\n",
    "\n",
    "# define name of the variable that includes levels for each collection\n",
    "selection_params['varname_levels'] = ['pressure','pressure'] # \n"
   ]
  },
  {
   "cell_type": "markdown",
   "id": "ef4bf747",
   "metadata": {},
   "source": [
    "Finally, let's define the vertical levels that we want to use to interpolate observed profiles and colors to use for the line plots. "
   ]
  },
  {
   "cell_type": "code",
   "execution_count": null,
   "id": "aed7ff29",
   "metadata": {},
   "outputs": [],
   "source": [
    "# levels for vertically integrated profiles\n",
    "selection_params['interp_levels']= list(range(10,501))[0::20]\n",
    "# colors to use for the line plots\n",
    "colors = list(mcolors.TABLEAU_COLORS.keys())"
   ]
  },
  {
   "cell_type": "markdown",
   "id": "e2968042",
   "metadata": {},
   "source": [
    "## Loading the data of interest using the Argovis API"
   ]
  },
  {
   "cell_type": "markdown",
   "id": "22f0bf57",
   "metadata": {},
   "source": [
    "In the next code cell, parameters selected above are used to query the data of interest and format them in a way that allows to easily visualize the data. Depending on the size of the data requested, the next code cell may take several minutes to complete."
   ]
  },
  {
   "cell_type": "code",
   "execution_count": null,
   "id": "3ee91615",
   "metadata": {},
   "outputs": [],
   "source": [
    "api_output_formatted_list = get_api_output_formatted_list_1var_for_parameter(selection_params=selection_params,API_KEY=API_KEY)\n"
   ]
  },
  {
   "cell_type": "code",
   "execution_count": null,
   "id": "93e5d2d5",
   "metadata": {},
   "outputs": [],
   "source": [
    "# plot map of lons and lats for data that are not gridded\n",
    "api_output_formatted_list_1var_plot_lons_lats_map(api_output_formatted_list)\n",
    "# example of how to change the figure size\n",
    "# fig = plt.gcf() # gcf: get current figure\n",
    "# fig.set_size_inches(10,15)\n"
   ]
  },
  {
   "cell_type": "markdown",
   "id": "4f1ef089",
   "metadata": {},
   "source": [
    "Let's compute e.g. potential density, N_squared, absolute salinity, conservative temperature from in-situ temperature and salinity and add it to items in the list api_output_formatted_list."
   ]
  },
  {
   "cell_type": "code",
   "execution_count": null,
   "id": "7be90bb5",
   "metadata": {},
   "outputs": [],
   "source": [
    "api_output_formatted_list = api_output_formatted_list_include_gsw_fields(list_fields_to_include=['absolute_salinity','conservative_temperature','potential_density','Nsquared'],\n",
    "                                                        api_output_formatted_list0=api_output_formatted_list)\n"
   ]
  },
  {
   "cell_type": "markdown",
   "id": "096e334c",
   "metadata": {},
   "source": [
    "Now, let's create a shaded plot showing all the profiles (in an order based on a coordinate of interest, e.g. longitude, latitude, timestamp) and all the levels."
   ]
  },
  {
   "cell_type": "code",
   "execution_count": null,
   "id": "b40f932a",
   "metadata": {},
   "outputs": [],
   "source": [
    "# select the variable of interest for the sorting:\n",
    "# woceline: look at the map above and choose what makes most sense between longitude and latitude\n",
    "# argo platform: 'timestamp' is generally a good choice; the cycle number would be good too, yet \n",
    "# it is not currently stored in api_output_formatted_list\n",
    "var2use_for_sorting = 'latitude'\n",
    "\n",
    "api_output_formatted_list_parameter_2d_plot(api_output_formatted_list,var2use_for_sorting=var2use_for_sorting)\n"
   ]
  },
  {
   "cell_type": "code",
   "execution_count": null,
   "id": "fed1511b",
   "metadata": {},
   "outputs": [],
   "source": []
  },
  {
   "cell_type": "code",
   "execution_count": null,
   "id": "ea20e064",
   "metadata": {},
   "outputs": [],
   "source": []
  },
  {
   "cell_type": "code",
   "execution_count": null,
   "id": "10277c05",
   "metadata": {},
   "outputs": [],
   "source": []
  },
  {
   "cell_type": "code",
   "execution_count": null,
   "id": "aaf31cbb",
   "metadata": {},
   "outputs": [],
   "source": []
  },
  {
   "cell_type": "code",
   "execution_count": null,
   "id": "4fb04500",
   "metadata": {},
   "outputs": [],
   "source": []
  },
  {
   "cell_type": "code",
   "execution_count": null,
   "id": "8b86f963",
   "metadata": {},
   "outputs": [],
   "source": []
  },
  {
   "cell_type": "code",
   "execution_count": null,
   "id": "bc7516cf",
   "metadata": {},
   "outputs": [],
   "source": []
  },
  {
   "cell_type": "code",
   "execution_count": null,
   "id": "c6c36ea1",
   "metadata": {},
   "outputs": [],
   "source": []
  }
 ],
 "metadata": {
  "kernelspec": {
   "display_name": "Argovis_demos",
   "language": "python",
   "name": "argovis_demos"
  },
  "language_info": {
   "codemirror_mode": {
    "name": "ipython",
    "version": 3
   },
   "file_extension": ".py",
   "mimetype": "text/x-python",
   "name": "python",
   "nbconvert_exporter": "python",
   "pygments_lexer": "ipython3",
   "version": "3.9.19"
  },
  "toc": {
   "base_numbering": 1,
   "nav_menu": {},
   "number_sections": true,
   "sideBar": true,
   "skip_h1_title": false,
   "title_cell": "Table of Contents",
   "title_sidebar": "Contents",
   "toc_cell": false,
   "toc_position": {},
   "toc_section_display": true,
   "toc_window_display": false
  }
 },
 "nbformat": 4,
 "nbformat_minor": 5
}
