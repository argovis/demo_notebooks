{
 "cells": [
  {
   "cell_type": "markdown",
   "id": "7d050bd7",
   "metadata": {},
   "source": [
    "# Introduction to Timeseries datasets"
   ]
  },
  {
   "cell_type": "markdown",
   "id": "9208bba9",
   "metadata": {},
   "source": [
    "> Note: you will be best served by familiarizing yourself with the more basic notebooks _Introduction to Argovis_ and _Intro to Argovis' Grid API_ before following this notebook.\n",
    "\n",
    "The generic point schema used by Argovis for point-like data such as Argo profiles and grids works well for data that can be feasilby captured as documents with unique latitude, longitude, and timestamps. However, when considering higher-resolution datasets, indexing independent documents for each such coordinate triple can dramatically exceed the scale of computing resources the point data above requires; for example, while Argo has roughly 3 million such profile documents to consider at the time of writing, a global, quarter-degree grid measured daily for 30 years (a typical scale for satellite products) would have on the order of *10 billion* such documents. In order to represent, index and serve such high-resolution grids on similar compute infrastructure to the point data, we make a minor modification to the generic point schema to form the *generic timeseries schema*:\n",
    "\n",
    " - Vectors in the ``data`` object represent surface measurements, estimates or flags as an ordered timeseries.\n",
    " - The ``data`` document no longer has a single ``timestamp`` key, as the data within corresponds to many timestamps.\n",
    " - The ``metadata`` or ``data`` document must bear a ``timeseries`` key, which is an ordered list of timestamps corresponding to the times associated with each element in the ``data`` vectors.\n",
    "\n",
    "The observant reader will notice that this is very similar to the gridded products which have a ``levels`` key indicating the model depths for each entry in their ``data`` vectors. All other aspects of the generic schema remain consistent between point and timeseries datasets. In this notebook, we'll illustrate the unique features of a couple of timeseries datasets; for all other details, the reader is encouraged to apply what they learned from other Argovis API examples, as most query filters and behaviors remain identical between point and timeseries datasets."
   ]
  },
  {
   "cell_type": "markdown",
   "id": "3ef55f0c",
   "metadata": {},
   "source": [
    "## Setup"
   ]
  },
  {
   "cell_type": "markdown",
   "id": "4d0b8be0",
   "metadata": {},
   "source": [
    "In addition to importing a few python packages, make sure to plug in your Argovis API key for API_KEY in the next cell. If you don't have a free Argovis API key yet, get one at https://argovis-keygen.colorado.edu/."
   ]
  },
  {
   "cell_type": "code",
   "execution_count": 1,
   "id": "7130539e",
   "metadata": {},
   "outputs": [],
   "source": [
    "from argovisHelpers import helpers as avh\n",
    "\n",
    "from Argovis_tasks_helpers import get_route,list_values_for_parameter_to_api_query,show_variable_names_for_collections\n",
    "\n",
    "API_ROOT='https://argovis-api.colorado.edu/'\n",
    "API_KEY=''"
   ]
  },
  {
   "cell_type": "code",
   "execution_count": 2,
   "id": "685a69c9",
   "metadata": {},
   "outputs": [],
   "source": [
    "# for a list of collections, please see the Argovis swagger page\n",
    "\n",
    "#### in the following we set parameters to plot different gridded products\n",
    "selection_params = {}\n",
    "#+++ example to use Argo profile data and the glodap gridded product (which provides time mean fields)\n",
    "selection_params['collections']  = ['timeseries/noaasst',\n",
    "                                    'timeseries/copernicussla',\n",
    "                                   'timeseries/ccmpwind',\n",
    "                                   'grids/rg09',\n",
    "                                   'grids/glodap',\n",
    "                                   'grids/kg21']\n",
    "#+++\n"
   ]
  },
  {
   "cell_type": "code",
   "execution_count": 4,
   "id": "0d609c4d",
   "metadata": {},
   "outputs": [
    {
     "name": "stdout",
     "output_type": "stream",
     "text": [
      "https://argovis-api.colorado.edu/timeseries/noaasst/vocabulary?parameter=data\n",
      ">>>>> timeseries/noaasst\n",
      "['sst']\n",
      "https://argovis-api.colorado.edu/timeseries/copernicussla/vocabulary?parameter=data\n",
      ">>>>> timeseries/copernicussla\n",
      "['sla', 'adt', 'ugosa', 'ugos', 'vgosa', 'vgos']\n",
      "https://argovis-api.colorado.edu/timeseries/ccmpwind/vocabulary?parameter=data\n",
      ">>>>> timeseries/ccmpwind\n",
      "['uwnd', 'vwnd', 'ws', 'nobs']\n",
      "https://argovis-api.colorado.edu/grids/rg09/vocabulary?parameter=data\n",
      ">>>>> grids/rg09\n",
      "['rg09_salinity', 'rg09_temperature']\n",
      "https://argovis-api.colorado.edu/grids/glodap/vocabulary?parameter=data\n",
      ">>>>> grids/glodap\n",
      "['Cant', 'Cant_Input_N', 'Cant_Input_mean', 'Cant_Input_std', 'Cant_error', 'Cant_relerr', 'NO3', 'NO3_Input_N', 'NO3_Input_mean', 'NO3_Input_std', 'NO3_error', 'NO3_relerr', 'OmegaA', 'OmegaA_Input_N', 'OmegaA_Input_mean', 'OmegaA_Input_std', 'OmegaA_error', 'OmegaA_relerr', 'OmegaC', 'OmegaC_Input_N', 'OmegaC_Input_mean', 'OmegaC_Input_std', 'OmegaC_error', 'OmegaC_relerr', 'PI_TCO2', 'PI_TCO2_Input_N', 'PI_TCO2_Input_mean', 'PI_TCO2_Input_std', 'PI_TCO2_error', 'PI_TCO2_relerr', 'PO4', 'PO4_Input_N', 'PO4_Input_mean', 'PO4_Input_std', 'PO4_error', 'PO4_relerr', 'TAlk', 'TAlk_Input_N', 'TAlk_Input_mean', 'TAlk_Input_std', 'TAlk_error', 'TAlk_relerr', 'TCO2', 'TCO2_Input_N', 'TCO2_Input_mean', 'TCO2_Input_std', 'TCO2_error', 'TCO2_relerr', 'oxygen', 'oxygen_Input_N', 'oxygen_Input_mean', 'oxygen_Input_std', 'oxygen_error', 'oxygen_relerr', 'pHts25p0', 'pHts25p0_Input_N', 'pHts25p0_Input_mean', 'pHts25p0_Input_std', 'pHts25p0_error', 'pHts25p0_relerr', 'pHtsinsitutp', 'pHtsinsitutp_Input_N', 'pHtsinsitutp_Input_mean', 'pHtsinsitutp_Input_std', 'pHtsinsitutp_error', 'pHtsinsitutp_relerr', 'salinity', 'salinity_Input_N', 'salinity_Input_mean', 'salinity_Input_std', 'salinity_error', 'salinity_relerr', 'silicate', 'silicate_Input_N', 'silicate_Input_mean', 'silicate_Input_std', 'silicate_error', 'silicate_relerr', 'temperature', 'temperature_Input_N', 'temperature_Input_mean', 'temperature_Input_std', 'temperature_error', 'temperature_relerr']\n",
      "https://argovis-api.colorado.edu/grids/kg21/vocabulary?parameter=data\n",
      ">>>>> grids/kg21\n",
      "['kg21_ohc15to300']\n"
     ]
    }
   ],
   "source": [
    "# for each selected collection, we list the variables that are available\n",
    "vars_lists = show_variable_names_for_collections(collections_list=selection_params['collections'],API_KEY=API_KEY,verbose=True)\n"
   ]
  },
  {
   "cell_type": "code",
   "execution_count": null,
   "id": "96883466",
   "metadata": {},
   "outputs": [],
   "source": [
    "# indicate the variable of interest for each collection\n",
    "selection_params['varnames']     = ['doxy', 'oxygen']\n",
    "selection_params['varnames_qc']  = [',1', ''] #[',1', ''] # argoqc = 1 is best quality\n",
    "selection_params['varname_title']     = 'Oxygen'\n"
   ]
  },
  {
   "cell_type": "code",
   "execution_count": 10,
   "id": "5dbd1a7e",
   "metadata": {},
   "outputs": [
    {
     "name": "stdout",
     "output_type": "stream",
     "text": [
      "https://argovis-api.colorado.edu/timeseries/meta?id=noaasst\n",
      "--> timeseries/noaasst\n",
      "dict_keys(['_id', 'data_type', 'data_info', 'date_updated_argovis', 'timeseries', 'source', 'lattice'])\n",
      "https://argovis-api.colorado.edu/timeseries/meta?id=copernicussla\n",
      "--> timeseries/copernicussla\n",
      "dict_keys(['_id', 'data_type', 'data_info', 'date_updated_argovis', 'timeseries', 'source', 'tpa_correction', 'lattice'])\n",
      "https://argovis-api.colorado.edu/timeseries/meta?id=ccmpwind\n",
      "--> timeseries/ccmpwind\n",
      "dict_keys(['_id', 'data_type', 'data_info', 'date_updated_argovis', 'timeseries', 'source', 'lattice'])\n",
      "https://argovis-api.colorado.edu/grids/meta?id=rg09\n",
      "--> grids/rg09\n",
      "dict_keys(['code', 'message'])\n",
      "{'code': 404, 'message': 'No grid product matching ID rg09'}\n",
      "https://argovis-api.colorado.edu/grids/meta?id=glodap\n",
      "--> grids/glodap\n",
      "[]\n",
      "https://argovis-api.colorado.edu/grids/meta?id=kg21\n",
      "--> grids/kg21\n",
      "dict_keys(['code', 'message'])\n",
      "{'code': 404, 'message': 'No grid product matching ID kg21'}\n"
     ]
    }
   ],
   "source": [
    "# for each collection, we show the metadata\n",
    "for icollection in selection_params['collections']:\n",
    "    metaQuery = {'id': icollection.split('/')[1]}\n",
    "#     print(icollection.split('/')[0])\n",
    "#     print(icollection.split('/')[1])\n",
    "    meta = avh.query(icollection.split('/')[0]+'/meta', options=metaQuery, apikey=API_KEY, apiroot=get_route(icollection),verbose=True)\n",
    "    print('--> '+icollection)\n",
    "    try:\n",
    "        print(meta.keys())\n",
    "        print(meta)\n",
    "    except:\n",
    "        if not meta:\n",
    "            print(meta)\n",
    "        else:\n",
    "            for imeta in meta:\n",
    "                print(imeta.keys())\n",
    "        "
   ]
  },
  {
   "cell_type": "code",
   "execution_count": null,
   "id": "ae575c28",
   "metadata": {},
   "outputs": [],
   "source": [
    "to katie: no need to read below"
   ]
  },
  {
   "cell_type": "code",
   "execution_count": null,
   "id": "384b9d19",
   "metadata": {},
   "outputs": [],
   "source": []
  },
  {
   "cell_type": "code",
   "execution_count": null,
   "id": "3c8cd10a",
   "metadata": {},
   "outputs": [],
   "source": []
  },
  {
   "cell_type": "code",
   "execution_count": null,
   "id": "edbec8e9",
   "metadata": {},
   "outputs": [],
   "source": []
  },
  {
   "cell_type": "markdown",
   "id": "81212039",
   "metadata": {},
   "source": [
    "# NOAA Sea surface temperature timeseries"
   ]
  },
  {
   "cell_type": "markdown",
   "id": "5c58c8cf",
   "metadata": {},
   "source": [
    "Argovis indexes the weekly average sea surface temperature on a 1 degree grid as provided by NOAA via [https://psl.noaa.gov/data/gridded/data.noaa.oisst.v2.html](https://psl.noaa.gov/data/gridded/data.noaa.oisst.v2.html). Let's start by having a look at the metadata for this collection:"
   ]
  },
  {
   "cell_type": "code",
   "execution_count": null,
   "id": "28071aa7",
   "metadata": {},
   "outputs": [],
   "source": [
    "sstMetaQuery = {\n",
    "    'id': 'noaasst' \n",
    "}\n",
    "\n",
    "sstMeta = avh.query('timeseries/meta', options=sstMetaQuery, apikey=API_KEY, apiroot=API_ROOT,verbose=True)\n",
    "print(sstMeta)"
   ]
  },
  {
   "cell_type": "markdown",
   "id": "74113943",
   "metadata": {},
   "source": [
    "We can see from the usual `data_info` that this dataset contains one variable called `sst` corresponding to weekly mean sea surface temperature. A feature unique to timeseries datasets is that the metadata document (of which there is one per dataset) contains a `timeseries` key; this lists all the timesteps for all the timeseries in the dataset.\n",
    "\n",
    "Additionally, all metadata documents for data products interpolated to a longitude/latitude grid also include a `lattice` key that describes the structure of the grid in latitude and longitude.\n",
    "\n",
    "> **What does lattice center and spacing mean?** Each product with a regular grid indexed by argovis describes its grid with a centerpoint, which is an arbitrary point on the grid close to [0,0] denoted as [longitude, latitude]. Other grid points are found stepping along by the amount in `lattice.spacing`, denoted as [longitude step, latitude step].\n",
    "\n",
    "We can also have a look at a corresponding data document, ID'ed as `<longitude>_<latitude>`:"
   ]
  },
  {
   "cell_type": "code",
   "execution_count": null,
   "id": "65051131",
   "metadata": {},
   "outputs": [],
   "source": [
    "sstQuery = {\n",
    "    'id': '14.5_39.5',\n",
    "    'data': 'sst'\n",
    "}\n",
    "\n",
    "sst = avh.query('timeseries/noaasst', options=sstQuery, apikey=API_KEY, apiroot=API_ROOT)\n",
    "print(sst)"
   ]
  },
  {
   "cell_type": "markdown",
   "id": "28fa1554",
   "metadata": {},
   "source": [
    "The `data` key here is structured according to `data_info` like all other Argovis datasets; the elements correspond to the timestamps in order as found on the metadata document. Asides from looking at `data_info`, the same vocabulary routes seen in other Argovis data products also exist for timeseries. As always, use `enum` to see the options, and then drill into any one of them individually like so:"
   ]
  },
  {
   "cell_type": "code",
   "execution_count": null,
   "id": "d6b17ec8",
   "metadata": {},
   "outputs": [],
   "source": [
    "vocab = {\n",
    "    'parameter': 'enum'\n",
    "}\n",
    "\n",
    "avh.query('timeseries/noaasst/vocabulary', options=vocab, apikey=API_KEY, apiroot=API_ROOT)"
   ]
  },
  {
   "cell_type": "code",
   "execution_count": null,
   "id": "4d398157",
   "metadata": {},
   "outputs": [],
   "source": [
    "vocab = {\n",
    "    'parameter': 'data'\n",
    "}\n",
    "\n",
    "avh.query('timeseries/noaasst/vocabulary', options=vocab, apikey=API_KEY, apiroot=API_ROOT)"
   ]
  },
  {
   "cell_type": "markdown",
   "id": "a7c5496d",
   "metadata": {},
   "source": [
    "Going back to our data query, if instead we provide a time range:"
   ]
  },
  {
   "cell_type": "code",
   "execution_count": null,
   "id": "ebe1a933",
   "metadata": {},
   "outputs": [],
   "source": [
    "sstQuery = {\n",
    "    'id': '14.5_39.5',\n",
    "    'data': 'sst',\n",
    "    'startDate': '1993-01-01T00:00:00Z',\n",
    "    'endDate': '1993-02-01T00:00:00Z'\n",
    "}\n",
    "\n",
    "sst = avh.query('timeseries/noaasst', options=sstQuery, apikey=API_KEY, apiroot=API_ROOT)\n",
    "print(sst)"
   ]
  },
  {
   "cell_type": "markdown",
   "id": "6bc55e58",
   "metadata": {},
   "source": [
    "we get a `timeseries` key appended to the data document to indicate the timestamps of the filtered timeseries; note this is in close analogy to how levels are filtered in Argovis' representation of Argo grids, for example."
   ]
  },
  {
   "cell_type": "markdown",
   "id": "ca228601",
   "metadata": {},
   "source": [
    "## Zonal and meridional area-weighted averages for timeseries data\n",
    "\n",
    "Much like gridded data, timeseries data can be arranged to easily compute zonal and meridional averages, with area weighting. Lets start by downloading a year of data for a region in the North Atlantic:"
   ]
  },
  {
   "cell_type": "code",
   "execution_count": null,
   "id": "6e0130a3",
   "metadata": {},
   "outputs": [],
   "source": [
    "sstQuery = {\n",
    "  \"startDate\": '2002-01-01T00:00:00Z',\n",
    "  \"endDate\": '2012-01-01T00:00:00Z',\n",
    "  \"polygon\": [[-50,50],[-50,55],[-45,55],[-45,50],[-50,50]],\n",
    "  \"data\": 'sst'\n",
    "}\n",
    "sst = avh.query('timeseries/noaasst', options=sstQuery, apikey=API_KEY, apiroot=API_ROOT)"
   ]
  },
  {
   "cell_type": "markdown",
   "id": "0148d26f",
   "metadata": {},
   "source": [
    "> **Temporospatial limits of timeseries queries**: because timeseries documents contain information for every timestep in the series, we currently support queries on only small geographic areas, about 50 square degrees at the equator. However, long time duration queries like the one above are well supported. You can, of course, tile multipl requests to cover an arbitrary region."
   ]
  },
  {
   "cell_type": "markdown",
   "id": "cffae076",
   "metadata": {},
   "source": [
    "If we then arrange these data documents into a dataframe with columns for longitude, latitude, timestamp and measurement, we can compute and plot area-weighted meridional and zonal averages with our helpers:"
   ]
  },
  {
   "cell_type": "code",
   "execution_count": null,
   "id": "e3942114",
   "metadata": {},
   "outputs": [],
   "source": [
    "df = helpers.level_df(sst, \n",
    "                      ['sst', 'longitude', 'latitude'], \n",
    "                      timesteps=sst[0]['timeseries'], \n",
    "                      index=[\"latitude\",\"longitude\",\"timestamp\"]\n",
    "                     )\n",
    "ds = df.to_xarray()"
   ]
  },
  {
   "cell_type": "code",
   "execution_count": null,
   "id": "3fb63c32",
   "metadata": {},
   "outputs": [],
   "source": [
    "sst_mer = helpers.regional_mean(ds, form='meridional')\n",
    "sst_mer['sst'].plot(y=\"timestamp\")"
   ]
  },
  {
   "cell_type": "code",
   "execution_count": null,
   "id": "90163d1e",
   "metadata": {},
   "outputs": [],
   "source": [
    "sst_zon = helpers.regional_mean(ds, form='zonal')\n",
    "sst_zon['sst'].plot(y=\"timestamp\")"
   ]
  },
  {
   "cell_type": "markdown",
   "id": "552883a6",
   "metadata": {},
   "source": [
    "# Copernicus sea level anomaly timeseries"
   ]
  },
  {
   "cell_type": "markdown",
   "id": "54fa062d",
   "metadata": {},
   "source": [
    "Argovis indexes a quarter-degree grid of sea level anomalies and absolute dynamic topologies from [https://cds.climate.copernicus.eu/cdsapp#!/dataset/satellite-sea-level-global](https://cds.climate.copernicus.eu/cdsapp#!/dataset/satellite-sea-level-global); note that the original daily data reported at this link has been averaged down to weekly averages with timestamps aligned with the NOAA SST dataset described above, for scale and comparison purposes.\n",
    "\n",
    "Let's again start by looking at the single metadata document for this collection:"
   ]
  },
  {
   "cell_type": "code",
   "execution_count": null,
   "id": "85b1f3ba",
   "metadata": {},
   "outputs": [],
   "source": [
    "slaMetaQuery = {\n",
    "    'id': 'copernicussla' \n",
    "}\n",
    "\n",
    "slaMeta = avh.query('timeseries/meta', options=slaMetaQuery, apikey=API_KEY, apiroot=API_ROOT)\n",
    "print(slaMeta)"
   ]
  },
  {
   "cell_type": "markdown",
   "id": "912586c7",
   "metadata": {},
   "source": [
    "Identical in structure to the SST metadata, though this dataset contains two data variables: the sea height anomaly `sla` as compared to the local average sea height over the reference period 1993-2012, and the absolute sea height including this anomaly, `adt`. We can query this dataset much the same as any other timeseries data:"
   ]
  },
  {
   "cell_type": "code",
   "execution_count": null,
   "id": "27504bfb",
   "metadata": {},
   "outputs": [],
   "source": [
    "slaQuery = {\n",
    "    'id': '-46.875_35.625',\n",
    "    'data': 'all',\n",
    "    'startDate': '1993-01-01T00:00:00Z',\n",
    "    'endDate': '1993-02-01T00:00:00Z'\n",
    "}\n",
    "\n",
    "sla = avh.query('timeseries/copernicussla', options=slaQuery, apikey=API_KEY, apiroot=API_ROOT)\n",
    "print(sla)"
   ]
  },
  {
   "cell_type": "markdown",
   "id": "51c5b04f",
   "metadata": {},
   "source": [
    "Here's an example of making an xarray dataset out of SLA data, similar to the SST example above:"
   ]
  },
  {
   "cell_type": "code",
   "execution_count": null,
   "id": "27ce101d",
   "metadata": {},
   "outputs": [],
   "source": [
    "slaQuery_reg = {\n",
    "  \"startDate\": '2002-01-01T00:00:00Z',\n",
    "  \"endDate\": '2012-01-01T00:00:00Z',\n",
    "  \"polygon\": [[-50,50],[-50,55],[-45,55],[-45,50],[-50,50]],\n",
    "  \"data\": 'sla'\n",
    "}\n",
    "\n",
    "sla_reg = avh.query('timeseries/copernicussla', options=slaQuery_reg, apikey=API_KEY, apiroot=API_ROOT)"
   ]
  },
  {
   "cell_type": "code",
   "execution_count": null,
   "id": "9f0cde82",
   "metadata": {},
   "outputs": [],
   "source": [
    "df_sla = helpers.level_df(sla_reg, \n",
    "                      ['sla', 'longitude', 'latitude'], \n",
    "                      timesteps=sla_reg[0]['timeseries'], \n",
    "                      index=[\"latitude\",\"longitude\",\"timestamp\"]\n",
    "                     )\n",
    "ds_sla = df_sla.to_xarray()"
   ]
  },
  {
   "cell_type": "code",
   "execution_count": null,
   "id": "e81fb72d",
   "metadata": {},
   "outputs": [],
   "source": [
    "ds_sla"
   ]
  },
  {
   "cell_type": "code",
   "execution_count": null,
   "id": "6daedd05",
   "metadata": {},
   "outputs": [],
   "source": [
    "ds_sla['sla'][:,:,0].plot()"
   ]
  },
  {
   "cell_type": "markdown",
   "id": "5877c503",
   "metadata": {},
   "source": [
    "# REMSS CCMP wind vector product"
   ]
  },
  {
   "cell_type": "markdown",
   "id": "cc7b744c",
   "metadata": {},
   "source": [
    "Similarly to the sea level anaomaly time series, Argovis indexes a weekly average of the [REMSS CCMP wind vector product](https://www.remss.com/measurements/ccmp/). Have a look at the metadata:"
   ]
  },
  {
   "cell_type": "code",
   "execution_count": null,
   "id": "05dc5de8",
   "metadata": {},
   "outputs": [],
   "source": [
    "ccmpMetaQuery = {\n",
    "    'id': 'ccmpwind' \n",
    "}\n",
    "\n",
    "ccmpMeta = avh.query('timeseries/meta', options=ccmpMetaQuery, apikey=API_KEY, apiroot=API_ROOT)\n",
    "print(ccmpMeta)"
   ]
  },
  {
   "cell_type": "markdown",
   "id": "80d56c07",
   "metadata": {},
   "source": [
    "Let's find the wind data for the same location and time period as the sea surface heights above:"
   ]
  },
  {
   "cell_type": "code",
   "execution_count": null,
   "id": "ca9fab02",
   "metadata": {},
   "outputs": [],
   "source": [
    "ccmpQuery = {\n",
    "    'id': '-46.875_35.625',\n",
    "    'data': 'all',\n",
    "    'startDate': '1993-01-01T00:00:00Z',\n",
    "    'endDate': '1993-02-01T00:00:00Z'\n",
    "}\n",
    "\n",
    "ccmp = avh.query('timeseries/ccmpwind', options=ccmpQuery, apikey=API_KEY, apiroot=API_ROOT)\n",
    "print(ccmp)"
   ]
  },
  {
   "cell_type": "markdown",
   "id": "8e1b7fa1",
   "metadata": {},
   "source": [
    "We can plot wind speeds in a region and on a date:"
   ]
  },
  {
   "cell_type": "code",
   "execution_count": null,
   "id": "f1f3a395",
   "metadata": {},
   "outputs": [],
   "source": [
    "params = {\n",
    "  'startDate': '1993-01-01T00:00:00Z',\n",
    "  'endDate': '1993-02-01T00:00:00Z',\n",
    "  \"polygon\": [[-50,50],[-50,55],[-45,55],[-45,50],[-50,50]],\n",
    "  \"data\": 'all'\n",
    "}\n",
    "\n",
    "wsdata = avh.query('timeseries/ccmpwind', options=params, apikey=API_KEY, apiroot=API_ROOT)"
   ]
  },
  {
   "cell_type": "code",
   "execution_count": null,
   "id": "cb6028b1",
   "metadata": {},
   "outputs": [],
   "source": [
    "df = helpers.level_df(wsdata, ['ws', 'longitude', 'latitude'], timesteps=wsdata[0]['timeseries'], index=['longitude', 'latitude', 'timestamp'])\n",
    "ds = df.to_xarray()"
   ]
  },
  {
   "cell_type": "code",
   "execution_count": null,
   "id": "00869fbb",
   "metadata": {},
   "outputs": [],
   "source": [
    "gridmap = ds.loc[{\"timestamp\":avh.parsetime('1993-01-10T00:00:00.000Z')}]\n",
    "gridmap['ws'].plot()"
   ]
  }
 ],
 "metadata": {
  "kernelspec": {
   "display_name": "argovis_demos",
   "language": "python",
   "name": "argovis_demos"
  },
  "language_info": {
   "codemirror_mode": {
    "name": "ipython",
    "version": 3
   },
   "file_extension": ".py",
   "mimetype": "text/x-python",
   "name": "python",
   "nbconvert_exporter": "python",
   "pygments_lexer": "ipython3",
   "version": "3.9.13"
  },
  "toc": {
   "base_numbering": 1,
   "nav_menu": {},
   "number_sections": true,
   "sideBar": true,
   "skip_h1_title": false,
   "title_cell": "Table of Contents",
   "title_sidebar": "Contents",
   "toc_cell": false,
   "toc_position": {},
   "toc_section_display": true,
   "toc_window_display": false
  }
 },
 "nbformat": 4,
 "nbformat_minor": 5
}
