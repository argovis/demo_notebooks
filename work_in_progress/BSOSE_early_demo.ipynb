{
 "cells": [
  {
   "cell_type": "markdown",
   "id": "d14a3c13",
   "metadata": {},
   "source": [
    "# B-SOSE preliminary\n",
    "\n",
    "This notebook contains some early drafts and examples of interacting with a future BSOSE index on Argovis. None of the features or schema below are in production, and all may change before release."
   ]
  },
  {
   "cell_type": "code",
   "execution_count": null,
   "id": "0d39aa07",
   "metadata": {},
   "outputs": [],
   "source": [
    "import requests, copy, os, sys, pandas, xarray\n",
    "sys.path.append(os.path.abspath(os.pardir))\n",
    "import helpers\n",
    "from argovisHelpers import helpers as avh\n",
    "import matplotlib.pyplot as plt\n",
    "\n",
    "API_ROOT=\"https://argovis-apix-atoc-argovis-dev.apps.containers02.colorado.edu\""
   ]
  },
  {
   "cell_type": "markdown",
   "id": "8ea8cabf",
   "metadata": {},
   "source": [
    "Start by grabbing some BSOSE data. It is timeseries formatted, each data document corresponding to a specific lat / long / depth triple, with metadata unique to this coordinate included on the data doc."
   ]
  },
  {
   "cell_type": "code",
   "execution_count": null,
   "id": "ae53719b",
   "metadata": {},
   "outputs": [],
   "source": [
    "qs = {\n",
    "    \"box\": '[[-1,-31],[0,-29]]',\n",
    "    \"data\": 'all'\n",
    "}\n",
    "\n",
    "bsose = requests.get(API_ROOT+\"/timeseries/bsose\", params=qs).json()"
   ]
  },
  {
   "cell_type": "code",
   "execution_count": null,
   "id": "c7878acf",
   "metadata": {},
   "outputs": [],
   "source": [
    "bsose[0]"
   ]
  },
  {
   "cell_type": "markdown",
   "id": "5625637e",
   "metadata": {},
   "source": [
    "We can grab the corresponding metadata, one metadata doc for each lat/long point:"
   ]
  },
  {
   "cell_type": "code",
   "execution_count": null,
   "id": "f7204675",
   "metadata": {},
   "outputs": [],
   "source": [
    "qs_meta = copy.deepcopy(qs)\n",
    "qs_meta['batchmeta'] = True\n",
    "bsose_meta = requests.get(API_ROOT+\"/timeseries/bsose\", params=qs_meta).json()\n",
    "bsose_meta[0]"
   ]
  },
  {
   "cell_type": "markdown",
   "id": "40010a94",
   "metadata": {},
   "source": [
    "From here it is a trivial matter to turn Argovis data into pandas data frames and xarray data sets, and leverage all the built in slicing and plotting those tools offer:"
   ]
  },
  {
   "cell_type": "code",
   "execution_count": null,
   "id": "3a3f2b3d",
   "metadata": {},
   "outputs": [],
   "source": [
    "df = helpers.level_df(bsose, \n",
    "                      ['TRAC04', 'SALT', 'longitude', 'latitude', 'level'], \n",
    "                      timesteps=bsose_meta[0]['timeseries'], \n",
    "                      index=[\"latitude\",\"longitude\",\"timestamp\",\"level\"]\n",
    "                     )\n",
    "ds = df.to_xarray()"
   ]
  },
  {
   "cell_type": "code",
   "execution_count": null,
   "id": "53539a13",
   "metadata": {},
   "outputs": [],
   "source": [
    "ds"
   ]
  },
  {
   "cell_type": "markdown",
   "id": "68852770",
   "metadata": {},
   "source": [
    "Let's start by plotting a simple map of both our variables for a single timestamp and level:"
   ]
  },
  {
   "cell_type": "code",
   "execution_count": null,
   "id": "bb0098c5",
   "metadata": {},
   "outputs": [],
   "source": [
    "simplemap = ds.loc[{\"timestamp\":avh.parsetime('2012-12-31T00:00:00.000Z'), \"level\":ds['level'][0]}]\n",
    "simplemap['TRAC04'].plot()"
   ]
  },
  {
   "cell_type": "code",
   "execution_count": null,
   "id": "467de06e",
   "metadata": {},
   "outputs": [],
   "source": [
    "simplemap['SALT'].plot()"
   ]
  },
  {
   "cell_type": "markdown",
   "id": "1ad91a2e",
   "metadata": {},
   "source": [
    "We can also do timeseries for a specific geospatial point, to reveal seasonal cycles:"
   ]
  },
  {
   "cell_type": "code",
   "execution_count": null,
   "id": "2a39f060",
   "metadata": {},
   "outputs": [],
   "source": [
    "simple_ts = ds.loc[{\"longitude\": ds['longitude'][0], \"latitude\": ds['latitude'][0], \"level\": ds['level'][0]}]\n",
    "simple_ts['TRAC04'].plot()"
   ]
  },
  {
   "cell_type": "code",
   "execution_count": null,
   "id": "1cf49822",
   "metadata": {},
   "outputs": [],
   "source": [
    "simple_ts['SALT'].plot()"
   ]
  },
  {
   "cell_type": "markdown",
   "id": "e7cd99b7",
   "metadata": {},
   "source": [
    "Profiles at a given lat / long / timestep triple are constructed similarly:"
   ]
  },
  {
   "cell_type": "code",
   "execution_count": null,
   "id": "3cda7628",
   "metadata": {},
   "outputs": [],
   "source": [
    "simple_profile = ds.loc[{\"longitude\": ds['longitude'][0], \"latitude\": ds['latitude'][0], \"timestamp\": ds['timestamp'][0]}]"
   ]
  },
  {
   "cell_type": "code",
   "execution_count": null,
   "id": "971f51a8",
   "metadata": {},
   "outputs": [],
   "source": [
    "var = 'TRAC04'\n",
    "plt.plot(simple_profile[var], simple_profile['level'])\n",
    "plt.gca().invert_yaxis()\n",
    "plt.xlabel(var)\n",
    "plt.ylabel('depth')\n",
    "plt.show()"
   ]
  },
  {
   "cell_type": "code",
   "execution_count": null,
   "id": "82deebe8",
   "metadata": {},
   "outputs": [],
   "source": [
    "var = 'SALT'\n",
    "plt.plot(simple_profile[var], simple_profile['level'])\n",
    "plt.gca().invert_yaxis()\n",
    "plt.xlabel(var)\n",
    "plt.ylabel('depth')\n",
    "plt.show()"
   ]
  },
  {
   "cell_type": "markdown",
   "id": "d2f9dec9",
   "metadata": {},
   "source": [
    "BSOSE reports model cell areas at each latitude / longitude point. We can use these cell areas to construct area weighted means, including meridional and zonal means:"
   ]
  },
  {
   "cell_type": "code",
   "execution_count": null,
   "id": "80ea369c",
   "metadata": {},
   "outputs": [],
   "source": [
    "weight_table = [{'weight': x['cell_area'], 'longitude': x['longitude'], 'latitude': x['latitude']} for x in bsose_meta]\n",
    "weight_df = pandas.DataFrame(weight_table)\n",
    "weight_ds = xarray.Dataset.from_dataframe(weight_df.set_index([\"latitude\", \"longitude\"]))\n",
    "weighted_ds = ds.weighted(weight_ds[\"weight\"])"
   ]
  },
  {
   "cell_type": "code",
   "execution_count": null,
   "id": "aef7e099",
   "metadata": {},
   "outputs": [],
   "source": [
    "awm = weighted_ds.mean((\"longitude\", \"latitude\"))\n",
    "awm['TRAC04'].plot(y=\"level\",yincrease=False)"
   ]
  },
  {
   "cell_type": "code",
   "execution_count": null,
   "id": "df85a35a",
   "metadata": {},
   "outputs": [],
   "source": [
    "awm['SALT'].plot(y=\"level\",yincrease=False)"
   ]
  },
  {
   "cell_type": "code",
   "execution_count": null,
   "id": "1f4f6b2a",
   "metadata": {},
   "outputs": [],
   "source": [
    "meridional = weighted_ds.mean((\"latitude\")).loc[{\"level\":ds['level'][0]}]\n",
    "meridional['TRAC04'].plot(y='timestamp')"
   ]
  },
  {
   "cell_type": "code",
   "execution_count": null,
   "id": "dace740e",
   "metadata": {},
   "outputs": [],
   "source": [
    "meridional['SALT'].plot(y='timestamp')"
   ]
  },
  {
   "cell_type": "code",
   "execution_count": null,
   "id": "f08c9604",
   "metadata": {},
   "outputs": [],
   "source": [
    "zonal = weighted_ds.mean((\"longitude\")).loc[{\"level\":ds['level'][0]}]\n",
    "zonal['TRAC04'].plot(y='timestamp')"
   ]
  },
  {
   "cell_type": "code",
   "execution_count": null,
   "id": "43ad8d05",
   "metadata": {},
   "outputs": [],
   "source": [
    "zonal['SALT'].plot(y='timestamp')"
   ]
  },
  {
   "cell_type": "code",
   "execution_count": null,
   "id": "c0268d11",
   "metadata": {},
   "outputs": [],
   "source": [
    "x = {'geolocation': {'type': 'Point', 'coordinates': [10,10]}, 'level':99, 'timeseries': [1,2,3], 'data':[[10,11,12],[13,14,15]]}\n",
    "y = {'geolocation': {'type': 'Point', 'coordinates': [20,20]}, 'level':99, 'timeseries': [5,6,7], 'data':[[20,21,22],[23,24,25]]}\n",
    "z = {'geolocation': {'type': 'Point', 'coordinates': [30,30]}, 'level':99, 'timeseries': [5,6,7], 'data':[[200,210,220],[230,240,250]]}\n",
    "X = {'geolocation': {'type': 'Point', 'coordinates': [10,10]}, 'level':99, 'timeseries': [1,2,3], 'data':[[10,11,12],[13,14,15]]}\n",
    "Y = {'geolocation': {'type': 'Point', 'coordinates': [20,20]}, 'level':99, 'timeseries': [5,6,7], 'data':[[20,21,22],[23,24,25]]}\n",
    "Z = {'geolocation': {'type': 'Point', 'coordinates': [30,30]}, 'level':98, 'timeseries': [5,6,7], 'data':[[200,210,220],[230,240,250]]}\n",
    "x.get('level') == y.get('level')"
   ]
  },
  {
   "cell_type": "code",
   "execution_count": null,
   "id": "4b54a4f5",
   "metadata": {},
   "outputs": [],
   "source": [
    "x['timeseries'] += y.get('timeseries', [])\n",
    "x"
   ]
  },
  {
   "cell_type": "code",
   "execution_count": null,
   "id": "d8ca0034",
   "metadata": {},
   "outputs": [],
   "source": [
    "def combine_data_lists(lists):\n",
    "    combined_list = []\n",
    "    for sublists in zip(*lists):\n",
    "        combined_sublist = []\n",
    "        for sublist in sublists:\n",
    "            combined_sublist.extend(sublist)\n",
    "        combined_list.append(combined_sublist)\n",
    "    return combined_list\n",
    "\n",
    "combine_data_lists([x['data'],y['data'],z['data']])"
   ]
  },
  {
   "cell_type": "code",
   "execution_count": null,
   "id": "850304ac",
   "metadata": {},
   "outputs": [],
   "source": [
    "def combine_dicts(list1, list2):\n",
    "    combined_list = []\n",
    "    for dict1 in list1:\n",
    "        combined = False\n",
    "        for dict2 in list2:\n",
    "            if dict1.get('geolocation') == dict2.get('geolocation') and dict1.get('level') == dict2.get('level'):\n",
    "                combined_dict = dict1.copy()\n",
    "                combined_dict['timeseries'] += dict2.get('timeseries', [])\n",
    "                combined_dict['data'] = combine_data_lists([dict1.get('data', []), dict2.get('data', [])])\n",
    "                combined_list.append(combined_dict)\n",
    "                combined = True\n",
    "                list2.remove(dict2)  # Remove combined element from list2\n",
    "                break\n",
    "        if not combined:\n",
    "            combined_list.append(dict1)\n",
    "    combined_list.extend(list2)  # Append remaining elements from list2\n",
    "    return combined_list"
   ]
  },
  {
   "cell_type": "code",
   "execution_count": null,
   "id": "ddf44ff3",
   "metadata": {},
   "outputs": [],
   "source": [
    "combine_dicts([x,y,z],[X,Y,Z])"
   ]
  },
  {
   "cell_type": "code",
   "execution_count": null,
   "id": "ce5d1c98",
   "metadata": {},
   "outputs": [],
   "source": []
  }
 ],
 "metadata": {
  "kernelspec": {
   "display_name": "Argovis_demos",
   "language": "python",
   "name": "argovis_demos"
  },
  "language_info": {
   "codemirror_mode": {
    "name": "ipython",
    "version": 3
   },
   "file_extension": ".py",
   "mimetype": "text/x-python",
   "name": "python",
   "nbconvert_exporter": "python",
   "pygments_lexer": "ipython3",
   "version": "3.9.19"
  },
  "toc": {
   "base_numbering": 1,
   "nav_menu": {},
   "number_sections": true,
   "sideBar": true,
   "skip_h1_title": false,
   "title_cell": "Table of Contents",
   "title_sidebar": "Contents",
   "toc_cell": false,
   "toc_position": {},
   "toc_section_display": true,
   "toc_window_display": false
  }
 },
 "nbformat": 4,
 "nbformat_minor": 5
}
