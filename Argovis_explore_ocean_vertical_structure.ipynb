{
 "cells": [
  {
   "cell_type": "markdown",
   "id": "521c221b",
   "metadata": {},
   "source": [
    "# Characterizing the vertical structure of oxygen in the ocean\n",
    "\n",
    "Argovis provides an API that indexes and distributes numerous oceanographic datasets with detailed query parameters, enabling you to search and download only and exactly data of interest. \n",
    "\n",
    "This notebook guides users in exploring the vertical structure of oxygen in the ocean using ocean observations and gridded products (i.e. products that provide maps of oxygen in the ocean at different depths, starting from sparse point measurements). Please note that while the focus in the following is on oxygen, the same notebook can be used to visualize other fields (see possible input parameters for e.g. salinity included in commented lines in between lines starting with #+++)."
   ]
  },
  {
   "cell_type": "markdown",
   "id": "08958a56",
   "metadata": {},
   "source": [
    "## Learning goals"
   ]
  },
  {
   "cell_type": "markdown",
   "id": "2cd09373",
   "metadata": {},
   "source": [
    "- Generate an average vertical profile of oxygen for a region in the North Atlantic and for a region in the North Pacific Ocean using Argo oxygen data.  \n",
    "- Describe the features of the two profiles, noting similarities and differences.  \n",
    "- Discuss the reasons for the differences between the two. "
   ]
  },
  {
   "cell_type": "markdown",
   "id": "45c3db74",
   "metadata": {},
   "source": [
    "## Setup: Register an API key"
   ]
  },
  {
   "cell_type": "markdown",
   "id": "8b2dcda6",
   "metadata": {},
   "source": [
    "In order to allocate Argovis's limited computing resources fairly, users are encouraged to register and request a free API key. This works like a password that identifies your requests to Argovis. To do so:\n",
    "\n",
    " - Visit [https://argovis-keygen.colorado.edu/](https://argovis-keygen.colorado.edu/)\n",
    " - Fill out the form under _New Account Registration_\n",
    " - An API key will be emailed to you shortly.\n",
    " \n",
    "Treat this API key like a password - don't share it or leave it anywhere public. If you ever forget it or accidentally reveal it to a third party, see the same website above to change or deactivate your token.\n",
    "\n",
    "Put your API key in the quotes in the variable below before moving on (please note that if you proceed without including anything in the quotes, the notebook may still work, yet it may also give an error):"
   ]
  },
  {
   "cell_type": "code",
   "execution_count": 1,
   "id": "fb0cef1f",
   "metadata": {
    "scrolled": false
   },
   "outputs": [],
   "source": [
    "API_KEY=''"
   ]
  },
  {
   "cell_type": "markdown",
   "id": "39f7364c",
   "metadata": {},
   "source": [
    "## Setup: import libraries and functions"
   ]
  },
  {
   "cell_type": "code",
   "execution_count": 2,
   "id": "b34bb82a",
   "metadata": {
    "scrolled": false
   },
   "outputs": [],
   "source": [
    "# Let's start importing libraries and functions we will need\n",
    "from argovisHelpers import helpers as avh\n",
    "\n",
    "import matplotlib.colors as mcolors\n",
    "import matplotlib.pyplot as plt # e.g. to change the size of figures created from functions\n",
    "import copy\n",
    "\n",
    "#import gsw\n",
    "# import numpy as np\n",
    "#import matplotlib.pyplot as plt\n",
    "\n",
    "import sys\n",
    "sys.path.append('./work_in_progress')\n",
    "# let's import functions from the .py file in the current folder\n",
    "from Argovis_tasks_helpers import get_route,list_values_for_parameter_to_api_query,show_variable_names_for_collections\n",
    "from Argovis_tasks_helpers import get_api_output_formatted_list_1var_for_regions_and_timeranges, get_api_output_formatted_list_1var_for_parameter, api_output_formatted_list_1var_plot_lons_lats_map,api_output_formatted_list_1var_plot_profiles,api_output_formatted_list_1var_plot_map,api_output_formatted_list_1var_plot_horizontal_and_time_ave,api_output_formatted_list_parameter_2d_plot\n",
    "from Argovis_tasks_helpers import api_output_formatted_list_include_gsw_fields"
   ]
  },
  {
   "cell_type": "markdown",
   "id": "c6453d34",
   "metadata": {},
   "source": [
    "## Setup: define parameters to query data of interest"
   ]
  },
  {
   "cell_type": "markdown",
   "id": "d48c6aaa",
   "metadata": {},
   "source": [
    "Let's start with listing available data collections in Argovis. Please find more information about each product at https://argovis.colorado.edu/about."
   ]
  },
  {
   "cell_type": "code",
   "execution_count": 3,
   "id": "639aa4aa",
   "metadata": {
    "scrolled": false
   },
   "outputs": [],
   "source": [
    "# API call showing collections available for each route, along with a short description\n",
    "\n",
    "#### to complete\n"
   ]
  },
  {
   "cell_type": "markdown",
   "id": "917fbdaa",
   "metadata": {},
   "source": [
    "Let's indicate the collections of interest, i.e. what datasets in Argovis you would like to use as they include the oceanic property of interest. We will also list the oceanic properties available in each collection (so that we can use the variable name of interest in the next code cell below). **Please first run the code with the current settings to familiarize yourself with the notebook: after that, if needed, then change the settings and run the notebook again.**"
   ]
  },
  {
   "cell_type": "code",
   "execution_count": 4,
   "id": "dae849fc",
   "metadata": {
    "scrolled": false
   },
   "outputs": [
    {
     "name": "stdout",
     "output_type": "stream",
     "text": [
      "https://argovis-api.colorado.edu/argo/vocabulary?parameter=data\n",
      ">>>>> argo\n",
      "['bbp470', 'bbp470_argoqc', 'bbp532', 'bbp532_argoqc', 'bbp700', 'bbp700_2', 'bbp700_2_argoqc', 'bbp700_argoqc', 'bisulfide', 'bisulfide_argoqc', 'cdom', 'cdom_argoqc', 'chla', 'chla_argoqc', 'chla_fluorescence', 'chla_fluorescence_argoqc', 'cndc', 'cndc_argoqc', 'cp660', 'cp660_argoqc', 'down_irradiance380', 'down_irradiance380_argoqc', 'down_irradiance412', 'down_irradiance412_argoqc', 'down_irradiance443', 'down_irradiance443_argoqc', 'down_irradiance490', 'down_irradiance490_argoqc', 'down_irradiance555', 'down_irradiance555_argoqc', 'down_irradiance665', 'down_irradiance665_argoqc', 'down_irradiance670', 'down_irradiance670_argoqc', 'downwelling_par', 'downwelling_par_argoqc', 'doxy', 'doxy2', 'doxy2_argoqc', 'doxy3', 'doxy3_argoqc', 'doxy_argoqc', 'nitrate', 'nitrate_argoqc', 'ph_in_situ_total', 'ph_in_situ_total_argoqc', 'pressure', 'pressure_argoqc', 'salinity', 'salinity_argoqc', 'salinity_sfile', 'salinity_sfile_argoqc', 'temperature', 'temperature_argoqc', 'temperature_sfile', 'temperature_sfile_argoqc', 'turbidity', 'turbidity_argoqc', 'up_radiance412', 'up_radiance412_argoqc', 'up_radiance443', 'up_radiance443_argoqc', 'up_radiance490', 'up_radiance490_argoqc', 'up_radiance555', 'up_radiance555_argoqc']\n",
      "https://argovis-api.colorado.edu/cchdo/vocabulary?parameter=data\n",
      "Argovis' servers experienced an error. Please try your request again, and email argovis@colorado.edu if this keeps happening; please include the full details of the the request you made so we can help address.\n"
     ]
    },
    {
     "ename": "Exception",
     "evalue": "(500, {'code': 500, 'message': 'Server error'})",
     "output_type": "error",
     "traceback": [
      "\u001b[0;31m---------------------------------------------------------------------------\u001b[0m",
      "\u001b[0;31mException\u001b[0m                                 Traceback (most recent call last)",
      "Input \u001b[0;32mIn [4]\u001b[0m, in \u001b[0;36m<cell line: 19>\u001b[0;34m()\u001b[0m\n\u001b[1;32m      7\u001b[0m selection_params[\u001b[38;5;124m'\u001b[39m\u001b[38;5;124mcollections\u001b[39m\u001b[38;5;124m'\u001b[39m]  \u001b[38;5;241m=\u001b[39m [\u001b[38;5;124m'\u001b[39m\u001b[38;5;124margo\u001b[39m\u001b[38;5;124m'\u001b[39m, \u001b[38;5;124m'\u001b[39m\u001b[38;5;124mcchdo\u001b[39m\u001b[38;5;124m'\u001b[39m, \u001b[38;5;124m'\u001b[39m\u001b[38;5;124measyocean\u001b[39m\u001b[38;5;124m'\u001b[39m, \u001b[38;5;124m'\u001b[39m\u001b[38;5;124mgrids/glodap\u001b[39m\u001b[38;5;124m'\u001b[39m]\n\u001b[1;32m      9\u001b[0m \u001b[38;5;66;03m#+++ example to use Argo profile data and the glodap gridded product (which provides time mean fields)\u001b[39;00m\n\u001b[1;32m     10\u001b[0m \u001b[38;5;66;03m# selection_params['collections']  = ['argo', 'grids/glodap']\u001b[39;00m\n\u001b[1;32m     11\u001b[0m \u001b[38;5;66;03m#+++\u001b[39;00m\n\u001b[0;32m   (...)\u001b[0m\n\u001b[1;32m     17\u001b[0m \n\u001b[1;32m     18\u001b[0m \u001b[38;5;66;03m#### let's print to screen some info based on the selected collections (to be able to select further parameters in the next cell)\u001b[39;00m\n\u001b[0;32m---> 19\u001b[0m vars_lists \u001b[38;5;241m=\u001b[39m \u001b[43mshow_variable_names_for_collections\u001b[49m\u001b[43m(\u001b[49m\u001b[43mcollections_list\u001b[49m\u001b[38;5;241;43m=\u001b[39;49m\u001b[43mselection_params\u001b[49m\u001b[43m[\u001b[49m\u001b[38;5;124;43m'\u001b[39;49m\u001b[38;5;124;43mcollections\u001b[39;49m\u001b[38;5;124;43m'\u001b[39;49m\u001b[43m]\u001b[49m\u001b[43m,\u001b[49m\u001b[43mAPI_KEY\u001b[49m\u001b[38;5;241;43m=\u001b[39;49m\u001b[43mAPI_KEY\u001b[49m\u001b[43m,\u001b[49m\u001b[43mverbose\u001b[49m\u001b[38;5;241;43m=\u001b[39;49m\u001b[38;5;28;43;01mTrue\u001b[39;49;00m\u001b[43m)\u001b[49m\n",
      "File \u001b[0;32m~/Work/code/giglio/Argovis_newAPI/demo_notebooks/./work_in_progress/Argovis_tasks_helpers.py:33\u001b[0m, in \u001b[0;36mshow_variable_names_for_collections\u001b[0;34m(collections_list, API_KEY, verbose)\u001b[0m\n\u001b[1;32m     29\u001b[0m vars_list \u001b[38;5;241m=\u001b[39m []\n\u001b[1;32m     30\u001b[0m \u001b[38;5;28;01mfor\u001b[39;00m icollection \u001b[38;5;129;01min\u001b[39;00m collections_list:\n\u001b[1;32m     31\u001b[0m     \u001b[38;5;66;03m# \u001b[39;00m\n\u001b[0;32m---> 33\u001b[0m     bfr \u001b[38;5;241m=\u001b[39m \u001b[43mavh\u001b[49m\u001b[38;5;241;43m.\u001b[39;49m\u001b[43mquery\u001b[49m\u001b[43m(\u001b[49m\u001b[43micollection\u001b[49m\u001b[38;5;241;43m+\u001b[39;49m\u001b[38;5;124;43m'\u001b[39;49m\u001b[38;5;124;43m/vocabulary\u001b[39;49m\u001b[38;5;124;43m'\u001b[39;49m\u001b[43m,\u001b[49m\u001b[43m \u001b[49m\u001b[43moptions\u001b[49m\u001b[38;5;241;43m=\u001b[39;49m\u001b[43m{\u001b[49m\u001b[38;5;124;43m'\u001b[39;49m\u001b[38;5;124;43mparameter\u001b[39;49m\u001b[38;5;124;43m'\u001b[39;49m\u001b[43m:\u001b[49m\u001b[43m \u001b[49m\u001b[38;5;124;43m'\u001b[39;49m\u001b[38;5;124;43mdata\u001b[39;49m\u001b[38;5;124;43m'\u001b[39;49m\u001b[43m}\u001b[49m\u001b[43m,\u001b[49m\u001b[43m \u001b[49m\u001b[43mverbose\u001b[49m\u001b[38;5;241;43m=\u001b[39;49m\u001b[38;5;124;43m'\u001b[39;49m\u001b[38;5;124;43mtrue\u001b[39;49m\u001b[38;5;124;43m'\u001b[39;49m\u001b[43m,\u001b[49m\u001b[43mapikey\u001b[49m\u001b[38;5;241;43m=\u001b[39;49m\u001b[43mAPI_KEY\u001b[49m\u001b[43m,\u001b[49m\u001b[43m \u001b[49m\u001b[43mapiroot\u001b[49m\u001b[38;5;241;43m=\u001b[39;49m\u001b[43mget_route\u001b[49m\u001b[43m(\u001b[49m\u001b[43micollection\u001b[49m\u001b[43m)\u001b[49m\u001b[43m)\u001b[49m \n\u001b[1;32m     34\u001b[0m     \u001b[38;5;28;01mif\u001b[39;00m verbose:\n\u001b[1;32m     35\u001b[0m         \u001b[38;5;28mprint\u001b[39m(\u001b[38;5;124m'\u001b[39m\u001b[38;5;124m>>>>> \u001b[39m\u001b[38;5;124m'\u001b[39m\u001b[38;5;241m+\u001b[39micollection)\n",
      "File \u001b[0;32m~/opt/miniconda3/envs/argovis_demos/lib/python3.9/site-packages/argovisHelpers/helpers.py:160\u001b[0m, in \u001b[0;36mquery\u001b[0;34m(route, options, apikey, apiroot, verbose)\u001b[0m\n\u001b[1;32m    157\u001b[0m     \u001b[38;5;28;01mreturn\u001b[39;00m results\n\u001b[1;32m    159\u001b[0m \u001b[38;5;28;01melse\u001b[39;00m:\n\u001b[0;32m--> 160\u001b[0m     \u001b[38;5;28;01mreturn\u001b[39;00m \u001b[43margofetch\u001b[49m\u001b[43m(\u001b[49m\u001b[43mroute\u001b[49m\u001b[43m,\u001b[49m\u001b[43m \u001b[49m\u001b[43moptions\u001b[49m\u001b[38;5;241;43m=\u001b[39;49m\u001b[43moptions\u001b[49m\u001b[43m,\u001b[49m\u001b[43m \u001b[49m\u001b[43mapikey\u001b[49m\u001b[38;5;241;43m=\u001b[39;49m\u001b[43mapikey\u001b[49m\u001b[43m,\u001b[49m\u001b[43m \u001b[49m\u001b[43mapiroot\u001b[49m\u001b[38;5;241;43m=\u001b[39;49m\u001b[43mapiroot\u001b[49m\u001b[43m,\u001b[49m\u001b[43m \u001b[49m\u001b[43mverbose\u001b[49m\u001b[38;5;241;43m=\u001b[39;49m\u001b[43mverbose\u001b[49m\u001b[43m)\u001b[49m[\u001b[38;5;241m0\u001b[39m]\n",
      "File \u001b[0;32m~/opt/miniconda3/envs/argovis_demos/lib/python3.9/site-packages/argovisHelpers/helpers.py:32\u001b[0m, in \u001b[0;36margofetch\u001b[0;34m(route, options, apikey, apiroot, suggestedLatency, verbose)\u001b[0m\n\u001b[1;32m     30\u001b[0m     \u001b[38;5;28;01melif\u001b[39;00m statuscode \u001b[38;5;241m>\u001b[39m\u001b[38;5;241m=\u001b[39m \u001b[38;5;241m500\u001b[39m \u001b[38;5;129;01mor\u001b[39;00m (statuscode\u001b[38;5;241m==\u001b[39m\u001b[38;5;241m200\u001b[39m \u001b[38;5;129;01mand\u001b[39;00m \u001b[38;5;28mtype\u001b[39m(dl) \u001b[38;5;129;01mis\u001b[39;00m \u001b[38;5;28mdict\u001b[39m \u001b[38;5;129;01mand\u001b[39;00m \u001b[38;5;124m'\u001b[39m\u001b[38;5;124mcode\u001b[39m\u001b[38;5;124m'\u001b[39m \u001b[38;5;129;01min\u001b[39;00m dl):\n\u001b[1;32m     31\u001b[0m         \u001b[38;5;28mprint\u001b[39m(\u001b[38;5;124m\"\u001b[39m\u001b[38;5;124mArgovis\u001b[39m\u001b[38;5;124m'\u001b[39m\u001b[38;5;124m servers experienced an error. Please try your request again, and email argovis@colorado.edu if this keeps happening; please include the full details of the the request you made so we can help address.\u001b[39m\u001b[38;5;124m\"\u001b[39m)\n\u001b[0;32m---> 32\u001b[0m     \u001b[38;5;28;01mraise\u001b[39;00m \u001b[38;5;167;01mException\u001b[39;00m(statuscode, dl)\n\u001b[1;32m     34\u001b[0m \u001b[38;5;66;03m# no special action for 404 - a 404 due to a mangled route will return an error, while a valid search with no result will return [].\u001b[39;00m\n\u001b[1;32m     36\u001b[0m \u001b[38;5;28;01mreturn\u001b[39;00m dl, suggestedLatency\n",
      "\u001b[0;31mException\u001b[0m: (500, {'code': 500, 'message': 'Server error'})"
     ]
    }
   ],
   "source": [
    "# for a list of collections, please see the Argovis swagger page\n",
    "\n",
    "#### in the following we set parameters to compare ocean profiles with a gridded product\n",
    "selection_params = {}\n",
    "\n",
    "#+++ example to use Argo and cchdo/easyocean profile data, as well as the glodap gridded product (which provides time mean fields)\n",
    "selection_params['collections']  = ['argo', 'cchdo', 'easyocean', 'grids/glodap']\n",
    "\n",
    "#+++ example to use Argo profile data and the glodap gridded product (which provides time mean fields)\n",
    "# selection_params['collections']  = ['argo', 'grids/glodap']\n",
    "#+++\n",
    "\n",
    "#+++ example to use Argo profile data and the Roemmich and Gilson monthly gridded product\n",
    "# selection_params['collections']  = ['argo', 'grids/rg09']\n",
    "#+++\n",
    "\n",
    "\n",
    "#### let's print to screen some info based on the selected collections (to be able to select further parameters in the next cell)\n",
    "vars_lists = show_variable_names_for_collections(collections_list=selection_params['collections'],API_KEY=API_KEY,verbose=True)\n"
   ]
  },
  {
   "cell_type": "markdown",
   "id": "a297c400",
   "metadata": {},
   "source": [
    "Now let's indicate the data of interest within the collections we selected above. As examples, for each collection, we need to specify the variable name and the quality control flag of interest (if a specific qc flag is of interest and if the flag is available for a collection)."
   ]
  },
  {
   "cell_type": "code",
   "execution_count": null,
   "id": "82269de8",
   "metadata": {
    "scrolled": false
   },
   "outputs": [],
   "source": [
    "#### params varying with the region\n",
    "\n",
    "#+++ example to use Argo and cchdo profile data, as well as the glodap gridded product (which provides time mean fields)\n",
    "selection_params['varnames']     = ['doxy', 'doxy', 'doxy', 'oxygen']\n",
    "selection_params['varnames_qc']  = [',1',',2', '',''] #[',1', ''] # argoqc = 1 is best quality\n",
    "\n",
    "\n",
    "#+++ example to use oxygen from Argo profile data (with argo qc flag 1) and the glodap gridded product\n",
    "# selection_params['varnames']     = ['doxy', 'oxygen']\n",
    "# selection_params['varnames_qc']  = [',1', ''] #[',1', ''] # argoqc = 1 is best quality\n",
    "#+++\n",
    "\n",
    "#+++ example to use salinity from Argo profile data (with argo qc flag 1) and the Roemmich and Gilson monthly gridded product\n",
    "# selection_params['varnames']     = ['salinity', 'rg09_salinity']\n",
    "# selection_params['varnames_qc']  = [',1', ''] # argoqc = 1 is best quality\n",
    "#+++\n",
    "\n",
    "# if we wanted to only consider oxygen profiles where temperature and salinity are qc 1, we would have here: 'temperature,1,salinity,1' (these additional variables are also stored for the regions of interest)\n",
    "# (these additional variables are also stored for the regions of interest and visualized)\n",
    "### please note that the first comma should be included!\n",
    "### please note that qc flags are not used for Easyocean\n",
    "selection_params['data_extra']     = ['','','',''] \n",
    "\n",
    "# define name of the variable that includes levels for each collection\n",
    "selection_params['varname_levels'] = ['pressure','pressure','pressure',''] # for the gridded product, the level info is in the metadata, i.e. there is no variable in 'data' (for argo, 'pressure' is within the 'data' instead)\n"
   ]
  },
  {
   "cell_type": "markdown",
   "id": "be4e6862",
   "metadata": {},
   "source": [
    "#### Before we continue, let's check that variables selected are included in the corresponding collection selected (if not, we should change the selected variable name in selection_params['varnames'])"
   ]
  },
  {
   "cell_type": "code",
   "execution_count": null,
   "id": "ea999219",
   "metadata": {
    "scrolled": false
   },
   "outputs": [],
   "source": [
    "for i,ilist in enumerate(vars_lists):\n",
    "    if selection_params['varnames'][i] not in ilist:\n",
    "        print('>>>>> '+selection_params['collections'][i]+' does not include selected variable, i.e. '+selection_params['varnames'][i])\n",
    "        print('Here is a list of the variables that are included:')\n",
    "        print(ilist)\n",
    "        change_name_of_selected_variable_before_continuing\n",
    "    else:\n",
    "        print('>>>>> '+selection_params['collections'][i]+' includes selected variable, i.e. '+selection_params['varnames'][i])"
   ]
  },
  {
   "cell_type": "markdown",
   "id": "24a9ef0b",
   "metadata": {},
   "source": [
    "Let's now set the regions of interest and the type and tag for each region. Please note that in some regions and time periods of interest, the data of interest may not be available.\n"
   ]
  },
  {
   "cell_type": "code",
   "execution_count": null,
   "id": "a5558118",
   "metadata": {
    "scrolled": false
   },
   "outputs": [],
   "source": [
    "#### params varying with the region\n",
    "\n",
    "# in this example, we will use the 'box' selection type (i.e. we query the data within boxes),\n",
    "# hence we indicate here the bottom/left and top/right vertices for each box of interest... \n",
    "# the other option is to search in a 'polygon' and indicate the polygon\n",
    "# vertices in a list (first and last vertex should be the same)\n",
    "\n",
    "#+++ example to use Argo and cchdo profile data, as well as the glodap gridded product (which provides time mean fields)\n",
    "#### please note that shipped based profiles are sparser than Argo profiles, hence we need to select a box where we think there are data of interest in the period of interest\n",
    "selection_params['regions']     = [\n",
    "                        [[-55.5,35.5],[-45.5,40.5]],\n",
    "                        ]\n",
    "#+++ \n",
    "\n",
    "#+++ example to use oxygen from Argo profile data (with argo qc flag 1) and the glodap gridded product or the Roemmich and Gilson gridded product\n",
    "# this is for the example Atlantic vs Pacific\n",
    "# selection_params['regions']     = [\n",
    "#                         [[-50,45],[-40,50]],\n",
    "#                         [[-145.5,45.5],[-135.5,50.5]],\n",
    "#                         ]\n",
    "#+++\n",
    "\n",
    "selection_params['regions_type'] = ['box', 'box']\n",
    "\n",
    "selection_params['regions_tag'] = ['Atlantic','Pacific',]\n",
    "####\n",
    "\n"
   ]
  },
  {
   "cell_type": "markdown",
   "id": "fea9cc47",
   "metadata": {},
   "source": [
    "Finally, let's set up the time periods of interest (there could be more than one, e.g. to compare different seasons or different years). We also define the vertical levels that we want to use to interpolate observed profiles and colors to use for the line plots."
   ]
  },
  {
   "cell_type": "code",
   "execution_count": null,
   "id": "d21286f7",
   "metadata": {
    "scrolled": false
   },
   "outputs": [],
   "source": [
    "# list of startDate and endDates of interest (note: these will not be used for glodap as glodap only provides a time mean)\n",
    "selection_params['startDate']    = ['2021-01-01T00:00:00Z']\n",
    "selection_params['endDate']      = ['2021-12-31T00:00:00Z']\n",
    "\n",
    "#### other params\n",
    "# custom levels for vertically integrated profiles\n",
    "selection_params['interp_levels']= list(range(10,2001))[0::20]\n",
    "\n",
    "# levels for vertically integrated profiles if we want to use the vertical axis of one of the grids in Argovis\n",
    "# selection_params['interp_levels']= 'rg09_temperature_200401_Total' #list(range(10,2001))[0::20]\n",
    "\n",
    "# colors to use for the line plots\n",
    "colors = list(mcolors.TABLEAU_COLORS.keys())"
   ]
  },
  {
   "cell_type": "code",
   "execution_count": null,
   "id": "872d1539",
   "metadata": {},
   "outputs": [],
   "source": [
    "# if the user requested to interpolate on the vertical axis on a grid, the code here redefines 'interp_levels'  based on that\n",
    "if isinstance(selection_params['interp_levels'],str):\n",
    "    \n",
    "    meta = avh.query('grids/meta', options={\"id\": 'rg09_temperature_200401_Total'},apikey=API_KEY, apiroot=get_route(selection_params['interp_levels']),verbose=True)\n",
    "    selection_params['interp_levels']=meta[0]['levels']\n",
    "#selection_params['interp_levels']"
   ]
  },
  {
   "cell_type": "markdown",
   "id": "80dbce10",
   "metadata": {},
   "source": [
    "## Loading the data of interest using the Argovis API"
   ]
  },
  {
   "cell_type": "markdown",
   "id": "5c541929",
   "metadata": {},
   "source": [
    "In the next code cell, parameters selected above are used to query the data of interest and format them in a way that allows to easily visualize the data. Depending on how many regions/time periods were selected and the extent of each region/time period of interest, the next code cell may take some time to complete."
   ]
  },
  {
   "cell_type": "code",
   "execution_count": null,
   "id": "ae283af6",
   "metadata": {
    "scrolled": false
   },
   "outputs": [],
   "source": [
    "api_output_formatted_list = get_api_output_formatted_list_1var_for_regions_and_timeranges(selection_params=selection_params,API_KEY=API_KEY)\n"
   ]
  },
  {
   "cell_type": "markdown",
   "id": "6e8e58cf",
   "metadata": {},
   "source": [
    "## Visualization: map of profile locations in each region and time period of interest"
   ]
  },
  {
   "cell_type": "code",
   "execution_count": null,
   "id": "5914e7d9",
   "metadata": {
    "scrolled": false
   },
   "outputs": [],
   "source": [
    "# plot map of lons and lats for data that are not gridded\n",
    "api_output_formatted_list_1var_plot_lons_lats_map(api_output_formatted_list,flag_map_for_only_one_var=False)      "
   ]
  },
  {
   "cell_type": "markdown",
   "id": "74561ff4",
   "metadata": {},
   "source": [
    "## Visualization: plot profiles shown in the maps above"
   ]
  },
  {
   "cell_type": "code",
   "execution_count": null,
   "id": "caffb6e9",
   "metadata": {
    "scrolled": true
   },
   "outputs": [],
   "source": [
    "# plot the profiles shown above\n",
    "api_output_formatted_list_1var_plot_profiles(api_output_formatted_list)\n"
   ]
  },
  {
   "cell_type": "markdown",
   "id": "2a398f9e",
   "metadata": {},
   "source": [
    "## Visualization: example map for gridded products (if available) in each region of interest"
   ]
  },
  {
   "cell_type": "code",
   "execution_count": null,
   "id": "e302e6c4",
   "metadata": {
    "scrolled": false
   },
   "outputs": [],
   "source": [
    "# plot map at one level and time\n",
    "api_output_formatted_list_1var_plot_map(api_output_formatted_list,ilev=0,itime=0)  \n",
    "               "
   ]
  },
  {
   "cell_type": "markdown",
   "id": "b2b88af4",
   "metadata": {},
   "source": [
    "## Visualization: for each product, plot the average vertical structure (i.e. horizontal and time average) in each region and time period of interest. \n"
   ]
  },
  {
   "cell_type": "code",
   "execution_count": null,
   "id": "12b14bdc",
   "metadata": {
    "scrolled": false
   },
   "outputs": [],
   "source": [
    "# plot horizontal and time average\n",
    "api_output_formatted_list_1var_plot_horizontal_and_time_ave(api_output_formatted_list,colors)  \n"
   ]
  },
  {
   "cell_type": "code",
   "execution_count": null,
   "id": "48e7d482",
   "metadata": {
    "scrolled": false
   },
   "outputs": [],
   "source": [
    "# import sys \n",
    "# sys.getsizeof(api_output_formatted_list) "
   ]
  },
  {
   "cell_type": "markdown",
   "id": "d222a982",
   "metadata": {},
   "source": [
    "# Extra section: visualizing profiles from Argo platform and/or WOCE line"
   ]
  },
  {
   "cell_type": "markdown",
   "id": "3554ecd4",
   "metadata": {},
   "source": [
    "In the following, we will use some of the plots above to visualize profiles from a specific Argo platform and/or a WOCE line. In doing so, we will focus only on the object of interest (e.g. profiles from a specific Argo platform or WOCE line) and **NOT** select by region or time."
   ]
  },
  {
   "cell_type": "markdown",
   "id": "bae8fc12",
   "metadata": {},
   "source": [
    "## Setup: define parameters to query data of interest"
   ]
  },
  {
   "cell_type": "markdown",
   "id": "7ca66cb3",
   "metadata": {},
   "source": [
    "Let's indicate the collections of interest (i.e. what datasets in Argovis you would like to use as they include the oceanic property of interest) and the parameter of interest. The parameter of interest should be present in all the collections to consider (e.g. 'platform' is there for the Argo collection, yet 'woceline' is not there for Argo). We also list 1. all the variables that are available for each collection, and 2. all the values that are possible for the selected parameter (so that we can use the variable name and value of interest for the selected parameter, in following code cells). **Please first run the code with the current settings to familiarize yourself with the notebook: after that, if needed, then change the settings and run the notebook again.**"
   ]
  },
  {
   "cell_type": "code",
   "execution_count": null,
   "id": "c29f13d7",
   "metadata": {
    "scrolled": false
   },
   "outputs": [],
   "source": [
    "#+++\n",
    "\n",
    "selection_params = {}\n",
    "\n",
    "#+++ example for Argo platform\n",
    "selection_params['collections']  = ['argo']\n",
    "selection_params['parameter_name']= 'platform'\n",
    "varname_temperature = 'temperature'\n",
    "varname_salinity = 'salinity'\n",
    "#+++\n",
    "\n",
    "#+++ example for WOCE line from the Easyocean gridded product\n",
    "selection_params['collections']  = ['easyocean']\n",
    "selection_params['parameter_name']= 'woceline'\n",
    "varname_temperature = 'ctd_temperature'\n",
    "varname_salinity = 'ctd_salinity'\n",
    "#+++ \n",
    "\n",
    "# let's print to screen some info based on the selected collections (to be able to select further parameters in the next cells)\n",
    "show_variable_names_for_collections(collections_list=selection_params['collections'],API_KEY=API_KEY,verbose=True)\n",
    "\n",
    "values_for_param = list_values_for_parameter_to_api_query(selection_params=selection_params,API_KEY=API_KEY,verbose=False)\n"
   ]
  },
  {
   "cell_type": "markdown",
   "id": "11473295",
   "metadata": {},
   "source": [
    "Let's list values available for the param of interest of interest."
   ]
  },
  {
   "cell_type": "code",
   "execution_count": null,
   "id": "8655ba36",
   "metadata": {
    "scrolled": false
   },
   "outputs": [],
   "source": [
    "for icollection in values_for_param.keys():\n",
    "    print('---> ' + icollection)\n",
    "    if len(values_for_param[icollection]['param_vals'])<100:\n",
    "        print(values_for_param[icollection]['param_vals'])\n",
    "    else:\n",
    "        print('The list of param values is too long, will only show first 100 possible values')\n",
    "        print(values_for_param[icollection]['param_vals'][0:100])\n"
   ]
  },
  {
   "cell_type": "markdown",
   "id": "b30a9e5b",
   "metadata": {},
   "source": [
    "For each collection, indicate the parameter value of interest, the variable of interest, and, if needed, the 'section_start_date' of interest (this is needed e.g. for Easyocean). Please note that a variable may not be available for some parameter values (e.g. many Argo platforms do not measure bgc variables). The code in the following will return no profiles if the selected variable is not available for the parameter value of interest."
   ]
  },
  {
   "cell_type": "code",
   "execution_count": null,
   "id": "98e60225",
   "metadata": {
    "scrolled": false
   },
   "outputs": [],
   "source": [
    "#### parameters to set for each collection based on the info printed above\n",
    "\n",
    "#+++ argo example\n",
    "selection_params['parameter']     = ['4903274']\n",
    "#+++ \n",
    "\n",
    "#+++  easyocean example\n",
    "selection_params['parameter']     = ['P16'] #['A10']\n",
    "#+++\n",
    "\n",
    "# based on the list above, let's set the section_start_date for the 'woceline' of interest:\n",
    "# please note that if you don't edit below (see # +++*** after the if statement) the code \n",
    "# will select the latest occupation in the dataset\n",
    "if selection_params['parameter_name']=='woceline':\n",
    "    selection_params['section_start_date'] = []\n",
    "    for i,icollection in enumerate(selection_params['collections']):\n",
    "        print('>----> Occupations for selected woceline ' +selection_params['parameter'][i] + ':')\n",
    "        print(values_for_param[icollection]['param_vals_extra'][selection_params['parameter'][0]]['time_boundaris'])\n",
    "        print('--+ Selected occupation start date')\n",
    "        bfr_param_vals_extra = values_for_param[icollection]['param_vals_extra'][selection_params['parameter'][i]]\n",
    "        selection_params['section_start_date'].append(bfr_param_vals_extra['time_boundaris'][-1][0])#['2011-09-28T00:00:00.000Z']\n",
    "        print(selection_params['section_start_date'])\n",
    "        \n",
    "# +++*** uncomment here to select the section start date manually\n",
    "# selection_params['section_start_date'] = '2005-01-10T00:00:00.000Z'\n",
    "\n",
    "# define name of variable of interest for each collection\n",
    "\n",
    "#+++ argo example\n",
    "selection_params['varnames']     = ['doxy']\n",
    "selection_params['varnames_qc']  = [',1'] # argoqc = 1 is best quality\n",
    "#+++\n",
    "\n",
    "#+++ easyocean example\n",
    "selection_params['varnames']     = ['doxy']\n",
    "selection_params['varnames_qc']  = [''] # woceqc = 2 is best quality\n",
    "#+++\n",
    "\n",
    "selection_params['varname_title']     = 'Oxygen, umol/kg'\n",
    "\n",
    "# if we wanted to only consider oxygen profiles where temperature and salinity are qc 1, we would have here: 'temperature,1,salinity,1' (these additional variables are also stored for the regions of interest)\n",
    "# (these additional variables are also stored for the regions of interest and visualized)\n",
    "### please note that the first comma should be included!\n",
    "### please note that qc flags are not used for Easyocean\n",
    "\n",
    "#+++ argo example\n",
    "selection_params['data_extra']   = [',temperature,1,salinity,1']\n",
    "#+++\n",
    "\n",
    "#+++ easyocean example\n",
    "selection_params['data_extra']   = [',ctd_temperature,ctd_salinity'] # we included these as we want to store them\n",
    "#+++\n",
    "\n",
    "# define name of the variable that includes levels for each collection\n",
    "selection_params['varname_levels'] = ['pressure'] # \n"
   ]
  },
  {
   "cell_type": "markdown",
   "id": "af6d3a08",
   "metadata": {},
   "source": [
    "Finally, let's define the vertical levels that we want to use to interpolate observed profiles and colors to use for the line plots. "
   ]
  },
  {
   "cell_type": "code",
   "execution_count": null,
   "id": "356de026",
   "metadata": {
    "scrolled": false
   },
   "outputs": [],
   "source": [
    "# levels for vertically integrated profiles\n",
    "selection_params['interp_levels']= list(range(10,2001))[0::20]\n",
    "# colors to use for the line plots\n",
    "colors = list(mcolors.TABLEAU_COLORS.keys())"
   ]
  },
  {
   "cell_type": "markdown",
   "id": "04f005e1",
   "metadata": {},
   "source": [
    "## Loading the data of interest using the Argovis API"
   ]
  },
  {
   "cell_type": "markdown",
   "id": "0446b732",
   "metadata": {},
   "source": [
    "In the next code cell, parameters selected above are used to query the data of interest and format them in a way that allows to easily visualize the data. Depending on the size of the data reuqested, the next code cell may take some time to complete."
   ]
  },
  {
   "cell_type": "code",
   "execution_count": null,
   "id": "526e28c7",
   "metadata": {
    "scrolled": false
   },
   "outputs": [],
   "source": [
    "api_output_formatted_list = get_api_output_formatted_list_1var_for_parameter(selection_params=selection_params,API_KEY=API_KEY)\n"
   ]
  },
  {
   "cell_type": "code",
   "execution_count": null,
   "id": "fe5b4d62",
   "metadata": {
    "scrolled": false
   },
   "outputs": [],
   "source": [
    "# plot map of lons and lats for data that are not gridded\n",
    "api_output_formatted_list_1var_plot_lons_lats_map(api_output_formatted_list)\n",
    "# example of how to change the figure size\n",
    "fig = plt.gcf() # gcf: get current figure\n",
    "fig.set_size_inches(10,15)\n"
   ]
  },
  {
   "cell_type": "markdown",
   "id": "f1e6e990",
   "metadata": {},
   "source": [
    "Let's compute e.g. potential density, N_squared, absolute salinity, conservative temperature from in-situ temperature and salinity and add it to items in the list api_output_formatted_list."
   ]
  },
  {
   "cell_type": "code",
   "execution_count": null,
   "id": "db01dd4e",
   "metadata": {
    "scrolled": false
   },
   "outputs": [],
   "source": [
    "api_output_formatted_list = api_output_formatted_list_include_gsw_fields(list_fields_to_include=['absolute_salinity','conservative_temperature','potential_density','Nsquared'],\n",
    "                                                        api_output_formatted_list0=api_output_formatted_list,\n",
    "                                                        varname_temperature=varname_temperature,varname_salinity=varname_salinity)\n"
   ]
  },
  {
   "cell_type": "code",
   "execution_count": null,
   "id": "9d4e5227",
   "metadata": {
    "scrolled": false
   },
   "outputs": [],
   "source": [
    "# let's plot all the profiles for each variable\n",
    "api_output_formatted_list_1var_plot_profiles(api_output_formatted_list)"
   ]
  },
  {
   "cell_type": "code",
   "execution_count": null,
   "id": "78e15b41",
   "metadata": {
    "scrolled": false
   },
   "outputs": [],
   "source": [
    "# plot horizontal and time average\n",
    "api_output_formatted_list_1var_plot_horizontal_and_time_ave(api_output_formatted_list,colors)  \n"
   ]
  },
  {
   "cell_type": "markdown",
   "id": "b6934b20",
   "metadata": {},
   "source": [
    "Now, let's create a shaded plot showing all the profiles (in an order based on a coordinate of interest, e.g. longitude, latitude, timestamp) and all the levels."
   ]
  },
  {
   "cell_type": "code",
   "execution_count": null,
   "id": "ce7ea3eb",
   "metadata": {
    "scrolled": false
   },
   "outputs": [],
   "source": [
    "# select the variable of interest for the sorting:\n",
    "# woceline: look at the map above and choose what makes most sense between longitude and latitude\n",
    "# argo platform: 'timestamp' is generally a good choice; the cycle number would be good too, yet \n",
    "# it is not currently stored in api_output_formatted_list\n",
    "var2use_for_sorting = 'latitude'\n",
    "\n",
    "api_output_formatted_list_parameter_2d_plot(api_output_formatted_list,var2use_for_sorting=var2use_for_sorting)\n"
   ]
  },
  {
   "cell_type": "code",
   "execution_count": null,
   "id": "3125538a",
   "metadata": {
    "scrolled": false
   },
   "outputs": [],
   "source": []
  },
  {
   "cell_type": "code",
   "execution_count": null,
   "id": "4d18aefa",
   "metadata": {
    "scrolled": false
   },
   "outputs": [],
   "source": []
  },
  {
   "cell_type": "code",
   "execution_count": null,
   "id": "b3fdc793",
   "metadata": {
    "scrolled": false
   },
   "outputs": [],
   "source": [
    "# other options:\n",
    "# draw the shape of interest in the maps showing profiles?\n",
    "# bin in time? \n",
    "# plot coloring by month or season"
   ]
  }
 ],
 "metadata": {
  "kernelspec": {
   "display_name": "argovis_demos",
   "language": "python",
   "name": "argovis_demos"
  },
  "language_info": {
   "codemirror_mode": {
    "name": "ipython",
    "version": 3
   },
   "file_extension": ".py",
   "mimetype": "text/x-python",
   "name": "python",
   "nbconvert_exporter": "python",
   "pygments_lexer": "ipython3",
   "version": "3.9.13"
  },
  "toc": {
   "base_numbering": 1,
   "nav_menu": {},
   "number_sections": true,
   "sideBar": true,
   "skip_h1_title": false,
   "title_cell": "Table of Contents",
   "title_sidebar": "Contents",
   "toc_cell": false,
   "toc_position": {},
   "toc_section_display": true,
   "toc_window_display": false
  }
 },
 "nbformat": 4,
 "nbformat_minor": 5
}
