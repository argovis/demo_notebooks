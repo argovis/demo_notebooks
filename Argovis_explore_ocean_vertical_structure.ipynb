{
 "cells": [
  {
   "cell_type": "markdown",
   "id": "30dd20a4",
   "metadata": {},
   "source": [
    "# Characterizing the vertical structure of oxygen in the ocean\n",
    "\n",
    "Argovis provides an API that indexes and distributes numerous oceanographic datasets with detailed query parameters, enabling you to search and download only and exactly data of interest. \n",
    "\n",
    "This notebook guides users in exploring the vertical structure of oxygen in the ocean using ocean observations and gridded products (i.e. products that provide maps of oxygen in the ocean at different depths, starting from sparse point measurements). Please note that while the focus in the following is on oxygen, the same notebook can be used to visualize other fields (see possible input parameters for e.g. salinity included in commented lines in between lines starting with #+++)."
   ]
  },
  {
   "cell_type": "markdown",
   "id": "bc9e2af5",
   "metadata": {},
   "source": [
    "## Learning goals"
   ]
  },
  {
   "cell_type": "markdown",
   "id": "d1986d70",
   "metadata": {},
   "source": [
    "- Generate an average vertical profile of oxygen for a region in the North Atlantic and for a region in the North Pacific Ocean using Argo oxygen data.  \n",
    "- Describe the features of the two profiles, noting similarities and differences.  \n",
    "- Discuss the reasons for the differences between the two. "
   ]
  },
  {
   "cell_type": "markdown",
   "id": "7f9b3d72",
   "metadata": {},
   "source": [
    "## Setup: Register an API key"
   ]
  },
  {
   "cell_type": "markdown",
   "id": "01047475",
   "metadata": {},
   "source": [
    "In order to allocate Argovis's limited computing resources fairly, users are encouraged to register and request a free API key. This works like a password that identifies your requests to Argovis. To do so:\n",
    "\n",
    " - Visit [https://argovis-keygen.colorado.edu/](https://argovis-keygen.colorado.edu/)\n",
    " - Fill out the form under _New Account Registration_\n",
    " - An API key will be emailed to you shortly.\n",
    " \n",
    "Treat this API key like a password - don't share it or leave it anywhere public. If you ever forget it or accidentally reveal it to a third party, see the same website above to change or deactivate your token.\n",
    "\n",
    "Put your API key in the quotes in the variable below before moving on (please note that if you proceed without including anything in the quotes, the notebook may still work, yet it may also give an error):"
   ]
  },
  {
   "cell_type": "code",
   "execution_count": 1,
   "id": "5b50ee00",
   "metadata": {
    "scrolled": false
   },
   "outputs": [],
   "source": [
    "API_KEY=''"
   ]
  },
  {
   "cell_type": "markdown",
   "id": "7ed251ca",
   "metadata": {},
   "source": [
    "## Setup: import libraries and functions"
   ]
  },
  {
   "cell_type": "code",
   "execution_count": 2,
   "id": "0d2b8e7a",
   "metadata": {
    "scrolled": false
   },
   "outputs": [],
   "source": [
    "# Let's start importing libraries and functions we will need\n",
    "from argovisHelpers import helpers as avh\n",
    "\n",
    "import matplotlib.colors as mcolors\n",
    "import matplotlib.pyplot as plt # e.g. to change the size of figures created from functions\n",
    "import copy\n",
    "\n",
    "import sys\n",
    "sys.path.append('./work_in_progress')\n",
    "# let's import functions from the .py file in the current folder\n",
    "from Argovis_tasks_helpers import get_route,list_values_for_parameter_to_api_query,show_variable_names_for_collections\n",
    "from Argovis_tasks_helpers import get_api_output_formatted_list_1var_for_regions_and_timeranges, get_api_output_formatted_list_1var_for_parameter, api_output_formatted_list_1var_plot_lons_lats_map,api_output_formatted_list_1var_plot_profiles,api_output_formatted_list_1var_plot_map,api_output_formatted_list_1var_plot_horizontal_and_time_ave,api_output_formatted_list_parameter_2d_plot\n",
    "from Argovis_tasks_helpers import api_output_formatted_list_include_gsw_fields"
   ]
  },
  {
   "cell_type": "markdown",
   "id": "cbfd3ca1",
   "metadata": {},
   "source": [
    "## Setup: define parameters to query data of interest"
   ]
  },
  {
   "cell_type": "markdown",
   "id": "5438cf7f",
   "metadata": {},
   "source": [
    "Let's indicate the collections of interest, i.e. what datasets in Argovis you would like to use as they include the oceanic property of interest. **Please first run the code with the current settings to familiarize yourself with the notebook: after that, if needed, change the settings and run the notebook again.**"
   ]
  },
  {
   "cell_type": "code",
   "execution_count": 3,
   "id": "f30feab0",
   "metadata": {
    "scrolled": false
   },
   "outputs": [
    {
     "name": "stdout",
     "output_type": "stream",
     "text": [
      "https://argovis-api.colorado.edu/argo/vocabulary?parameter=data\n",
      ">>>>> argo\n",
      "['bbp470', 'bbp470_argoqc', 'bbp532', 'bbp532_argoqc', 'bbp700', 'bbp700_2', 'bbp700_2_argoqc', 'bbp700_argoqc', 'bisulfide', 'bisulfide_argoqc', 'cdom', 'cdom_argoqc', 'chla', 'chla_argoqc', 'chla_fluorescence', 'chla_fluorescence_argoqc', 'cndc', 'cndc_argoqc', 'cp660', 'cp660_argoqc', 'down_irradiance380', 'down_irradiance380_argoqc', 'down_irradiance412', 'down_irradiance412_argoqc', 'down_irradiance443', 'down_irradiance443_argoqc', 'down_irradiance490', 'down_irradiance490_argoqc', 'down_irradiance555', 'down_irradiance555_argoqc', 'down_irradiance665', 'down_irradiance665_argoqc', 'down_irradiance670', 'down_irradiance670_argoqc', 'downwelling_par', 'downwelling_par_argoqc', 'doxy', 'doxy2', 'doxy2_argoqc', 'doxy3', 'doxy3_argoqc', 'doxy_argoqc', 'nitrate', 'nitrate_argoqc', 'ph_in_situ_total', 'ph_in_situ_total_argoqc', 'pressure', 'pressure_argoqc', 'salinity', 'salinity_argoqc', 'salinity_sfile', 'salinity_sfile_argoqc', 'temperature', 'temperature_argoqc', 'temperature_sfile', 'temperature_sfile_argoqc', 'turbidity', 'turbidity_argoqc', 'up_radiance412', 'up_radiance412_argoqc', 'up_radiance443', 'up_radiance443_argoqc', 'up_radiance490', 'up_radiance490_argoqc', 'up_radiance555', 'up_radiance555_argoqc']\n",
      "https://argovis-api.colorado.edu/cchdo/vocabulary?parameter=data\n",
      ">>>>> cchdo\n",
      "['ammonium', 'ammonium_error', 'ammonium_woceqc', 'arabinose', 'arabinose_woceqc', 'argon', 'argon_error', 'argon_woceqc', 'bacterial_cell_count', 'bacterial_cell_count_woceqc', 'barium', 'barium_l', 'barium_l_woceqc', 'barium_woceqc', 'bionbr', 'bnlid', 'bottle_latitude', 'bottle_longitude', 'bottle_number', 'bottle_number_woceqc', 'bottle_salinity', 'bottle_salinity_woceqc', 'bottle_time', 'brdu_uptake', 'brdu_uptake_woceqc', 'carbon_tetrachloride', 'carbon_tetrachloride_l', 'carbon_tetrachloride_l_woceqc', 'carbon_tetrachloride_woceqc', 'cdom_wavelength_300', 'cdom_wavelength_300_woceqc', 'cdom_wavelength_325', 'cdom_wavelength_325_woceqc', 'cdom_wavelength_340', 'cdom_wavelength_340_woceqc', 'cdom_wavelength_380', 'cdom_wavelength_380_woceqc', 'cdom_wavelength_412', 'cdom_wavelength_412_woceqc', 'cdom_wavelength_443', 'cdom_wavelength_443_woceqc', 'cdom_wavelength_490', 'cdom_wavelength_490_woceqc', 'cdom_wavelength_555', 'cdom_wavelength_555_woceqc', 'cdomsl', 'cdomsl_woceqc', 'cdomsn', 'cdomsn_woceqc', 'cesium_134_bq', 'cesium_134_bq_woceqc', 'cesium_137_bq', 'cesium_137_bq_error', 'cesium_137_bq_woceqc', 'cfc_11', 'cfc_113', 'cfc_113_l', 'cfc_113_l_woceqc', 'cfc_113_woceqc', 'cfc_11_error', 'cfc_11_l', 'cfc_11_l_woceqc', 'cfc_11_woceqc', 'cfc_12', 'cfc_12_error', 'cfc_12_l', 'cfc_12_l_woceqc', 'cfc_12_woceqc', 'chlorodifluoroethane', 'chlorodifluoroethane_woceqc', 'chlorodifluoromethane', 'chlorodifluoromethane_woceqc', 'chlorophyll_a', 'chlorophyll_a_ug_kg', 'chlorophyll_a_ug_kg_woceqc', 'chlorophyll_a_woceqc', 'co2_mole_fraction', 'co2_mole_fraction_woceqc', 'ctd_beamcp', 'ctd_beamcp_woceqc', 'ctd_beta650_124', 'ctd_beta700_raw', 'ctd_beta700_raw_woceqc', 'ctd_cdom', 'ctd_cdom_raw', 'ctd_cdom_raw_woceqc', 'ctd_cdom_woceqc', 'ctd_fluor', 'ctd_fluor_arbitrary', 'ctd_fluor_raw', 'ctd_fluor_raw_woceqc', 'ctd_fluor_woceqc', 'ctd_nitrate', 'ctd_nitrate_woceqc', 'ctd_number_of_observations', 'ctd_optode_oxygen', 'ctd_optode_oxygen_raw', 'ctd_optode_oxygen_raw_woceqc', 'ctd_optode_oxygen_woceqc', 'ctd_oxygen_umol_l', 'ctd_pressure_raw', 'ctd_temperature_unk', 'ctd_temperature_unk_woceqc', 'ctd_transmissometer', 'ctd_transmissometer_raw', 'ctd_transmissometer_raw_woceqc', 'ctd_transmissometer_woceqc', 'ctd_turbidity_ftu', 'ctd_turbidity_ftu_woceqc', 'ctd_turbidity_ntu', 'ctd_turbidity_ntu_woceqc', 'cyanobacteria_cell_count', 'cyanobacteria_cell_count_woceqc', 'd15n_nitrite_nitrate', 'd15n_nitrite_nitrate_woceqc', 'd15n_no3', 'd15n_no3_woceqc', 'd18o_nitrate', 'd18o_nitrate_woceqc', 'd18o_nitrite_nitrate', 'd18o_nitrite_nitrate_woceqc', 'dcns', 'dcns_woceqc', 'del_carbon_13_dic', 'del_carbon_13_dic_error', 'del_carbon_13_dic_woceqc', 'del_carbon_14_dic', 'del_carbon_14_dic_error', 'del_carbon_14_dic_woceqc', 'del_deuterium', 'del_deuterium_error', 'del_deuterium_woceqc', 'del_nitrogen_15', 'del_nitrogen_15_woceqc', 'del_oxygen_18', 'del_oxygen_18_error', 'del_oxygen_18_woceqc', 'delta_helium_3', 'delta_helium_3_error', 'delta_helium_3_woceqc', 'density_salinity', 'density_salinity_woceqc', 'dichlorofluoroethane', 'dichlorofluoroethane_woceqc', 'dissolved_organic_carbon', 'dissolved_organic_carbon_13', 'dissolved_organic_carbon_13_error', 'dissolved_organic_carbon_13_woceqc', 'dissolved_organic_carbon_14', 'dissolved_organic_carbon_14_error', 'dissolved_organic_carbon_14_woceqc', 'dissolved_organic_carbon_woceqc', 'dissolved_organic_nitrogen', 'dissolved_organic_nitrogen_woceqc', 'downcast_oxygen', 'downcast_oxygen_woceqc', 'downcast_pressure', 'downcast_pressure_woceqc', 'doxy', 'doxy_bfile', 'doxy_bfile_woceqc', 'doxy_woceqc', 'fco2', 'fco2_in_situ', 'fco2_temperature', 'fco2_woceqc', 'fdom', 'fdom_woceqc', 'fm_depth', 'fm_depth_woceqc', 'fucose', 'fucose_woceqc', 'galactose', 'galactose_woceqc', 'geotraces_sample', 'glucose', 'glucose_woceqc', 'helium', 'helium_error', 'helium_woceqc', 'hplc_19_hexanoyloxyfucoxanthin', 'hplc_19_hexanoyloxyfucoxanthin_woceqc', 'hplc_19butanoyloxyfucoxanthin', 'hplc_19butanoyloxyfucoxanthin_woceqc', 'hplc_alloxanthin', 'hplc_alloxanthin_woceqc', 'hplc_alpha_beta_carotenes', 'hplc_alpha_beta_carotenes_woceqc', 'hplc_chlorophyll_c1_c2', 'hplc_chlorophyll_c1_c2_woceqc', 'hplc_chlorophyll_c2', 'hplc_chlorophyll_c2_woceqc', 'hplc_chlorophyll_c3', 'hplc_chlorophyll_c3_woceqc', 'hplc_chlorophyllide_a', 'hplc_chlorophyllide_a_woceqc', 'hplc_diadinoxanthin', 'hplc_diadinoxanthin_woceqc', 'hplc_diatoxanthin', 'hplc_diatoxanthin_woceqc', 'hplc_divinyl_chlorophyll_a', 'hplc_divinyl_chlorophyll_a_woceqc', 'hplc_lutein', 'hplc_lutein_woceqc', 'hplc_monovinyl_chlorophyll_a', 'hplc_monovinyl_chlorophyll_a_woceqc', 'hplc_monovinyl_chlorophyll_b', 'hplc_monovinyl_chlorophyll_b_woceqc', 'hplc_neoxanthin', 'hplc_neoxanthin_woceqc', 'hplc_peridinin', 'hplc_peridinin_woceqc', 'hplc_pheophorbide_a', 'hplc_pheophorbide_a_woceqc', 'hplc_pheophytin_a', 'hplc_pheophytin_a_woceqc', 'hplc_prasinoxanthin', 'hplc_prasinoxanthin_woceqc', 'hplc_tot_chl_a', 'hplc_tot_chl_a_woceqc', 'hplc_tot_chl_b', 'hplc_tot_chl_b_woceqc', 'hplc_tot_chl_c', 'hplc_tot_chl_c_woceqc', 'hplc_violaxanthin', 'hplc_violaxanthin_woceqc', 'hplc_zeaxanthin', 'hplc_zeaxanthin_woceqc', 'hpld_antheraxanthin', 'hpld_antheraxanthin_woceqc', 'krypton', 'krypton_error', 'krypton_woceqc', 'ldeo_sample_number', 'mannose', 'mannose_woceqc', 'methane', 'methane_l', 'methane_woceqc', 'methyl_bromide', 'methyl_bromide_woceqc', 'methyl_chloride', 'methyl_chloride_woceqc', 'methyl_chloroform', 'methyl_chloroform_woceqc', 'methyl_iodide', 'methyl_iodide_woceqc', 'neon', 'neon_error', 'neon_woceqc', 'nitrate', 'nitrate_error', 'nitrate_woceqc', 'nitrite', 'nitrite_error', 'nitrite_nitrate', 'nitrite_nitrate_l', 'nitrite_nitrate_l_woceqc', 'nitrite_nitrate_woceqc', 'nitrite_woceqc', 'nitrous_oxide', 'nitrous_oxide_woceqc', 'odf_pressure', 'oxygen', 'oxygen_ml_l', 'oxygen_ml_l_woceqc', 'oxygen_woceqc', 'package_depth', 'package_depth_woceqc', 'par', 'par_raw', 'par_raw_woceqc', 'par_woceqc', 'partial_co2_temperature', 'partial_pressure_of_co2', 'partial_pressure_of_co2_woceqc', 'particulate_organic_carbon', 'particulate_organic_carbon_woceqc', 'particulate_organic_nitrogen', 'particulate_organic_nitrogen_mol', 'particulate_organic_nitrogen_mol_woceqc', 'particulate_organic_nitrogen_woceqc', 'ph_nbs', 'ph_nbs_woceqc', 'ph_sws', 'ph_sws_woceqc', 'ph_temperature', 'ph_temperature_woceqc', 'ph_total_h_scale', 'ph_total_h_scale_woceqc', 'ph_unknown_scale', 'ph_unknown_scale_woceqc', 'phaeophytin', 'phaeophytin_ug_l', 'phaeophytin_ug_l_woceqc', 'phaeophytin_woceqc', 'phosphate', 'phosphate_error', 'phosphate_l', 'phosphate_l_woceqc', 'phosphate_woceqc', 'phytoplankton_cell_count', 'phytoplankton_cell_count_woceqc', 'picoeukaryote_cell_counts', 'picoeukaryote_cell_counts_woceqc', 'potential_temperature', 'potential_temperature_woceqc', 'pressure', 'pressure_woceqc', 'prochlorophyte_cell_count', 'prochlorophyte_cell_count_woceqc', 'radium_226', 'radium_226_error', 'radium_226_woceqc', 'radium_228', 'radium_228_226', 'radium_228_226_error', 'radium_228_226_woceqc', 'radium_228_error', 'radium_228_woceqc', 'ref_temperature', 'ref_temperature_c', 'ref_temperature_c_woceqc', 'ref_temperature_woceqc', 'reference_salinity', 'reference_salinity_woceqc', 'refractive_index_anomaly', 'refractive_index_anomaly_woceqc', 'rev_pressure', 'rev_pressure_woceqc', 'rev_temperature', 'rev_temperature_90', 'rev_temperature_90_woceqc', 'rev_temperature_c', 'rev_temperature_c_woceqc', 'rev_temperature_woceqc', 'rhamnose', 'rhamnose_woceqc', 'salinity', 'salinity_bfile', 'salinity_bfile_woceqc', 'salinity_woceqc', 'sample', 'sigma0', 'sigma0_woceqc', 'silicate', 'silicate_error', 'silicate_l', 'silicate_l_woceqc', 'silicate_woceqc', 'sm_depth', 'sm_depth_woceqc', 'somma_salinity', 'spar_raw', 'spar_raw_woceqc', 'sulfur_hexifluoride', 'sulfur_hexifluoride_woceqc', 'synechococcus_cell_count', 'synechococcus_cell_count_woceqc', 'temperature', 'temperature_bfile', 'temperature_bfile_woceqc', 'temperature_woceqc', 'total_alkalinity', 'total_alkalinity_woceqc', 'total_carbon', 'total_carbon_woceqc', 'total_dissolved_nitrogen', 'total_dissolved_nitrogen_woceqc', 'total_dissolved_phosphorus', 'total_dissolved_phosphorus_woceqc', 'total_organic_carbon', 'total_organic_carbon_l', 'total_organic_carbon_l_woceqc', 'total_organic_carbon_woceqc', 'total_organic_nitrogen', 'total_organic_nitrogen_l', 'total_organic_nitrogen_l_woceqc', 'total_organic_nitrogen_woceqc', 'trifluoromethylsulfur_pentafluoride', 'trifluoromethylsulfur_pentafluoride_woceqc', 'tritium', 'tritium_error', 'tritium_woceqc', 'urea', 'urea_woceqc', 'user_bottle_number', 'user_bottle_number_woceqc', 'user_sample_number', 'user_station_number', 'xenon', 'xenon_error', 'xenon_woceqc']\n",
      "https://argovis-api.colorado.edu/easyocean/vocabulary?parameter=data\n",
      ">>>>> easyocean\n",
      "['pressure', 'ctd_temperature', 'ctd_salinity', 'doxy', 'conservative_temperature', 'absolute_salinity']\n"
     ]
    },
    {
     "name": "stdout",
     "output_type": "stream",
     "text": [
      "https://argovis-api.colorado.edu/grids/glodap/vocabulary?parameter=data\n",
      ">>>>> grids/glodap\n",
      "['Cant', 'Cant_Input_N', 'Cant_Input_mean', 'Cant_Input_std', 'Cant_error', 'Cant_relerr', 'NO3', 'NO3_Input_N', 'NO3_Input_mean', 'NO3_Input_std', 'NO3_error', 'NO3_relerr', 'OmegaA', 'OmegaA_Input_N', 'OmegaA_Input_mean', 'OmegaA_Input_std', 'OmegaA_error', 'OmegaA_relerr', 'OmegaC', 'OmegaC_Input_N', 'OmegaC_Input_mean', 'OmegaC_Input_std', 'OmegaC_error', 'OmegaC_relerr', 'PI_TCO2', 'PI_TCO2_Input_N', 'PI_TCO2_Input_mean', 'PI_TCO2_Input_std', 'PI_TCO2_error', 'PI_TCO2_relerr', 'PO4', 'PO4_Input_N', 'PO4_Input_mean', 'PO4_Input_std', 'PO4_error', 'PO4_relerr', 'TAlk', 'TAlk_Input_N', 'TAlk_Input_mean', 'TAlk_Input_std', 'TAlk_error', 'TAlk_relerr', 'TCO2', 'TCO2_Input_N', 'TCO2_Input_mean', 'TCO2_Input_std', 'TCO2_error', 'TCO2_relerr', 'oxygen', 'oxygen_Input_N', 'oxygen_Input_mean', 'oxygen_Input_std', 'oxygen_error', 'oxygen_relerr', 'pHts25p0', 'pHts25p0_Input_N', 'pHts25p0_Input_mean', 'pHts25p0_Input_std', 'pHts25p0_error', 'pHts25p0_relerr', 'pHtsinsitutp', 'pHtsinsitutp_Input_N', 'pHtsinsitutp_Input_mean', 'pHtsinsitutp_Input_std', 'pHtsinsitutp_error', 'pHtsinsitutp_relerr', 'salinity', 'salinity_Input_N', 'salinity_Input_mean', 'salinity_Input_std', 'salinity_error', 'salinity_relerr', 'silicate', 'silicate_Input_N', 'silicate_Input_mean', 'silicate_Input_std', 'silicate_error', 'silicate_relerr', 'temperature', 'temperature_Input_N', 'temperature_Input_mean', 'temperature_Input_std', 'temperature_error', 'temperature_relerr']\n"
     ]
    }
   ],
   "source": [
    "# for a list of collections, please see the Argovis swagger page\n",
    "\n",
    "#### in the following we set parameters to compare ocean profiles with a gridded product\n",
    "selection_params = {}\n",
    "\n",
    "#+++ example to use Argo and cchdo/easyocean profile data, as well as the glodap gridded product (which provides time mean fields)\n",
    "selection_params['collections']  = ['argo', 'cchdo', 'easyocean', 'grids/glodap']\n",
    "\n",
    "#+++ example to use Argo profile data and the glodap gridded product (which provides time mean fields)\n",
    "# selection_params['collections']  = ['argo', 'grids/glodap']\n",
    "#+++\n",
    "\n",
    "#+++ example to use Argo profile data and the Roemmich and Gilson monthly gridded product\n",
    "# selection_params['collections']  = ['argo', 'grids/rg09']\n",
    "#+++\n",
    "\n",
    "\n",
    "#### let's print to screen some info based on the selected collections (to be able to select further parameters in the next cell)\n",
    "vars_lists = show_variable_names_for_collections(collections_list=selection_params['collections'],API_KEY=API_KEY,verbose=True)\n"
   ]
  },
  {
   "cell_type": "markdown",
   "id": "214dd2d1",
   "metadata": {},
   "source": [
    "Now let's indicate the data of interest within the collections we selected above. As examples, for each collection, we need to specify the variable name and the quality control flag of interest (if a specific qc flag is of interest and if the flag is available for a collection)."
   ]
  },
  {
   "cell_type": "code",
   "execution_count": 4,
   "id": "19638123",
   "metadata": {
    "scrolled": false
   },
   "outputs": [],
   "source": [
    "#### params varying with the region\n",
    "\n",
    "#+++ example to use Argo and cchdo profile data, as well as the glodap gridded product (which provides time mean fields)\n",
    "selection_params['varnames']     = ['doxy', 'doxy', 'doxy', 'oxygen']\n",
    "selection_params['varnames_qc']  = [',1',',2', '',''] #[',1', ''] # argoqc = 1 is best quality\n",
    "\n",
    "\n",
    "#+++ example to use oxygen from Argo profile data (with argo qc flag 1) and the glodap gridded product\n",
    "# selection_params['varnames']     = ['doxy', 'oxygen']\n",
    "# selection_params['varnames_qc']  = [',1', ''] #[',1', ''] # argoqc = 1 is best quality\n",
    "#+++\n",
    "\n",
    "#+++ example to use salinity from Argo profile data (with argo qc flag 1) and the Roemmich and Gilson monthly gridded product\n",
    "# selection_params['varnames']     = ['salinity', 'rg09_salinity']\n",
    "# selection_params['varnames_qc']  = [',1', ''] # argoqc = 1 is best quality\n",
    "#+++\n",
    "\n",
    "# if we wanted to only consider oxygen profiles where temperature and salinity are qc 1, we would have here: 'temperature,1,salinity,1' (these additional variables are also stored for the regions of interest)\n",
    "# (these additional variables are also stored for the regions of interest and visualized)\n",
    "### please note that the first comma should be included!\n",
    "### please note that qc flags are not used for Easyocean\n",
    "# do not forget to include a comma at the start of the string, e.g. ',salinity,temperature'\n",
    "selection_params['data_extra']     = ['','','',''] \n",
    "\n",
    "# define name of the variable that includes levels for each collection\n",
    "selection_params['varname_levels'] = ['pressure','pressure','pressure',''] # for the gridded product, the level info is in the metadata, i.e. there is no variable in 'data' (for argo, 'pressure' is within the 'data' instead)\n"
   ]
  },
  {
   "cell_type": "markdown",
   "id": "012689a6",
   "metadata": {},
   "source": [
    "#### Before we continue, let's check that variables selected are included in the corresponding collection selected (if not, we should change the selected variable name in selection_params['varnames'])"
   ]
  },
  {
   "cell_type": "code",
   "execution_count": 5,
   "id": "8332eaca",
   "metadata": {
    "scrolled": false
   },
   "outputs": [
    {
     "name": "stdout",
     "output_type": "stream",
     "text": [
      ">>>>> argo includes selected variable, i.e. doxy\n",
      ">>>>> cchdo includes selected variable, i.e. doxy\n",
      ">>>>> easyocean includes selected variable, i.e. doxy\n",
      ">>>>> grids/glodap includes selected variable, i.e. oxygen\n"
     ]
    }
   ],
   "source": [
    "for i,ilist in enumerate(vars_lists):\n",
    "    if selection_params['varnames'][i] not in ilist:\n",
    "        print('>>>>> '+selection_params['collections'][i]+' does not include selected variable, i.e. '+selection_params['varnames'][i])\n",
    "        print('Here is a list of the variables that are included:')\n",
    "        print(ilist)\n",
    "        change_name_of_selected_variable_before_continuing\n",
    "    else:\n",
    "        print('>>>>> '+selection_params['collections'][i]+' includes selected variable, i.e. '+selection_params['varnames'][i])"
   ]
  },
  {
   "cell_type": "markdown",
   "id": "ef59ddfc",
   "metadata": {},
   "source": [
    "Let's now set the regions of interest and the type and tag for each region. Please note that in some regions and time periods of interest, the data of interest may not be available.\n"
   ]
  },
  {
   "cell_type": "code",
   "execution_count": 6,
   "id": "41158792",
   "metadata": {
    "scrolled": false
   },
   "outputs": [],
   "source": [
    "#### params varying with the region\n",
    "\n",
    "# in this example, we will use the 'box' selection type (i.e. we query the data within boxes),\n",
    "# hence we indicate here the bottom/left and top/right vertices for each box of interest... \n",
    "# the other option is to search in a 'polygon' and indicate the polygon\n",
    "# vertices in a list (first and last vertex should be the same)\n",
    "\n",
    "#+++ example to use Argo and cchdo profile data, as well as the glodap gridded product (which provides time mean fields)\n",
    "#### please note that shipped based profiles are sparser than Argo profiles, hence we need to select a box where we think there are data of interest in the period of interest\n",
    "selection_params['regions']     = [\n",
    "                        [[-55.5,35.5],[-45.5,40.5]],\n",
    "                        ]\n",
    "#+++ \n",
    "\n",
    "#+++ example to use oxygen from Argo profile data (with argo qc flag 1) and the glodap gridded product or the Roemmich and Gilson gridded product\n",
    "# this is for the example Atlantic vs Pacific\n",
    "# selection_params['regions']     = [\n",
    "#                         [[-50,45],[-40,50]],\n",
    "#                         [[-145.5,45.5],[-135.5,50.5]],\n",
    "#                         ]\n",
    "#+++\n",
    "\n",
    "selection_params['regions_type'] = ['box', 'box']\n",
    "\n",
    "selection_params['regions_tag'] = ['Atlantic','Pacific',]\n",
    "####\n",
    "\n"
   ]
  },
  {
   "cell_type": "markdown",
   "id": "077cba89",
   "metadata": {},
   "source": [
    "Finally, let's set up the time periods of interest (there could be more than one, e.g. to compare different seasons or different years). We also define the vertical levels that we want to use to interpolate observed profiles and colors to use for the line plots."
   ]
  },
  {
   "cell_type": "code",
   "execution_count": 7,
   "id": "2ea3ddd8",
   "metadata": {
    "scrolled": false
   },
   "outputs": [],
   "source": [
    "# list of startDate and endDates of interest (note: these will not be used for glodap as glodap only provides a time mean)\n",
    "selection_params['startDate']    = ['2021-01-01T00:00:00Z']\n",
    "selection_params['endDate']      = ['2021-12-31T00:00:00Z']\n",
    "\n",
    "#### other params\n",
    "# custom levels for vertically integrated profiles\n",
    "selection_params['interp_levels']= list(range(10,2001))[0::20]\n",
    "\n",
    "# levels for vertically integrated profiles if we want to use the vertical axis of one of the grids in Argovis\n",
    "# selection_params['interp_levels']= 'rg09_temperature_200401_Total' #list(range(10,2001))[0::20]\n",
    "\n",
    "# colors to use for the line plots\n",
    "colors = list(mcolors.TABLEAU_COLORS.keys())"
   ]
  },
  {
   "cell_type": "code",
   "execution_count": 8,
   "id": "1c99edb0",
   "metadata": {},
   "outputs": [],
   "source": [
    "# if the user requested to interpolate on the vertical axis on a grid, the code here redefines 'interp_levels'  based on that\n",
    "if isinstance(selection_params['interp_levels'],str):\n",
    "    \n",
    "    meta = avh.query('grids/meta', options={\"id\": 'rg09_temperature_200401_Total'},apikey=API_KEY, apiroot=get_route(selection_params['interp_levels']),verbose=True)\n",
    "    selection_params['interp_levels']=meta[0]['levels']\n",
    "#selection_params['interp_levels']"
   ]
  },
  {
   "cell_type": "markdown",
   "id": "e2a65b88",
   "metadata": {},
   "source": [
    "## Loading the data of interest using the Argovis API"
   ]
  },
  {
   "cell_type": "markdown",
   "id": "b031355d",
   "metadata": {},
   "source": [
    "In the next code cell, parameters selected above are used to query the data of interest and format them in a way that allows to easily visualize the data. Depending on how many regions/time periods were selected and the extent of each region/time period of interest, the next code cell may take some time to complete."
   ]
  },
  {
   "cell_type": "code",
   "execution_count": null,
   "id": "d1c65b77",
   "metadata": {
    "scrolled": false
   },
   "outputs": [
    {
     "name": "stdout",
     "output_type": "stream",
     "text": [
      ">>>>>>>>> argo doxy, Atlantic 2021-01-01 to 2021-12-31\n"
     ]
    }
   ],
   "source": [
    "api_output_formatted_list = get_api_output_formatted_list_1var_for_regions_and_timeranges(selection_params=selection_params,API_KEY=API_KEY)\n"
   ]
  },
  {
   "cell_type": "markdown",
   "id": "e4fd8643",
   "metadata": {},
   "source": [
    "## Visualization: map of profile locations in each region and time period of interest"
   ]
  },
  {
   "cell_type": "code",
   "execution_count": null,
   "id": "66317665",
   "metadata": {
    "scrolled": false
   },
   "outputs": [],
   "source": [
    "# plot map of lons and lats for data that are not gridded\n",
    "api_output_formatted_list_1var_plot_lons_lats_map(api_output_formatted_list,flag_map_for_only_one_var=False)      "
   ]
  },
  {
   "cell_type": "markdown",
   "id": "457c473f",
   "metadata": {},
   "source": [
    "## Visualization: plot profiles shown in the maps above"
   ]
  },
  {
   "cell_type": "code",
   "execution_count": null,
   "id": "bb70fd08",
   "metadata": {
    "scrolled": true
   },
   "outputs": [],
   "source": [
    "# plot the profiles shown above\n",
    "api_output_formatted_list_1var_plot_profiles(api_output_formatted_list)\n"
   ]
  },
  {
   "cell_type": "markdown",
   "id": "1b2397ab",
   "metadata": {},
   "source": [
    "## Visualization: example map for gridded products (if available) in each region of interest"
   ]
  },
  {
   "cell_type": "code",
   "execution_count": null,
   "id": "850d5c6a",
   "metadata": {
    "scrolled": false
   },
   "outputs": [],
   "source": [
    "# plot map at one level and time\n",
    "api_output_formatted_list_1var_plot_map(api_output_formatted_list,ilev=0,itime=0)  \n",
    "               "
   ]
  },
  {
   "cell_type": "markdown",
   "id": "b1d6f821",
   "metadata": {},
   "source": [
    "## Visualization: for each product, plot the average vertical structure (i.e. horizontal and time average) in each region and time period of interest. \n"
   ]
  },
  {
   "cell_type": "code",
   "execution_count": null,
   "id": "d1ab2a9e",
   "metadata": {
    "scrolled": false
   },
   "outputs": [],
   "source": [
    "# plot horizontal and time average\n",
    "api_output_formatted_list_1var_plot_horizontal_and_time_ave(api_output_formatted_list,colors)  \n"
   ]
  },
  {
   "cell_type": "code",
   "execution_count": null,
   "id": "cfe2c2b4",
   "metadata": {
    "scrolled": false
   },
   "outputs": [],
   "source": [
    "# import sys \n",
    "# sys.getsizeof(api_output_formatted_list) "
   ]
  },
  {
   "cell_type": "markdown",
   "id": "616f8f40",
   "metadata": {},
   "source": [
    "# Extra section: visualizing profiles from Argo platform and/or WOCE line"
   ]
  },
  {
   "cell_type": "markdown",
   "id": "6dc2e6c1",
   "metadata": {},
   "source": [
    "In the following, we will use some of the plots above to visualize profiles from a specific Argo platform and/or a WOCE line. In doing so, we will focus only on the object of interest (e.g. profiles from a specific Argo platform or WOCE line) and **NOT** select by region or time."
   ]
  },
  {
   "cell_type": "markdown",
   "id": "23849c2b",
   "metadata": {},
   "source": [
    "## Setup: define parameters to query data of interest"
   ]
  },
  {
   "cell_type": "markdown",
   "id": "f1716f8d",
   "metadata": {},
   "source": [
    "Let's indicate the collections of interest (i.e. what datasets in Argovis you would like to use as they include the oceanic property of interest) and the parameter of interest. The parameter of interest should be present in all the collections to consider (e.g. 'platform' is there for the Argo collection, yet 'woceline' is not there for Argo). We also list 1. all the variables that are available for each collection, and 2. all the values that are possible for the selected parameter (so that we can use the variable name and value of interest for the selected parameter, in following code cells). **Please first run the code with the current settings to familiarize yourself with the notebook: after that, if needed, then change the settings and run the notebook again.**"
   ]
  },
  {
   "cell_type": "code",
   "execution_count": null,
   "id": "fe096e21",
   "metadata": {
    "scrolled": false
   },
   "outputs": [],
   "source": [
    "#+++\n",
    "\n",
    "selection_params = {}\n",
    "\n",
    "#+++ example for Argo platform\n",
    "selection_params['collections']  = ['argo']\n",
    "selection_params['parameter_name']= 'platform'\n",
    "varname_temperature = 'temperature'\n",
    "varname_salinity = 'salinity'\n",
    "#+++\n",
    "\n",
    "#+++ example for WOCE line from the Easyocean gridded product\n",
    "selection_params['collections']  = ['easyocean']\n",
    "selection_params['parameter_name']= 'woceline'\n",
    "varname_temperature = 'ctd_temperature'\n",
    "varname_salinity = 'ctd_salinity'\n",
    "#+++ \n",
    "\n",
    "# let's print to screen some info based on the selected collections (to be able to select further parameters in the next cells)\n",
    "show_variable_names_for_collections(collections_list=selection_params['collections'],API_KEY=API_KEY,verbose=True)\n",
    "\n",
    "values_for_param = list_values_for_parameter_to_api_query(selection_params=selection_params,API_KEY=API_KEY,verbose=False)\n"
   ]
  },
  {
   "cell_type": "markdown",
   "id": "192f52b7",
   "metadata": {},
   "source": [
    "Let's list values available for the param of interest of interest."
   ]
  },
  {
   "cell_type": "code",
   "execution_count": null,
   "id": "33d56f7a",
   "metadata": {
    "scrolled": false
   },
   "outputs": [],
   "source": [
    "for icollection in values_for_param.keys():\n",
    "    print('---> ' + icollection)\n",
    "    if len(values_for_param[icollection]['param_vals'])<100:\n",
    "        print(values_for_param[icollection]['param_vals'])\n",
    "    else:\n",
    "        print('The list of param values is too long, will only show first 100 possible values')\n",
    "        print(values_for_param[icollection]['param_vals'][0:100])\n"
   ]
  },
  {
   "cell_type": "markdown",
   "id": "00c5cf45",
   "metadata": {},
   "source": [
    "For each collection, indicate the parameter value of interest, the variable of interest, and, if needed, the 'section_start_date' of interest (this is needed e.g. for Easyocean). Please note that a variable may not be available for some parameter values (e.g. many Argo platforms do not measure bgc variables). The code in the following will return no profiles if the selected variable is not available for the parameter value of interest."
   ]
  },
  {
   "cell_type": "code",
   "execution_count": null,
   "id": "85b25b98",
   "metadata": {
    "scrolled": false
   },
   "outputs": [],
   "source": [
    "#### parameters to set for each collection based on the info printed above\n",
    "\n",
    "#+++ argo example\n",
    "selection_params['parameter']     = ['4903274']\n",
    "#+++ \n",
    "\n",
    "#+++  easyocean example\n",
    "selection_params['parameter']     = ['P16'] #['A10']\n",
    "#+++\n",
    "\n",
    "# based on the list above, let's set the section_start_date for the 'woceline' of interest:\n",
    "# please note that if you don't edit below (see # +++*** after the if statement) the code \n",
    "# will select the latest occupation in the dataset\n",
    "if selection_params['parameter_name']=='woceline':\n",
    "    selection_params['section_start_date'] = []\n",
    "    for i,icollection in enumerate(selection_params['collections']):\n",
    "        print('>----> Occupations for selected woceline ' +selection_params['parameter'][i] + ':')\n",
    "        print(values_for_param[icollection]['param_vals_extra'][selection_params['parameter'][0]]['time_boundaris'])\n",
    "        print('--+ Selected occupation start date')\n",
    "        bfr_param_vals_extra = values_for_param[icollection]['param_vals_extra'][selection_params['parameter'][i]]\n",
    "        selection_params['section_start_date'].append(bfr_param_vals_extra['time_boundaris'][-1][0])#['2011-09-28T00:00:00.000Z']\n",
    "        print(selection_params['section_start_date'])\n",
    "        \n",
    "# +++*** uncomment here to select the section start date manually\n",
    "# selection_params['section_start_date'] = '2005-01-10T00:00:00.000Z'\n",
    "\n",
    "# define name of variable of interest for each collection\n",
    "\n",
    "#+++ argo example\n",
    "selection_params['varnames']     = ['doxy']\n",
    "selection_params['varnames_qc']  = [',1'] # argoqc = 1 is best quality\n",
    "#+++\n",
    "\n",
    "#+++ easyocean example\n",
    "selection_params['varnames']     = ['doxy']\n",
    "selection_params['varnames_qc']  = [''] # woceqc = 2 is best quality\n",
    "#+++\n",
    "\n",
    "selection_params['varname_title']     = 'Oxygen, umol/kg'\n",
    "\n",
    "# if we wanted to only consider oxygen profiles where temperature and salinity are qc 1, we would have here: 'temperature,1,salinity,1' (these additional variables are also stored for the regions of interest)\n",
    "# (these additional variables are also stored for the regions of interest and visualized)\n",
    "### please note that the first comma should be included!\n",
    "### please note that qc flags are not used for Easyocean\n",
    "\n",
    "#+++ argo example\n",
    "selection_params['data_extra']   = [',temperature,1,salinity,1']\n",
    "#+++\n",
    "\n",
    "#+++ easyocean example\n",
    "selection_params['data_extra']   = [',ctd_temperature,ctd_salinity'] # we included these as we want to store them\n",
    "#+++\n",
    "\n",
    "# define name of the variable that includes levels for each collection\n",
    "selection_params['varname_levels'] = ['pressure'] # \n"
   ]
  },
  {
   "cell_type": "markdown",
   "id": "eb9dfb6b",
   "metadata": {},
   "source": [
    "Finally, let's define the vertical levels that we want to use to interpolate observed profiles and colors to use for the line plots. "
   ]
  },
  {
   "cell_type": "code",
   "execution_count": null,
   "id": "09150331",
   "metadata": {
    "scrolled": false
   },
   "outputs": [],
   "source": [
    "# levels for vertically integrated profiles\n",
    "selection_params['interp_levels']= list(range(10,2001))[0::20]\n",
    "# colors to use for the line plots\n",
    "colors = list(mcolors.TABLEAU_COLORS.keys())"
   ]
  },
  {
   "cell_type": "markdown",
   "id": "c7b3ce51",
   "metadata": {},
   "source": [
    "## Loading the data of interest using the Argovis API"
   ]
  },
  {
   "cell_type": "markdown",
   "id": "2e0616b4",
   "metadata": {},
   "source": [
    "In the next code cell, parameters selected above are used to query the data of interest and format them in a way that allows to easily visualize the data. Depending on the size of the data reuqested, the next code cell may take some time to complete."
   ]
  },
  {
   "cell_type": "code",
   "execution_count": null,
   "id": "64a75fb7",
   "metadata": {
    "scrolled": false
   },
   "outputs": [],
   "source": [
    "api_output_formatted_list = get_api_output_formatted_list_1var_for_parameter(selection_params=selection_params,API_KEY=API_KEY)\n"
   ]
  },
  {
   "cell_type": "code",
   "execution_count": null,
   "id": "dd2ad869",
   "metadata": {
    "scrolled": false
   },
   "outputs": [],
   "source": [
    "# plot map of lons and lats for data that are not gridded\n",
    "api_output_formatted_list_1var_plot_lons_lats_map(api_output_formatted_list)\n",
    "# example of how to change the figure size\n",
    "fig = plt.gcf() # gcf: get current figure\n",
    "fig.set_size_inches(10,15)\n"
   ]
  },
  {
   "cell_type": "markdown",
   "id": "2c0ed3d6",
   "metadata": {},
   "source": [
    "Let's compute e.g. potential density, N_squared, absolute salinity, conservative temperature from in-situ temperature and salinity and add it to items in the list api_output_formatted_list."
   ]
  },
  {
   "cell_type": "code",
   "execution_count": null,
   "id": "25acf212",
   "metadata": {
    "scrolled": false
   },
   "outputs": [],
   "source": [
    "api_output_formatted_list = api_output_formatted_list_include_gsw_fields(list_fields_to_include=['absolute_salinity','conservative_temperature','potential_density','Nsquared'],\n",
    "                                                        api_output_formatted_list0=api_output_formatted_list,\n",
    "                                                        varname_temperature=varname_temperature,varname_salinity=varname_salinity)\n"
   ]
  },
  {
   "cell_type": "code",
   "execution_count": null,
   "id": "8e30f789",
   "metadata": {
    "scrolled": false
   },
   "outputs": [],
   "source": [
    "# let's plot all the profiles for each variable\n",
    "api_output_formatted_list_1var_plot_profiles(api_output_formatted_list)"
   ]
  },
  {
   "cell_type": "code",
   "execution_count": null,
   "id": "52ab349f",
   "metadata": {
    "scrolled": false
   },
   "outputs": [],
   "source": [
    "# plot horizontal and time average\n",
    "api_output_formatted_list_1var_plot_horizontal_and_time_ave(api_output_formatted_list,colors)  \n"
   ]
  },
  {
   "cell_type": "markdown",
   "id": "2a99b7ce",
   "metadata": {},
   "source": [
    "Now, let's create a shaded plot showing all the profiles (in an order based on a coordinate of interest, e.g. longitude, latitude, timestamp) and all the levels."
   ]
  },
  {
   "cell_type": "code",
   "execution_count": null,
   "id": "cc93fe60",
   "metadata": {
    "scrolled": false
   },
   "outputs": [],
   "source": [
    "# select the variable of interest for the sorting:\n",
    "# woceline: look at the map above and choose what makes most sense between longitude and latitude\n",
    "# argo platform: 'timestamp' is generally a good choice; the cycle number would be good too, yet \n",
    "# it is not currently stored in api_output_formatted_list\n",
    "var2use_for_sorting = 'latitude'\n",
    "\n",
    "api_output_formatted_list_parameter_2d_plot(api_output_formatted_list,var2use_for_sorting=var2use_for_sorting)\n"
   ]
  },
  {
   "cell_type": "code",
   "execution_count": null,
   "id": "47ea971b",
   "metadata": {
    "scrolled": false
   },
   "outputs": [],
   "source": []
  },
  {
   "cell_type": "code",
   "execution_count": null,
   "id": "dbb24ed7",
   "metadata": {
    "scrolled": false
   },
   "outputs": [],
   "source": []
  },
  {
   "cell_type": "code",
   "execution_count": null,
   "id": "b6703df6",
   "metadata": {
    "scrolled": false
   },
   "outputs": [],
   "source": [
    "# other options not yet included:\n",
    "# draw the shape of interest in the maps showing profiles?\n",
    "# bin in time? \n",
    "# plot coloring by month or season"
   ]
  }
 ],
 "metadata": {
  "kernelspec": {
   "display_name": "argovis_demos",
   "language": "python",
   "name": "argovis_demos"
  },
  "language_info": {
   "codemirror_mode": {
    "name": "ipython",
    "version": 3
   },
   "file_extension": ".py",
   "mimetype": "text/x-python",
   "name": "python",
   "nbconvert_exporter": "python",
   "pygments_lexer": "ipython3",
   "version": "3.9.13"
  },
  "toc": {
   "base_numbering": 1,
   "nav_menu": {},
   "number_sections": true,
   "sideBar": true,
   "skip_h1_title": false,
   "title_cell": "Table of Contents",
   "title_sidebar": "Contents",
   "toc_cell": false,
   "toc_position": {},
   "toc_section_display": true,
   "toc_window_display": false
  }
 },
 "nbformat": 4,
 "nbformat_minor": 5
}
