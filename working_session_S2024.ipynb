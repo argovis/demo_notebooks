{
 "cells": [
  {
   "cell_type": "markdown",
   "id": "f44adf8a",
   "metadata": {},
   "source": [
    "# Working session S2024\n",
    "\n",
    "This notebook contains some examples and is a work in progress: code will transition from here to other notebooks. Public consumers should focus on our educational notebooks, starting with [Intro to Argovis](https://github.com/argovis/demo_notebooks/blob/main/Intro_to_Argovis.ipynb)."
   ]
  },
  {
   "cell_type": "code",
   "execution_count": null,
   "id": "12d549c0",
   "metadata": {},
   "outputs": [],
   "source": [
    "from argovisHelpers import helpers as avh\n",
    "import datetime, pandas, matplotlib, scipy, numpy\n",
    "import numpy as np\n",
    "import matplotlib.pyplot as plt\n",
    "from matplotlib import cm\n",
    "\n",
    "import dateutil\n",
    "\n",
    "from Exploring_Argo_BGC_with_Argovis_helpers import interpolate\n",
    "import helpers\n",
    "\n",
    "API_ROOT='https://argovis-api.colorado.edu/'\n",
    "API_KEY=''"
   ]
  },
  {
   "cell_type": "code",
   "execution_count": null,
   "id": "c337b7b0",
   "metadata": {},
   "outputs": [],
   "source": [
    "# get doxy profiles in a region and time period of interest\n",
    "\n",
    "variable             = 'doxy' # variable name in Argo profiles\n",
    "variable_gridded     = 'oxygen' # variable name in glodap gridded product\n",
    "product_gridded      = 'glodap'\n",
    "variable_title       = 'Oxygen, umol/kg'\n",
    "\n",
    "# variable             = 'temperature' # variable name in Argo profiles\n",
    "# variable_gridded     = 'rg09_temperature' # variable name in glodap gridded product\n",
    "# product_gridded      = 'rg09'\n",
    "# variable_title       = 'Temperature, degC'\n",
    "\n",
    "variable             = 'salinity' # variable name in Argo profiles\n",
    "variable_gridded     = 'rg09_salinity' # variable name in glodap gridded product\n",
    "product_gridded      = 'rg09'\n",
    "variable_title       = 'Salinity, psu'\n",
    "\n",
    "# levels for vertically integrated profiles\n",
    "interp_levels        = list(range(10,2001))[0::20]\n",
    "\n",
    "# in this example, we will use the 'box' selection (in the next cell),\n",
    "# hence we indicate here the bottom/left and top/right vertices... \n",
    "# the other option is to search in a 'polygon' and indicate here the polygon\n",
    "# vertices in a list\n",
    "box_regions_list     = [\n",
    "                        [[-35.5,48.5],[-32.5,50.5]],\n",
    "    \n",
    "                        ]\n",
    "# ,\n",
    "# [[-275.6309525143811,19.12926798389727],[-265.28643702838974,18.918199016792155],[-265.5841209272672,23.768490101412514],[-275.8542154385392,23.83658095706345],[-275.6309525143811,19.12926798389727]]\n",
    "\n",
    "startDate            = '2000-01-01T00:00:00Z'\n",
    "endDate              = '2024-03-31T00:00:00Z'\n",
    "\n",
    "# box_regions_list     = [\n",
    "#                         [[-78,45],[-10,50]],\n",
    "#                         [[-180,45],[-127,50]],\n",
    "#                         ]"
   ]
  },
  {
   "cell_type": "code",
   "execution_count": null,
   "id": "5c90849b",
   "metadata": {},
   "outputs": [],
   "source": [
    "!date\n",
    "\n",
    "regions_list_data                 = []\n",
    "regions_list_data_noave           = []\n",
    "regions_list_data_levels          = []\n",
    "regions_list_data_time            = []\n",
    "regions_list_data_noave_nointerp  = []\n",
    "regions_list_data_grid_axarray    = []\n",
    "############ Get the data for each of the regions of interest\n",
    "for ireg in box_regions_list:\n",
    "    ###### get profiles in region using Argovis API: query only values with QC = 1\n",
    "    argo = {\n",
    "            'startDate': startDate,\n",
    "            'endDate': endDate,\n",
    "            'box': ireg,\n",
    "            'data': variable+',1'\n",
    "            } # querying only profiles that have good qc doxy \n",
    "            # 'polygon': ireg,\n",
    "\n",
    "    profiles = avh.query('argo', options=argo, apikey=API_KEY, apiroot=API_ROOT) \n",
    "    \n",
    "    ###### store data as is and interpolated\n",
    "    if len(profiles)>0:\n",
    "        ## interpolate profiles   \n",
    "        interpolated_profiles      = []\n",
    "        interpolated_profiles_time = []\n",
    "        interpolated_profiles_lon  = []\n",
    "        interpolated_profiles_lat  = []\n",
    "        for i in list(range(0,len(profiles)-1)):\n",
    "            if len(profiles[i]['data'][0]) > 1:\n",
    "                interpolated_profiles.append(interpolate(profiles[i],interp_levels))\n",
    "                interpolated_profiles_time.append(dateutil.parser.isoparse(profiles[i]['timestamp'])) \n",
    "                interpolated_profiles_lon.append(profiles[i]['geolocation']['coordinates'][0])\n",
    "                interpolated_profiles_lat.append(profiles[i]['geolocation']['coordinates'][1])\n",
    "        # shape variable into something appropriate\n",
    "        data = [x['data'] for x in interpolated_profiles]\n",
    "        data = [[level[variable] for level in x] for x in data]\n",
    "\n",
    "        ## store profile data\n",
    "        regions_list_data_noave.append(data)\n",
    "        regions_list_data_noave_nointerp.append([x['data'] for x in profiles])\n",
    "        data = np.transpose(data)\n",
    "        regions_list_data.append(np.nanmean(data,1))\n",
    "        regions_list_data_levels.append(interp_levels)\n",
    "        regions_list_data_time.append(interpolated_profiles_time)\n",
    "\n",
    "        ## quick plot of profiles in region\n",
    "        plt.figure()\n",
    "        plt.plot(interpolated_profiles_lon,interpolated_profiles_lat,marker='*',linestyle='none')\n",
    "        plt.xlabel('Longitude')\n",
    "        plt.ylabel('Latitude')\n",
    "    \n",
    "!date    "
   ]
  },
  {
   "cell_type": "code",
   "execution_count": null,
   "id": "e62b0fa7",
   "metadata": {
    "scrolled": true
   },
   "outputs": [],
   "source": [
    "!date\n",
    "####### do the same for gridded data\n",
    "for ireg in box_regions_list:\n",
    "    # get grid points in a region using the Argovis API\n",
    "    grids_opt = {\n",
    "            'box': ireg,\n",
    "            'data': variable_gridded\n",
    "            } # querying only profiles that have good qc doxy\n",
    "\n",
    "    grids = avh.query('grids/'+product_gridded, options=grids_opt, apikey=API_KEY, apiroot=API_ROOT)\n",
    "    grids_opt  = {\n",
    "                    \"id\": grids[0]['metadata'][0]\n",
    "                    }\n",
    "    grids_meta = avh.query('grids/meta', options=grids_opt, apikey=API_KEY, apiroot=API_ROOT)\n",
    "    !date\n",
    "    \n",
    "    if 'glodap' in product_gridded:\n",
    "        xar = helpers.grids_to_xarray(grids,grids_meta)\n",
    "    elif 'rg09' in product_gridded:\n",
    "        df = helpers.level_df(grids, \n",
    "            [variable_gridded, 'longitude', 'latitude', 'timestamp'], \n",
    "            per_level_pressures=grids_meta[0]['levels'], \n",
    "            index=[\"latitude\",\"longitude\",\"timestamp\",\"pressure\"]\n",
    "            )\n",
    "        df = df.rename(columns={variable_gridded: \"data\"})\n",
    "        xar = df.to_xarray()\n",
    "        # time mean\n",
    "        xar = xar.mean(dim='timestamp')\n",
    "    else:\n",
    "        to_complete\n",
    "    \n",
    "    # store data\n",
    "    regions_list_data_grid_axarray.append(xar)\n",
    "    regions_list_data.append(helpers.regional_mean(xar)['data'].values.flatten())\n",
    "    regions_list_data_levels.append(grids_meta[0]['levels'])\n",
    "        \n",
    "!date        \n"
   ]
  },
  {
   "cell_type": "code",
   "execution_count": null,
   "id": "d80fdb02",
   "metadata": {},
   "outputs": [],
   "source": [
    "grids_meta"
   ]
  },
  {
   "cell_type": "code",
   "execution_count": null,
   "id": "4b8b51db",
   "metadata": {},
   "outputs": [],
   "source": [
    "# plot the map for one timestep/level for each of the gridded products\n",
    "for iaxr in regions_list_data_grid_axarray:\n",
    "    plt.figure()\n",
    "    iaxr['data'][:,:,0].plot()"
   ]
  },
  {
   "cell_type": "code",
   "execution_count": null,
   "id": "5b8858ba",
   "metadata": {},
   "outputs": [],
   "source": [
    "cols = ['k','r','b','m']"
   ]
  },
  {
   "cell_type": "code",
   "execution_count": null,
   "id": "04bfe9c8",
   "metadata": {},
   "outputs": [],
   "source": [
    "# plot the horizontal average for (vertically) interpolated profiles and for the gridded product\n",
    "for i,idata in enumerate(regions_list_data):\n",
    "    plt.plot(idata,regions_list_data_levels[i],color=cols[i],linewidth=3)\n",
    "plt.gca().invert_yaxis()\n",
    "plt.ylabel('Vertical level')\n",
    "plt.xlabel(variable_title)"
   ]
  },
  {
   "cell_type": "code",
   "execution_count": null,
   "id": "40fb3f78",
   "metadata": {},
   "outputs": [],
   "source": [
    "# plot raw profiles that go into the average\n",
    "for i,idata in enumerate(regions_list_data_noave_nointerp):\n",
    "    for iidata in idata:\n",
    "        \n",
    "        plt.plot(iidata[0],iidata[1],color=cols[i]) #,marker='.'\n",
    "        \n",
    "        # check for oxygen data\n",
    "        if ('doxy' in variable) and sum(np.array(iidata[0])<0) != 0:\n",
    "            check_data\n",
    "#plt.ylim([0, 20])\n",
    "plt.gca().invert_yaxis()        \n",
    "plt.ylabel('Vertical level')\n",
    "plt.xlabel(variable_title)\n"
   ]
  },
  {
   "cell_type": "code",
   "execution_count": null,
   "id": "67bc97e3",
   "metadata": {
    "scrolled": true
   },
   "outputs": [],
   "source": [
    "# plot vertically integrated profiles that go into the average\n",
    "for i,idata in enumerate(regions_list_data_noave):\n",
    "    for ii,iidata in enumerate(idata):\n",
    "        \n",
    "        plt.plot(iidata,regions_list_data_levels[i],color=cols[i])\n",
    "        if sum(np.array(iidata)<0) != 0:\n",
    "            ciao\n",
    "plt.gca().invert_yaxis()"
   ]
  },
  {
   "cell_type": "code",
   "execution_count": null,
   "id": "dd44010a",
   "metadata": {},
   "outputs": [],
   "source": [
    "#regions_list_data_time_month = [x.month for y in regions_list_data_time for x in y]\n",
    "# plot raw profiles that go into the average colorcoded by month of year\n",
    "for i,idata in enumerate(regions_list_data_noave_nointerp):\n",
    "    itime = regions_list_data_time[i]\n",
    "    for ii,iidata in enumerate(idata):\n",
    "        \n",
    "        if ii<=len(itime)-1 and itime[ii].month in [6, 7, 8]:\n",
    "            plt.plot(iidata[0],iidata[1],c='k',marker='.')\n",
    "            \n",
    "        # check for oxygen data\n",
    "        if ('doxy' in variable) and sum(np.array(iidata[0])<0) != 0:\n",
    "            check_data\n",
    "plt.ylim([0, 20])\n",
    "plt.gca().invert_yaxis()        \n",
    "plt.ylabel('Vertical level')\n",
    "plt.xlabel(variable_title)"
   ]
  },
  {
   "cell_type": "code",
   "execution_count": null,
   "id": "fdffcdf2",
   "metadata": {},
   "outputs": [],
   "source": []
  }
 ],
 "metadata": {
  "kernelspec": {
   "display_name": "argovis_demos",
   "language": "python",
   "name": "argovis_demos"
  },
  "language_info": {
   "codemirror_mode": {
    "name": "ipython",
    "version": 3
   },
   "file_extension": ".py",
   "mimetype": "text/x-python",
   "name": "python",
   "nbconvert_exporter": "python",
   "pygments_lexer": "ipython3",
   "version": "3.9.13"
  },
  "toc": {
   "base_numbering": 1,
   "nav_menu": {},
   "number_sections": true,
   "sideBar": true,
   "skip_h1_title": false,
   "title_cell": "Table of Contents",
   "title_sidebar": "Contents",
   "toc_cell": false,
   "toc_position": {},
   "toc_section_display": true,
   "toc_window_display": false
  }
 },
 "nbformat": 4,
 "nbformat_minor": 5
}
