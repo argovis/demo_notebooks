{
 "cells": [
  {
   "cell_type": "markdown",
   "id": "1f95874c",
   "metadata": {},
   "source": [
    "# Working session S2024\n",
    "\n",
    "This notebook contains some examples and is a work in progress: code will transition from here to other notebooks. Public consumers should focus on our educational notebooks, starting with [Intro to Argovis](https://github.com/argovis/demo_notebooks/blob/main/Intro_to_Argovis.ipynb)."
   ]
  },
  {
   "cell_type": "code",
   "execution_count": 1,
   "id": "24cef67f",
   "metadata": {},
   "outputs": [
    {
     "name": "stderr",
     "output_type": "stream",
     "text": [
      "/Users/dgiglio/opt/miniconda3/envs/argovis_demos/lib/python3.9/site-packages/xarray/backends/cfgrib_.py:27: UserWarning: Failed to load cfgrib - most likely there is a problem accessing the ecCodes library. Try `import cfgrib` to get the full error message\n",
      "  warnings.warn(\n"
     ]
    }
   ],
   "source": [
    "from argovisHelpers import helpers as avh\n",
    "import datetime, pandas, matplotlib, scipy, numpy\n",
    "import numpy as np\n",
    "import matplotlib.pyplot as plt\n",
    "from matplotlib import cm\n",
    "\n",
    "import dateutil\n",
    "\n",
    "from Exploring_Argo_BGC_with_Argovis_helpers import interpolate\n",
    "import helpers\n",
    "\n",
    "API_ROOT='https://argovis-api.colorado.edu/'\n",
    "API_KEY=''"
   ]
  },
  {
   "cell_type": "code",
   "execution_count": 2,
   "id": "184d5daa",
   "metadata": {},
   "outputs": [],
   "source": [
    "# get doxy profiles in a region and time period of interest\n",
    "\n",
    "variable             = 'doxy' # variable name in Argo profiles\n",
    "variable_gridded     = 'oxygen' # variable name in glodap gridded product\n",
    "product_gridded      = 'glodap'\n",
    "variable_title       = 'Oxygen, umol/kg'\n",
    "\n",
    "# variable             = 'temperature' # variable name in Argo profiles\n",
    "# variable_gridded     = 'rg09_temperature' # variable name in glodap gridded product\n",
    "# product_gridded      = 'rg09'\n",
    "# variable_title       = 'Temperature, degC'\n",
    "\n",
    "# levels for vertically integrated profiles\n",
    "interp_levels        = list(range(10,2001))[0::20]\n",
    "\n",
    "# in this example, we will use the 'box' selection (in the next cell),\n",
    "# hence we indicate here the bottom/left and top/right vertices... \n",
    "# the other option is to search in a 'polygon' and indicate here the polygon\n",
    "# vertices in a list\n",
    "box_regions_list     = [\n",
    "                        [[-35.5,48.5],[-32.5,50.5]],\n",
    "                        ]\n",
    "\n",
    "startDate            = '2017-12-01T00:00:00Z'\n",
    "endDate              = '2018-02-28T00:00:00Z'\n",
    "\n",
    "# box_regions_list     = [\n",
    "#                         [[-78,45],[-10,50]],\n",
    "#                         [[-180,45],[-127,50]],\n",
    "#                         ]"
   ]
  },
  {
   "cell_type": "code",
   "execution_count": 3,
   "id": "7be7a1e6",
   "metadata": {},
   "outputs": [
    {
     "name": "stdout",
     "output_type": "stream",
     "text": [
      "Tue Mar 26 01:20:53 PDT 2024\n",
      "Tue Mar 26 01:21:05 PDT 2024\n"
     ]
    },
    {
     "name": "stderr",
     "output_type": "stream",
     "text": [
      "/var/folders/_s/nblpp06j39x1pl4r70lks48m0000gn/T/ipykernel_86500/3031218365.py:42: RuntimeWarning: Mean of empty slice\n",
      "  regions_list_data.append(np.nanmean(data,1))\n"
     ]
    },
    {
     "data": {
      "image/png": "[encoded data removed]",
      "text/plain": [
       "<Figure size 432x288 with 1 Axes>"
      ]
     },
     "metadata": {
      "needs_background": "light"
     },
     "output_type": "display_data"
    }
   ],
   "source": [
    "!date\n",
    "\n",
    "regions_list_data                 = []\n",
    "regions_list_data_noave           = []\n",
    "regions_list_data_levels          = []\n",
    "regions_list_data_noave_nointerp  = []\n",
    "regions_list_data_grid_axarray    = []\n",
    "############ Get the data for each of the regions of interest\n",
    "for ireg in box_regions_list:\n",
    "    ###### get profiles in region using Argovis API: query only values with QC = 1\n",
    "    argo = {\n",
    "            'startDate': startDate,\n",
    "            'endDate': endDate,\n",
    "            'box': ireg,\n",
    "            'data': variable+',1'\n",
    "            } # querying only profiles that have good qc doxy \n",
    "            # 'polygon': ireg,\n",
    "\n",
    "    profiles = avh.query('argo', options=argo, apikey=API_KEY, apiroot=API_ROOT) \n",
    "    \n",
    "    ###### store data as is and interpolated\n",
    "    if len(profiles)>0:\n",
    "        ## interpolate profiles   \n",
    "        interpolated_profiles      = []\n",
    "        interpolated_profiles_time = []\n",
    "        interpolated_profiles_lon  = []\n",
    "        interpolated_profiles_lat  = []\n",
    "        for i in list(range(0,len(profiles)-1)):\n",
    "            if len(profiles[i]['data'][0]) > 1:\n",
    "                interpolated_profiles.append(interpolate(profiles[i],interp_levels))\n",
    "                interpolated_profiles_time.append(dateutil.parser.isoparse(profiles[i]['timestamp'])) \n",
    "                interpolated_profiles_lon.append(profiles[i]['geolocation']['coordinates'][0])\n",
    "                interpolated_profiles_lat.append(profiles[i]['geolocation']['coordinates'][1])\n",
    "        # shape variable into something appropriate\n",
    "        data = [x['data'] for x in interpolated_profiles]\n",
    "        data = [[level[variable] for level in x] for x in data]\n",
    "\n",
    "        ## store profile data\n",
    "        regions_list_data_noave.append(data)\n",
    "        regions_list_data_noave_nointerp.append([x['data'] for x in profiles])\n",
    "        data = np.transpose(data)\n",
    "        regions_list_data.append(np.nanmean(data,1))\n",
    "        regions_list_data_levels.append(interp_levels)\n",
    "\n",
    "        ## quick plot of profiles in region\n",
    "        plt.figure()\n",
    "        plt.plot(interpolated_profiles_lon,interpolated_profiles_lat,marker='*',linestyle='none')\n",
    "        plt.xlabel('Longitude')\n",
    "        plt.ylabel('Latitude')\n",
    "    \n",
    "!date    "
   ]
  },
  {
   "cell_type": "code",
   "execution_count": 4,
   "id": "a135f103",
   "metadata": {
    "scrolled": true
   },
   "outputs": [
    {
     "name": "stdout",
     "output_type": "stream",
     "text": [
      "Tue Mar 26 01:21:05 PDT 2024\n",
      "Tue Mar 26 01:21:14 PDT 2024\n",
      "Tue Mar 26 01:21:14 PDT 2024\n"
     ]
    }
   ],
   "source": [
    "!date\n",
    "####### do the same for gridded data\n",
    "for ireg in box_regions_list:\n",
    "    # get grid points in a region using the Argovis API\n",
    "    grids_opt = {\n",
    "            'box': ireg,\n",
    "            'data': variable_gridded\n",
    "            } # querying only profiles that have good qc doxy\n",
    "\n",
    "    grids = avh.query('grids/'+product_gridded, options=grids_opt, apikey=API_KEY, apiroot=API_ROOT)\n",
    "    grids_opt  = {\n",
    "                    \"id\": grids[0]['metadata'][0]\n",
    "                    }\n",
    "    grids_meta = avh.query('grids/meta', options=grids_opt, apikey=API_KEY, apiroot=API_ROOT)\n",
    "    !date\n",
    "    \n",
    "    if 'glodap' in product_gridded:\n",
    "        xar = helpers.grids_to_xarray(grids,grids_meta)\n",
    "    elif 'rg09' in product_gridded:\n",
    "        df = helpers.level_df(grids, \n",
    "            [variable_gridded, 'longitude', 'latitude', 'timestamp'], \n",
    "            per_level_pressures=grids_meta[0]['levels'], \n",
    "            index=[\"latitude\",\"longitude\",\"timestamp\",\"pressure\"]\n",
    "            )\n",
    "        df = df.rename(columns={variable_gridded: \"data\"})\n",
    "        xar = df.to_xarray()\n",
    "        # time mean\n",
    "        xar = xar.mean(dim='timestamp')\n",
    "    else:\n",
    "        to_complete\n",
    "    \n",
    "    # store data\n",
    "    regions_list_data_grid_axarray.append(xar)\n",
    "    regions_list_data.append(helpers.regional_mean(xar)['data'].values.flatten())\n",
    "    regions_list_data_levels.append(grids_meta[0]['levels'])\n",
    "        \n",
    "!date        \n"
   ]
  },
  {
   "cell_type": "code",
   "execution_count": 5,
   "id": "33067aab",
   "metadata": {},
   "outputs": [
    {
     "data": {
      "text/plain": [
       "[{'_id': 'glodapv2.2016b',\n",
       "  'data_type': 'glodap',\n",
       "  'date_updated_argovis': '2023-07-27T18:41:04.941Z',\n",
       "  'source': [{'source': ['GLODAPv2.2016b'],\n",
       "    'url': 'https://glodap.info/index.php/mapped-data-product/',\n",
       "    'doi': '10.5194/essd-8-325-2016'}],\n",
       "  'levels': [0,\n",
       "   10,\n",
       "   20,\n",
       "   30,\n",
       "   50,\n",
       "   75,\n",
       "   100,\n",
       "   125,\n",
       "   150,\n",
       "   200,\n",
       "   250,\n",
       "   300,\n",
       "   400,\n",
       "   500,\n",
       "   600,\n",
       "   700,\n",
       "   800,\n",
       "   900,\n",
       "   1000,\n",
       "   1100,\n",
       "   1200,\n",
       "   1300,\n",
       "   1400,\n",
       "   1500,\n",
       "   1750,\n",
       "   2000,\n",
       "   2500,\n",
       "   3000,\n",
       "   3500,\n",
       "   4000,\n",
       "   4500,\n",
       "   5000,\n",
       "   5500],\n",
       "  'data_info': [['Cant',\n",
       "    'Cant_error',\n",
       "    'Cant_Input_mean',\n",
       "    'Cant_Input_std',\n",
       "    'Cant_Input_N',\n",
       "    'Cant_relerr',\n",
       "    'NO3',\n",
       "    'NO3_error',\n",
       "    'NO3_Input_mean',\n",
       "    'NO3_Input_std',\n",
       "    'NO3_Input_N',\n",
       "    'NO3_relerr',\n",
       "    'OmegaA',\n",
       "    'OmegaA_error',\n",
       "    'OmegaA_Input_mean',\n",
       "    'OmegaA_Input_std',\n",
       "    'OmegaA_Input_N',\n",
       "    'OmegaA_relerr',\n",
       "    'OmegaC',\n",
       "    'OmegaC_error',\n",
       "    'OmegaC_Input_mean',\n",
       "    'OmegaC_Input_std',\n",
       "    'OmegaC_Input_N',\n",
       "    'OmegaC_relerr',\n",
       "    'oxygen',\n",
       "    'oxygen_error',\n",
       "    'oxygen_Input_mean',\n",
       "    'oxygen_Input_std',\n",
       "    'oxygen_Input_N',\n",
       "    'oxygen_relerr',\n",
       "    'pHts25p0',\n",
       "    'pHts25p0_error',\n",
       "    'pHts25p0_Input_mean',\n",
       "    'pHts25p0_Input_std',\n",
       "    'pHts25p0_Input_N',\n",
       "    'pHts25p0_relerr',\n",
       "    'pHtsinsitutp',\n",
       "    'pHtsinsitutp_error',\n",
       "    'pHtsinsitutp_Input_mean',\n",
       "    'pHtsinsitutp_Input_std',\n",
       "    'pHtsinsitutp_Input_N',\n",
       "    'pHtsinsitutp_relerr',\n",
       "    'PI_TCO2',\n",
       "    'PI_TCO2_error',\n",
       "    'PI_TCO2_Input_mean',\n",
       "    'PI_TCO2_Input_std',\n",
       "    'PI_TCO2_Input_N',\n",
       "    'PI_TCO2_relerr',\n",
       "    'PO4',\n",
       "    'PO4_error',\n",
       "    'PO4_Input_mean',\n",
       "    'PO4_Input_std',\n",
       "    'PO4_Input_N',\n",
       "    'PO4_relerr',\n",
       "    'salinity',\n",
       "    'salinity_error',\n",
       "    'salinity_Input_mean',\n",
       "    'salinity_Input_std',\n",
       "    'salinity_Input_N',\n",
       "    'salinity_relerr',\n",
       "    'silicate',\n",
       "    'silicate_error',\n",
       "    'silicate_Input_mean',\n",
       "    'silicate_Input_std',\n",
       "    'silicate_Input_N',\n",
       "    'silicate_relerr',\n",
       "    'TAlk',\n",
       "    'TAlk_error',\n",
       "    'TAlk_Input_mean',\n",
       "    'TAlk_Input_std',\n",
       "    'TAlk_Input_N',\n",
       "    'TAlk_relerr',\n",
       "    'TCO2',\n",
       "    'TCO2_error',\n",
       "    'TCO2_Input_mean',\n",
       "    'TCO2_Input_std',\n",
       "    'TCO2_Input_N',\n",
       "    'TCO2_relerr',\n",
       "    'temperature',\n",
       "    'temperature_error',\n",
       "    'temperature_Input_mean',\n",
       "    'temperature_Input_std',\n",
       "    'temperature_Input_N',\n",
       "    'temperature_relerr'],\n",
       "   ['units', 'long_name'],\n",
       "   [['micro-mol kg-1',\n",
       "     'moles of anthropogenic carbon content per unit mass in seawater'],\n",
       "    ['micro-mol kg-1', 'anthropogenic carbon content error'],\n",
       "    ['micro-mol kg-1', 'bin averaged input data'],\n",
       "    ['micro-mol kg-1', 'standard deviation of bin averaged input data'],\n",
       "    ['', 'number of data in bins'],\n",
       "    ['', 'relative error'],\n",
       "    ['micro-mol kg-1', 'moles of nitrate per unit mass in seawater'],\n",
       "    ['micro-mol kg-1', 'nitrate error'],\n",
       "    ['micro-mol kg-1', 'bin averaged input data'],\n",
       "    ['micro-mol kg-1', 'standard deviation of bin averaged input data'],\n",
       "    ['', 'number of data in bins'],\n",
       "    ['', 'relative error'],\n",
       "    ['',\n",
       "     'aragonite saturation state calculated at in situ temperature and pressure'],\n",
       "    ['', 'OmegaAr error'],\n",
       "    ['micro-mol kg-1', 'bin averaged input data'],\n",
       "    ['micro-mol kg-1', 'standard deviation of bin averaged input data'],\n",
       "    ['', 'number of data in bins'],\n",
       "    ['', 'relative error'],\n",
       "    ['',\n",
       "     'calcite saturation state calculated at in situ temperature and pressure'],\n",
       "    ['', 'OmegaCa error'],\n",
       "    ['micro-mol kg-1', 'bin averaged input data'],\n",
       "    ['micro-mol kg-1', 'standard deviation of bin averaged input data'],\n",
       "    ['', 'number of data in bins'],\n",
       "    ['', 'relative error'],\n",
       "    ['micro-mol kg-1',\n",
       "     'moles of dissolved molecular oxygen per unit mass in seawater'],\n",
       "    ['micro-mol kg-1', 'dissolved molecular oxygen error'],\n",
       "    ['micro-mol kg-1', 'bin averaged input data'],\n",
       "    ['micro-mol kg-1', 'standard deviation of bin averaged input data'],\n",
       "    ['', 'number of data in bins'],\n",
       "    ['', 'relative error'],\n",
       "    ['',\n",
       "     'seawater ph reported on total scale at standard temperature (25C) and pressure (0dbar)'],\n",
       "    ['', 'pH error'],\n",
       "    ['micro-mol kg-1', 'bin averaged input data'],\n",
       "    ['micro-mol kg-1', 'standard deviation of bin averaged input data'],\n",
       "    ['', 'number of data in bins'],\n",
       "    ['', 'relative error'],\n",
       "    ['',\n",
       "     'seawater ph reported on total scale at in situ temperature and pressure'],\n",
       "    ['', 'pH error'],\n",
       "    ['micro-mol kg-1', 'bin averaged input data'],\n",
       "    ['micro-mol kg-1', 'standard deviation of bin averaged input data'],\n",
       "    ['', 'number of data in bins'],\n",
       "    ['', 'relative error'],\n",
       "    ['micro-mol kg-1',\n",
       "     'moles of pre-industrial dissolved inorganic carbon per unit mass in seawater'],\n",
       "    ['micro-mol kg-1', 'pre-industrial dissolved inorganic carbon error'],\n",
       "    ['micro-mol kg-1', 'bin averaged input data'],\n",
       "    ['micro-mol kg-1', 'standard deviation of bin averaged input data'],\n",
       "    ['', 'number of data in bins'],\n",
       "    ['', 'relative error'],\n",
       "    ['micro-mol kg-1', 'moles of phosphate per unit mass in seawater'],\n",
       "    ['micro-mol kg-1', 'phosphate error'],\n",
       "    ['micro-mol kg-1', 'bin averaged input data'],\n",
       "    ['micro-mol kg-1', 'standard deviation of bin averaged input data'],\n",
       "    ['', 'number of data in bins'],\n",
       "    ['', 'relative error'],\n",
       "    ['', 'seawater practical salinity'],\n",
       "    ['', 'practical salinity error'],\n",
       "    ['micro-mol kg-1', 'bin averaged input data'],\n",
       "    ['micro-mol kg-1', 'standard deviation of bin averaged input data'],\n",
       "    ['', 'number of data in bins'],\n",
       "    ['', 'relative error'],\n",
       "    ['micro-mol kg-1', 'moles of silicate per unit mass in seawater'],\n",
       "    ['micro-mol kg-1', 'silicate error'],\n",
       "    ['micro-mol kg-1', 'bin averaged input data'],\n",
       "    ['micro-mol kg-1', 'standard deviation of bin averaged input data'],\n",
       "    ['', 'number of data in bins'],\n",
       "    ['', 'relative error'],\n",
       "    ['micro-mol kg-1',\n",
       "     'seawater alkalinity expressed as mole equivalent per unit mass'],\n",
       "    ['micro-mol kg-1', 'total alkalinity error'],\n",
       "    ['micro-mol kg-1', 'bin averaged input data'],\n",
       "    ['micro-mol kg-1', 'standard deviation of bin averaged input data'],\n",
       "    ['', 'number of data in bins'],\n",
       "    ['', 'relative error'],\n",
       "    ['micro-mol kg-1',\n",
       "     'moles of dissolved inorganic carbon per unit mass in seawater'],\n",
       "    ['micro-mol kg-1', 'dissolved inorganic carbon error'],\n",
       "    ['micro-mol kg-1', 'bin averaged input data'],\n",
       "    ['micro-mol kg-1', 'standard deviation of bin averaged input data'],\n",
       "    ['', 'number of data in bins'],\n",
       "    ['', 'relative error'],\n",
       "    ['degrees celcius', 'seawater temperature'],\n",
       "    ['degrees celcius', 'temperature error'],\n",
       "    ['micro-mol kg-1', 'bin averaged input data'],\n",
       "    ['micro-mol kg-1', 'standard deviation of bin averaged input data'],\n",
       "    ['', 'number of data in bins'],\n",
       "    ['', 'relative error']]],\n",
       "  'snr': {'Cant': 10,\n",
       "   'NO3': 10,\n",
       "   'OmegaA': 10,\n",
       "   'OmegaC': 10,\n",
       "   'oxygen': 10,\n",
       "   'pHts25p0': 10,\n",
       "   'pHtsinsitutp': 10,\n",
       "   'PI_TCO2': 10,\n",
       "   'PO4': 10,\n",
       "   'salinity': 10,\n",
       "   'silicate': 10,\n",
       "   'TAlk': 10,\n",
       "   'TCO2': 10,\n",
       "   'temperature': 10},\n",
       "  'cl': {'Cant': 7,\n",
       "   'NO3': 7,\n",
       "   'OmegaA': 7,\n",
       "   'OmegaC': 7,\n",
       "   'oxygen': 7,\n",
       "   'pHts25p0': 7,\n",
       "   'pHtsinsitutp': 7,\n",
       "   'PI_TCO2': 7,\n",
       "   'PO4': 7,\n",
       "   'salinity': 7,\n",
       "   'silicate': 7,\n",
       "   'TAlk': 7,\n",
       "   'TCO2': 7,\n",
       "   'temperature': 7},\n",
       "  'level_units': 'm'}]"
      ]
     },
     "execution_count": 5,
     "metadata": {},
     "output_type": "execute_result"
    }
   ],
   "source": [
    "grids_meta"
   ]
  },
  {
   "cell_type": "code",
   "execution_count": 6,
   "id": "7175e9ce",
   "metadata": {},
   "outputs": [
    {
     "data": {
      "image/png": "[encoded data removed]",
      "text/plain": [
       "<Figure size 432x288 with 2 Axes>"
      ]
     },
     "metadata": {
      "needs_background": "light"
     },
     "output_type": "display_data"
    }
   ],
   "source": [
    "# plot the map for one timestep/level for each of the gridded products\n",
    "for iaxr in regions_list_data_grid_axarray:\n",
    "    plt.figure()\n",
    "    iaxr['data'][:,:,0].plot()"
   ]
  },
  {
   "cell_type": "code",
   "execution_count": 7,
   "id": "448b6401",
   "metadata": {},
   "outputs": [],
   "source": [
    "cols = ['k','r','b','m']"
   ]
  },
  {
   "cell_type": "code",
   "execution_count": 8,
   "id": "a307c332",
   "metadata": {},
   "outputs": [
    {
     "data": {
      "text/plain": [
       "Text(0.5, 0, 'Oxygen, umol/kg')"
      ]
     },
     "execution_count": 8,
     "metadata": {},
     "output_type": "execute_result"
    },
    {
     "data": {
      "image/png": "[encoded data removed]",
      "text/plain": [
       "<Figure size 432x288 with 1 Axes>"
      ]
     },
     "metadata": {
      "needs_background": "light"
     },
     "output_type": "display_data"
    }
   ],
   "source": [
    "# plot the horizontal average for (vertically) interpolated profiles and for the gridded product\n",
    "for i,idata in enumerate(regions_list_data):\n",
    "    plt.plot(idata,regions_list_data_levels[i],color=cols[i],linewidth=3)\n",
    "plt.gca().invert_yaxis()\n",
    "plt.ylabel('Vertical level')\n",
    "plt.xlabel(variable_title)"
   ]
  },
  {
   "cell_type": "code",
   "execution_count": 9,
   "id": "a63a793f",
   "metadata": {},
   "outputs": [
    {
     "data": {
      "text/plain": [
       "Text(0.5, 0, 'Oxygen, umol/kg')"
      ]
     },
     "execution_count": 9,
     "metadata": {},
     "output_type": "execute_result"
    },
    {
     "data": {
      "image/png": "[encoded data removed]",
      "text/plain": [
       "<Figure size 432x288 with 1 Axes>"
      ]
     },
     "metadata": {
      "needs_background": "light"
     },
     "output_type": "display_data"
    }
   ],
   "source": [
    "# plot raw profiles that go into the average\n",
    "for i,idata in enumerate(regions_list_data_noave_nointerp):\n",
    "    for iidata in idata:\n",
    "        \n",
    "        plt.plot(iidata[0],iidata[1],color=cols[i]) #,marker='.'\n",
    "        \n",
    "        # check for oxygen data\n",
    "        if ('doxy' in variable) and sum(np.array(iidata[0])<0) != 0:\n",
    "            check_data\n",
    "plt.gca().invert_yaxis()        \n",
    "plt.ylabel('Vertical level')\n",
    "plt.xlabel(variable_title)"
   ]
  },
  {
   "cell_type": "code",
   "execution_count": 10,
   "id": "25f757f6",
   "metadata": {
    "scrolled": true
   },
   "outputs": [
    {
     "data": {
      "image/png": "[encoded data removed]",
      "text/plain": [
       "<Figure size 432x288 with 1 Axes>"
      ]
     },
     "metadata": {
      "needs_background": "light"
     },
     "output_type": "display_data"
    }
   ],
   "source": [
    "# plot vertically integrated profiles that go into the average\n",
    "for i,idata in enumerate(regions_list_data_noave):\n",
    "    for ii,iidata in enumerate(idata):\n",
    "        \n",
    "        plt.plot(iidata,regions_list_data_levels[i],color=cols[i])\n",
    "        if sum(np.array(iidata)<0) != 0:\n",
    "            ciao\n",
    "plt.gca().invert_yaxis()"
   ]
  },
  {
   "cell_type": "code",
   "execution_count": null,
   "id": "13f53deb",
   "metadata": {},
   "outputs": [],
   "source": []
  },
  {
   "cell_type": "code",
   "execution_count": null,
   "id": "60512573",
   "metadata": {},
   "outputs": [],
   "source": []
  }
 ],
 "metadata": {
  "kernelspec": {
   "display_name": "argovis_demos",
   "language": "python",
   "name": "argovis_demos"
  },
  "language_info": {
   "codemirror_mode": {
    "name": "ipython",
    "version": 3
   },
   "file_extension": ".py",
   "mimetype": "text/x-python",
   "name": "python",
   "nbconvert_exporter": "python",
   "pygments_lexer": "ipython3",
   "version": "3.9.13"
  },
  "toc": {
   "base_numbering": 1,
   "nav_menu": {},
   "number_sections": true,
   "sideBar": true,
   "skip_h1_title": false,
   "title_cell": "Table of Contents",
   "title_sidebar": "Contents",
   "toc_cell": false,
   "toc_position": {},
   "toc_section_display": true,
   "toc_window_display": false
  }
 },
 "nbformat": 4,
 "nbformat_minor": 5
}
