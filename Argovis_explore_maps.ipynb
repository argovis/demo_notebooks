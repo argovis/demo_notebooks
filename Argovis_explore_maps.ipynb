{
 "cells": [
  {
   "cell_type": "markdown",
   "id": "9fcfb5af",
   "metadata": {},
   "source": [
    "# Explore mapped fields in Argovis"
   ]
  },
  {
   "cell_type": "markdown",
   "id": "24bf0c64",
   "metadata": {},
   "source": [
    "**Please first run the code with the current settings to familiarize yourself with the notebook: after that, if needed, change the settings and run the notebook again.**"
   ]
  },
  {
   "cell_type": "markdown",
   "id": "b8cf7509",
   "metadata": {},
   "source": [
    "## Setup"
   ]
  },
  {
   "cell_type": "markdown",
   "id": "69e84183",
   "metadata": {},
   "source": [
    "In addition to importing a few python packages, make sure to plug in your Argovis API key for API_KEY in the next cell. If you don't have a free Argovis API key yet, get one at https://argovis-keygen.colorado.edu/."
   ]
  },
  {
   "cell_type": "code",
   "execution_count": 1,
   "id": "b8fed5e9",
   "metadata": {},
   "outputs": [],
   "source": [
    "from argovisHelpers import helpers as avh\n",
    "\n",
    "import matplotlib.colors as mcolors\n",
    "import matplotlib.pyplot as plt # e.g. to change the size of figures created from functions\n",
    "import copy\n",
    "\n",
    "import sys\n",
    "sys.path.append('./work_in_progress')\n",
    "\n",
    "from Argovis_tasks_helpers import get_route,list_values_for_parameter_to_api_query,show_variable_names_for_collections\n",
    "from Argovis_tasks_helpers import get_api_output_formatted_list_1var_for_regions_and_timeranges\n",
    "from Argovis_tasks_helpers import api_output_formatted_list_1var_plot_map\n",
    "\n",
    "API_ROOT='https://argovis-api.colorado.edu/'\n",
    "API_KEY=''"
   ]
  },
  {
   "cell_type": "code",
   "execution_count": 2,
   "id": "d9057f70",
   "metadata": {},
   "outputs": [],
   "source": [
    "# for a list of collections, please see the Argovis swagger page\n",
    "\n",
    "#### in the following we set parameters to plot different gridded products\n",
    "selection_params = {}\n",
    "#+++ example to use Argo profile data and the glodap gridded product (which provides time mean fields)\n",
    "selection_params['collections']  = ['timeseries/noaasst',\n",
    "                                   'timeseries/copernicussla',\n",
    "                                   'timeseries/ccmpwind',\n",
    "                                   ]\n",
    "#+++\n"
   ]
  },
  {
   "cell_type": "code",
   "execution_count": 3,
   "id": "e6e73e1c",
   "metadata": {},
   "outputs": [
    {
     "name": "stdout",
     "output_type": "stream",
     "text": [
      "https://argovis-api.colorado.edu/timeseries/noaasst/vocabulary?parameter=data\n",
      ">>>>> timeseries/noaasst\n",
      "['sst']\n",
      "https://argovis-api.colorado.edu/timeseries/copernicussla/vocabulary?parameter=data\n",
      ">>>>> timeseries/copernicussla\n",
      "['sla', 'adt', 'ugosa', 'ugos', 'vgosa', 'vgos']\n",
      "https://argovis-api.colorado.edu/timeseries/ccmpwind/vocabulary?parameter=data\n",
      ">>>>> timeseries/ccmpwind\n",
      "['uwnd', 'vwnd', 'ws', 'nobs']\n"
     ]
    }
   ],
   "source": [
    "# for each selected collection, we list the variables that are available\n",
    "vars_lists = show_variable_names_for_collections(collections_list=selection_params['collections'],API_KEY=API_KEY,verbose=True)\n"
   ]
  },
  {
   "cell_type": "code",
   "execution_count": 4,
   "id": "fc3b01d3",
   "metadata": {},
   "outputs": [],
   "source": [
    "# indicate the variable of interest for each collection\n",
    "selection_params['varnames']     = ['sst',\n",
    "                                    'sla',\n",
    "                                    'ws',\n",
    "                                    ]\n",
    "# let's indicate if we would like to store extra variables in addition to the ones above: \n",
    "# points will be returned only if they have (for that collection) the variable indicated\n",
    "# above AND any variable indicated in data_extra (i.e. for gridded products this is not\n",
    "# a real constraint as all the variables that are available, are available at all the \n",
    "# locations on the grid\n",
    "# do not forget to include a comma at the start of the string, e.g. ',salinity,temperature'\n",
    "selection_params['data_extra']   = ['',\n",
    "                                    ',ugos,vgos',\n",
    "                                    ',uwnd,vwnd',\n",
    "                                    ]\n",
    "\n",
    "selection_params['varname_temperature']     = ['',\n",
    "                                    '',\n",
    "                                    '',\n",
    "                                    ]\n",
    "selection_params['varname_salinity']     = ['',\n",
    "                                    '',\n",
    "                                    '',\n",
    "                                    ]"
   ]
  },
  {
   "cell_type": "code",
   "execution_count": 5,
   "id": "65074fca",
   "metadata": {},
   "outputs": [
    {
     "name": "stdout",
     "output_type": "stream",
     "text": [
      ">>>>> timeseries/noaasst includes selected variable, i.e. sst\n",
      ">>>>> timeseries/copernicussla includes selected variable, i.e. sla\n",
      ">>>>> timeseries/ccmpwind includes selected variable, i.e. ws\n"
     ]
    }
   ],
   "source": [
    "for i,ilist in enumerate(vars_lists):\n",
    "    if selection_params['varnames'][i] not in ilist:\n",
    "        print('>>>>> '+selection_params['collections'][i]+' does not include selected variable, i.e. '+selection_params['varnames'][i])\n",
    "        print('Here is a list of the variables that are included:')\n",
    "        print(ilist)\n",
    "        change_name_of_selected_variable_before_continuing\n",
    "    else:\n",
    "        print('>>>>> '+selection_params['collections'][i]+' includes selected variable, i.e. '+selection_params['varnames'][i])"
   ]
  },
  {
   "cell_type": "code",
   "execution_count": 6,
   "id": "5e4e236e",
   "metadata": {},
   "outputs": [
    {
     "name": "stdout",
     "output_type": "stream",
     "text": [
      "--> timeseries/noaasst\n",
      "https://argovis-api.colorado.edu/timeseries/meta?id=noaasst\n",
      "Time period available:\n",
      "1989-12-31T00:00:00.000Z\n",
      "2023-01-29T00:00:00.000Z\n",
      "--> timeseries/copernicussla\n",
      "https://argovis-api.colorado.edu/timeseries/meta?id=copernicussla\n",
      "Time period available:\n",
      "1993-01-03T00:00:00.000Z\n",
      "2022-07-24T00:00:00.000Z\n",
      "--> timeseries/ccmpwind\n",
      "https://argovis-api.colorado.edu/timeseries/meta?id=ccmpwind\n",
      "Time period available:\n",
      "1993-01-03T00:00:00.000Z\n",
      "2019-12-29T00:00:00.000Z\n"
     ]
    }
   ],
   "source": [
    "# for each collection, we show the time period of interest\n",
    "# (please note that this code will be updated in the near future to leverage upcoming summary documemnts for each collection; at that point, the information of interest will be accessed in the same way for all the collections)\n",
    "for icollection in selection_params['collections']:\n",
    "    metaQuery = {'id': icollection.split('/')[1]}\n",
    "    print('--> '+icollection)\n",
    "    meta = avh.query(icollection.split('/')[0]+'/meta', options=metaQuery, apikey=API_KEY, apiroot=get_route(icollection),verbose=True)\n",
    "    \n",
    "    try:\n",
    "        for imeta in meta:\n",
    "            if 'timeseries' in imeta.keys():\n",
    "                print('Time period available:')\n",
    "                print(imeta['timeseries'][0])\n",
    "                print(imeta['timeseries'][-1])\n",
    "    except:\n",
    "        # this is a temporary fix and only works for grids/\n",
    "        options = {'box': [[-60,27],[-59, 28]]}\n",
    "        bfr     = avh.query(icollection, options=options, apikey=API_KEY, apiroot=get_route(icollection),verbose=False)\n",
    "        bfr_time= [x['timestamp'] for x in bfr]\n",
    "        print('Time period available:')\n",
    "        print(min(bfr_time))\n",
    "        print(max(bfr_time))\n",
    "        "
   ]
  },
  {
   "cell_type": "code",
   "execution_count": 7,
   "id": "46da4d8d",
   "metadata": {},
   "outputs": [],
   "source": [
    "#### params varying with the region\n",
    "\n",
    "# in this example, we will use the 'box' selection type (i.e. we query the data within boxes),\n",
    "# hence we indicate here the bottom/left and top/right vertices for each box of interest... \n",
    "# the other option is to search in a 'polygon' and indicate the polygon\n",
    "# vertices in a list (first and last vertex should be the same)\n",
    "selection_params['regions']     = [\n",
    "                        [[-55.5,35.5],[-45.5,40.5]],\n",
    "                        ]\n",
    "selection_params['regions_type'] = ['box', 'box']\n",
    "\n",
    "selection_params['regions_tag'] = ['Atlantic','Pacific',]\n",
    "####"
   ]
  },
  {
   "cell_type": "code",
   "execution_count": 8,
   "id": "80119d82",
   "metadata": {},
   "outputs": [],
   "source": [
    "# list of startDate and endDates of interest (note: these will not be used for glodap as glodap only provides a time mean)\n",
    "selection_params['startDate']    = ['2018-01-01T00:00:00Z']\n",
    "selection_params['endDate']      = ['2018-01-17T00:00:00Z']\n",
    "\n",
    "# colors to use for the line plots\n",
    "colors = list(mcolors.TABLEAU_COLORS.keys())"
   ]
  },
  {
   "cell_type": "code",
   "execution_count": null,
   "id": "3e6a5a31",
   "metadata": {},
   "outputs": [
    {
     "name": "stdout",
     "output_type": "stream",
     "text": [
      ">>>>>>>>> timeseries/noaasst sst, Atlantic 2018-01-01 to 2018-01-17\n",
      "https://argovis-api.colorado.edu/timeseries/noaasst?data=sst&box=[[-55.5,+35.5],+[-50.5,+40.5]]&startDate=2018-01-01T00:00:00Z&endDate=2018-01-17T00:00:00Z\n",
      "https://argovis-api.colorado.edu/timeseries/noaasst?data=sst&box=[[-50.5,+35.5],+[-45.5,+40.5]]&startDate=2018-01-01T00:00:00Z&endDate=2018-01-17T00:00:00Z\n",
      "https://argovis-api.colorado.edu/timeseries/noaasst?data=sst&box=[[-55.5,+35.5],+[-45.5,+40.5]]&startDate=2018-01-01T00:00:00Z&endDate=2018-01-17T00:00:00Z&compression=minimal\n",
      "https://argovis-api.colorado.edu/timeseries/meta?id=noaasst\n",
      ">>>>>>>>> timeseries/copernicussla sla, Atlantic 2018-01-01 to 2018-01-17\n",
      "https://argovis-api.colorado.edu/timeseries/copernicussla?data=sla,ugos,vgos&box=[[-55.5,+35.5],+[-50.5,+40.5]]&startDate=2018-01-01T00:00:00Z&endDate=2018-01-17T00:00:00Z\n",
      "https://argovis-api.colorado.edu/timeseries/copernicussla?data=sla,ugos,vgos&box=[[-50.5,+35.5],+[-45.5,+40.5]]&startDate=2018-01-01T00:00:00Z&endDate=2018-01-17T00:00:00Z\n"
     ]
    }
   ],
   "source": [
    "# let's retrieve the data of interest\n",
    "api_output_formatted_list = get_api_output_formatted_list_1var_for_regions_and_timeranges(selection_params=selection_params,API_KEY=API_KEY)\n"
   ]
  },
  {
   "cell_type": "code",
   "execution_count": null,
   "id": "f19182a1",
   "metadata": {},
   "outputs": [],
   "source": [
    "print(api_output_formatted_list[0].keys())\n",
    "\n",
    "api_output_formatted_list[0][list(api_output_formatted_list[0].keys())[0]]"
   ]
  },
  {
   "cell_type": "code",
   "execution_count": null,
   "id": "41e95071",
   "metadata": {},
   "outputs": [],
   "source": [
    "# for i in api_output_formatted_list:\n",
    "#     for j in i.keys():\n",
    "#         print(i[j]['data_xarray'])\n",
    "#         print(i[j]['data_units'])"
   ]
  },
  {
   "cell_type": "code",
   "execution_count": null,
   "id": "86ebaf16",
   "metadata": {},
   "outputs": [],
   "source": [
    "# for each product, plot the first time step for the first level\n",
    "api_output_formatted_list_1var_plot_map(api_output_formatted_list,ilev=0,itime=0)  \n"
   ]
  },
  {
   "cell_type": "code",
   "execution_count": null,
   "id": "0d1c6fd2",
   "metadata": {},
   "outputs": [],
   "source": [
    "# plot the time mean for the first level\n",
    "api_output_formatted_list_1var_plot_map(api_output_formatted_list,ilev=0,itime=[])  \n"
   ]
  },
  {
   "cell_type": "code",
   "execution_count": null,
   "id": "8b9b4321",
   "metadata": {},
   "outputs": [],
   "source": [
    "# other options not yet included:\n",
    "# for each collection, indicate the colormap to use, and use it in the maps"
   ]
  },
  {
   "cell_type": "code",
   "execution_count": null,
   "id": "12e28768",
   "metadata": {},
   "outputs": [],
   "source": []
  },
  {
   "cell_type": "code",
   "execution_count": null,
   "id": "31b5a561",
   "metadata": {},
   "outputs": [],
   "source": []
  },
  {
   "cell_type": "code",
   "execution_count": null,
   "id": "56ca66ba",
   "metadata": {},
   "outputs": [],
   "source": []
  },
  {
   "cell_type": "code",
   "execution_count": null,
   "id": "b372a682",
   "metadata": {},
   "outputs": [],
   "source": []
  },
  {
   "cell_type": "code",
   "execution_count": null,
   "id": "909523cd",
   "metadata": {},
   "outputs": [],
   "source": []
  },
  {
   "cell_type": "code",
   "execution_count": null,
   "id": "97edfe71",
   "metadata": {},
   "outputs": [],
   "source": []
  },
  {
   "cell_type": "code",
   "execution_count": null,
   "id": "dce3765f",
   "metadata": {},
   "outputs": [],
   "source": []
  },
  {
   "cell_type": "code",
   "execution_count": null,
   "id": "95eb5b2c",
   "metadata": {},
   "outputs": [],
   "source": []
  },
  {
   "cell_type": "code",
   "execution_count": null,
   "id": "608d93ae",
   "metadata": {},
   "outputs": [],
   "source": []
  },
  {
   "cell_type": "code",
   "execution_count": null,
   "id": "0490fa99",
   "metadata": {},
   "outputs": [],
   "source": []
  },
  {
   "cell_type": "code",
   "execution_count": null,
   "id": "629f6073",
   "metadata": {},
   "outputs": [],
   "source": []
  },
  {
   "cell_type": "code",
   "execution_count": null,
   "id": "f04466a7",
   "metadata": {},
   "outputs": [],
   "source": []
  },
  {
   "cell_type": "code",
   "execution_count": null,
   "id": "c69919dd",
   "metadata": {},
   "outputs": [],
   "source": []
  },
  {
   "cell_type": "code",
   "execution_count": null,
   "id": "985c93b0",
   "metadata": {},
   "outputs": [],
   "source": []
  },
  {
   "cell_type": "code",
   "execution_count": null,
   "id": "04da8d24",
   "metadata": {},
   "outputs": [],
   "source": []
  }
 ],
 "metadata": {
  "kernelspec": {
   "display_name": "argovis_demos",
   "language": "python",
   "name": "argovis_demos"
  },
  "language_info": {
   "codemirror_mode": {
    "name": "ipython",
    "version": 3
   },
   "file_extension": ".py",
   "mimetype": "text/x-python",
   "name": "python",
   "nbconvert_exporter": "python",
   "pygments_lexer": "ipython3",
   "version": "3.9.13"
  },
  "toc": {
   "base_numbering": 1,
   "nav_menu": {},
   "number_sections": true,
   "sideBar": true,
   "skip_h1_title": false,
   "title_cell": "Table of Contents",
   "title_sidebar": "Contents",
   "toc_cell": false,
   "toc_position": {},
   "toc_section_display": true,
   "toc_window_display": false
  }
 },
 "nbformat": 4,
 "nbformat_minor": 5
}
